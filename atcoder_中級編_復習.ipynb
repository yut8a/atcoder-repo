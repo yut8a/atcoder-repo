{
 "cells": [
  {
   "cell_type": "markdown",
   "metadata": {},
   "source": [
    "abc 097B"
   ]
  },
  {
   "cell_type": "code",
   "execution_count": 5,
   "metadata": {},
   "outputs": [
    {
     "name": "stdout",
     "output_type": "stream",
     "text": [
      "1 0\n",
      "1\n",
      "1 1\n",
      "1\n",
      "1 2\n",
      "1\n",
      "1 3\n",
      "1\n",
      "1 4\n",
      "1\n",
      "1 5\n",
      "1\n",
      "1 6\n",
      "1\n",
      "1 7\n",
      "1\n",
      "1 8\n",
      "1\n",
      "1 9\n",
      "1\n",
      "1 10\n",
      "1\n",
      "2 0\n",
      "1\n",
      "2 1\n",
      "2\n",
      "2 2\n",
      "4\n",
      "2 3\n",
      "8\n",
      "3 0\n",
      "1\n",
      "3 1\n",
      "3\n",
      "3 2\n",
      "9\n",
      "4 0\n",
      "1\n",
      "4 1\n",
      "4\n",
      "5 0\n",
      "1\n",
      "5 1\n",
      "5\n",
      "6 0\n",
      "1\n",
      "6 1\n",
      "6\n",
      "7 0\n",
      "1\n",
      "7 1\n",
      "7\n",
      "8 0\n",
      "1\n",
      "8 1\n",
      "8\n",
      "9 0\n",
      "1\n",
      "9 1\n",
      "9\n",
      "10 0\n",
      "1\n",
      "10 1\n",
      "10\n",
      "11 0\n",
      "1\n",
      "12 0\n",
      "1\n",
      "13 0\n",
      "1\n",
      "14 0\n",
      "1\n",
      "15 0\n",
      "1\n",
      "16 0\n",
      "1\n",
      "17 0\n",
      "1\n",
      "18 0\n",
      "1\n",
      "19 0\n",
      "1\n",
      "20 0\n",
      "1\n",
      "21 0\n",
      "1\n",
      "22 0\n",
      "1\n",
      "23 0\n",
      "1\n",
      "24 0\n",
      "1\n",
      "25 0\n",
      "1\n",
      "26 0\n",
      "1\n",
      "27 0\n",
      "1\n",
      "28 0\n",
      "1\n",
      "29 0\n",
      "1\n",
      "30 0\n",
      "1\n",
      "31 0\n",
      "1\n",
      "10\n"
     ]
    }
   ],
   "source": [
    "X = int(input())\n",
    "p = [2,3,4,5,6,7,8,9,10]\n",
    "ans = 0\n",
    "for i in range(1,32):\n",
    "    for j in p:\n",
    "        if pow(i,j)<=X:\n",
    "            ans = max(pow(i,j),ans)\n",
    "print(ans)"
   ]
  },
  {
   "cell_type": "code",
   "execution_count": 3,
   "metadata": {},
   "outputs": [
    {
     "data": {
      "text/plain": [
       "1024"
      ]
     },
     "execution_count": 3,
     "metadata": {},
     "output_type": "execute_result"
    }
   ],
   "source": []
  },
  {
   "attachments": {},
   "cell_type": "markdown",
   "metadata": {},
   "source": [
    "ABC 099B"
   ]
  },
  {
   "cell_type": "code",
   "execution_count": null,
   "metadata": {},
   "outputs": [],
   "source": [
    "a,b = map(int,input().split())\n",
    "h = 0\n",
    "for i in range(b-a):\n",
    "    h+=i\n",
    "print(h-a)"
   ]
  },
  {
   "cell_type": "code",
   "execution_count": null,
   "metadata": {},
   "outputs": [],
   "source": []
  }
 ],
 "metadata": {
  "kernelspec": {
   "display_name": "Python 3",
   "language": "python",
   "name": "python3"
  },
  "language_info": {
   "codemirror_mode": {
    "name": "ipython",
    "version": 3
   },
   "file_extension": ".py",
   "mimetype": "text/x-python",
   "name": "python",
   "nbconvert_exporter": "python",
   "pygments_lexer": "ipython3",
   "version": "3.10.9"
  },
  "orig_nbformat": 4,
  "vscode": {
   "interpreter": {
    "hash": "aae2ebd738fb503f79c3d109fe81c29ed11ca24bff9da6d819743b78998e72b9"
   }
  }
 },
 "nbformat": 4,
 "nbformat_minor": 2
}
