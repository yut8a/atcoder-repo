{
 "cells": [
  {
   "cell_type": "markdown",
   "metadata": {},
   "source": [
    "abc 271 C"
   ]
  },
  {
   "cell_type": "code",
   "execution_count": null,
   "metadata": {},
   "outputs": [],
   "source": [
    "N = int(input())\n",
    "A = list(map(int,input().split()))\n",
    "A_sort = sorted(A)\n",
    "len_A = N\n",
    "count=0\n",
    "for i in range(N):\n",
    "    if i+1==A_sort[i]:\n",
    "        count+=1\n",
    "        len_A-=1\n",
    "    else:\n",
    "        len_A-=2\n",
    "        A_sort.insert(i,i+1)\n",
    "        if len_A<=0:\n",
    "            break\n",
    "        count+=1\n",
    "print(count)      "
   ]
  },
  {
   "cell_type": "code",
   "execution_count": 1,
   "metadata": {},
   "outputs": [
    {
     "ename": "KeyboardInterrupt",
     "evalue": "",
     "output_type": "error",
     "traceback": [
      "\u001b[1;31m---------------------------------------------------------------------------\u001b[0m",
      "\u001b[1;31mKeyboardInterrupt\u001b[0m                         Traceback (most recent call last)",
      "Cell \u001b[1;32mIn [1], line 17\u001b[0m\n\u001b[0;32m     15\u001b[0m \u001b[38;5;28;01mwhile\u001b[39;00m left \u001b[38;5;241m<\u001b[39m right:\n\u001b[0;32m     16\u001b[0m     mid \u001b[38;5;241m=\u001b[39m (left\u001b[38;5;241m+\u001b[39mright)\u001b[38;5;241m/\u001b[39m\u001b[38;5;241m/\u001b[39m\u001b[38;5;241m2\u001b[39m\n\u001b[1;32m---> 17\u001b[0m     \u001b[38;5;28;01mif\u001b[39;00m \u001b[43mtf\u001b[49m\u001b[43m(\u001b[49m\u001b[43mmid\u001b[49m\u001b[43m)\u001b[49m:\n\u001b[0;32m     18\u001b[0m         left\u001b[38;5;241m=\u001b[39mmid\n\u001b[0;32m     19\u001b[0m     \u001b[38;5;28;01melse\u001b[39;00m:\n",
      "Cell \u001b[1;32mIn [1], line 9\u001b[0m, in \u001b[0;36mtf\u001b[1;34m(x)\u001b[0m\n\u001b[0;32m      7\u001b[0m \u001b[38;5;28;01mfor\u001b[39;00m i \u001b[38;5;129;01min\u001b[39;00m \u001b[38;5;28mrange\u001b[39m(\u001b[38;5;241m1\u001b[39m,N\u001b[38;5;241m+\u001b[39m\u001b[38;5;241m1\u001b[39m):\n\u001b[0;32m      8\u001b[0m     \u001b[38;5;28;01mif\u001b[39;00m i \u001b[38;5;129;01min\u001b[39;00m S \u001b[38;5;129;01mand\u001b[39;00m i\u001b[38;5;241m<\u001b[39m\u001b[38;5;241m=\u001b[39mx:\n\u001b[1;32m----> 9\u001b[0m         rem\u001b[38;5;241m+\u001b[39m\u001b[38;5;241m=\u001b[39m\u001b[38;5;241m1\u001b[39m\n\u001b[0;32m     10\u001b[0m     \u001b[38;5;28;01melse\u001b[39;00m:\n\u001b[0;32m     11\u001b[0m         unused\u001b[38;5;241m+\u001b[39m\u001b[38;5;241m=\u001b[39m\u001b[38;5;241m1\u001b[39m\n",
      "\u001b[1;31mKeyboardInterrupt\u001b[0m: "
     ]
    }
   ],
   "source": [
    "N= int(input())\n",
    "A = list(map(int,input().split()))\n",
    "S = set(A)\n",
    "\n",
    "def tf(x):\n",
    "    rem,unused = 0,0\n",
    "    for i in range(1,N+1):\n",
    "        if i in S and i<=x:\n",
    "            rem+=1\n",
    "        else:\n",
    "            unused+=1\n",
    "    return rem+unused//2>=x\n",
    "\n",
    "left,right = 0,N\n",
    "while left <= right:\n",
    "    mid = (left+right)//2\n",
    "    if tf(mid):\n",
    "        left=mid +1\n",
    "    else:\n",
    "        right=mid -1\n",
    "print(left-1)\n",
    "\n"
   ]
  },
  {
   "cell_type": "code",
   "execution_count": null,
   "metadata": {},
   "outputs": [],
   "source": [
    "#自然数の最大を求めるプログラム\n",
    "def integer_squareroot(x):\n",
    "    imin = 0\n",
    "    imax = x\n",
    "    \n",
    "    while imin <= imax:\n",
    "        imid = (imin + imax)// 2\n",
    "        imid_squared = imid**2\n",
    "        if imid_squared <= x:\n",
    "            imin = imid +1\n",
    "        else:\n",
    "            imax = imid -1\n",
    "    return imin -1\n"
   ]
  },
  {
   "cell_type": "code",
   "execution_count": 2,
   "metadata": {},
   "outputs": [
    {
     "name": "stdout",
     "output_type": "stream",
     "text": [
      "3\n",
      "0b1\n",
      "0b10\n"
     ]
    }
   ],
   "source": [
    "A,B = map(int,input().split())\n",
    "print(A | B)\n",
    "print(bin(A))\n",
    "print(bin(B))"
   ]
  },
  {
   "cell_type": "code",
   "execution_count": null,
   "metadata": {},
   "outputs": [],
   "source": [
    "N = int(input())\n",
    "A = list(map(int,input().split()))\n",
    "ans = 0\n",
    "for i in A:\n",
    "    ans +=i\n",
    "print(ans)"
   ]
  },
  {
   "cell_type": "code",
   "execution_count": null,
   "metadata": {},
   "outputs": [],
   "source": [
    "N,M = map(int,input().split())\n",
    "G = [[]for i in range(N)]\n",
    "for i in range(M):\n",
    "    kx = list(map(int,input().split()))\n",
    "    for l in range(kx[0]):\n",
    "        G[]\n",
    "\n"
   ]
  },
  {
   "cell_type": "code",
   "execution_count": null,
   "metadata": {},
   "outputs": [],
   "source": [
    "N,M = map(int,input().split())\n",
    "G = [[]for i in range(N)]\n",
    "A =set()\n",
    "flag = True\n",
    "for i in range(M):\n",
    "    kx = list(map(int,input().split()))\n",
    "    for j in kx:\n",
    "        A.add(j)\n",
    "        for l in kx:\n",
    "            if i!=j:   \n",
    "                G[i][j]=1\n",
    "for i in A:\n",
    "    for j in A:\n",
    "        if i==j:\n",
    "            continue\n",
    "        if G[i][j]!=1:\n",
    "            flag - False\n",
    "print(\"Yes\"if flag else \"No\" )"
   ]
  },
  {
   "cell_type": "code",
   "execution_count": null,
   "metadata": {},
   "outputs": [],
   "source": [
    "N,M = map(int,input().split())\n",
    "G = [[]for i in range(N)]\n",
    "for i in range(M):\n",
    "    kx = list(map(int,input().split()))\n",
    "    "
   ]
  },
  {
   "cell_type": "code",
   "execution_count": 6,
   "metadata": {},
   "outputs": [
    {
     "ename": "IndexError",
     "evalue": "list assignment index out of range",
     "output_type": "error",
     "traceback": [
      "\u001b[1;31m---------------------------------------------------------------------------\u001b[0m",
      "\u001b[1;31mIndexError\u001b[0m                                Traceback (most recent call last)",
      "Cell \u001b[1;32mIn [6], line 3\u001b[0m\n\u001b[0;32m      1\u001b[0m G \u001b[38;5;241m=\u001b[39m [[]\u001b[38;5;28;01mfor\u001b[39;00m i \u001b[38;5;129;01min\u001b[39;00m \u001b[38;5;28mrange\u001b[39m(\u001b[38;5;241m3\u001b[39m)]\n\u001b[0;32m      2\u001b[0m A \u001b[38;5;241m=\u001b[39m\u001b[38;5;28mset\u001b[39m()\n\u001b[1;32m----> 3\u001b[0m \u001b[43mG\u001b[49m\u001b[43m[\u001b[49m\u001b[38;5;241;43m0\u001b[39;49m\u001b[43m]\u001b[49m\u001b[43m[\u001b[49m\u001b[38;5;241;43m1\u001b[39;49m\u001b[43m]\u001b[49m\u001b[38;5;241m=\u001b[39m\u001b[38;5;241m1\u001b[39m\n\u001b[0;32m      4\u001b[0m G[\u001b[38;5;241m1\u001b[39m]\u001b[38;5;241m.\u001b[39mappend(\u001b[38;5;241m2\u001b[39m)\n",
      "\u001b[1;31mIndexError\u001b[0m: list assignment index out of range"
     ]
    }
   ],
   "source": [
    "G = [[]for i in range(3)]\n",
    "A =set()\n",
    "G[0][1]=1\n",
    "G[1].append(2)"
   ]
  },
  {
   "cell_type": "code",
   "execution_count": 2,
   "metadata": {},
   "outputs": [
    {
     "data": {
      "text/plain": [
       "[[1], [], []]"
      ]
     },
     "execution_count": 2,
     "metadata": {},
     "output_type": "execute_result"
    }
   ],
   "source": [
    "G"
   ]
  },
  {
   "cell_type": "code",
   "execution_count": 1,
   "metadata": {},
   "outputs": [
    {
     "name": "stdout",
     "output_type": "stream",
     "text": [
      "1010000000\n"
     ]
    }
   ],
   "source": [
    "N = int(input())\n",
    "A = list(map(int,input().split()))\n",
    "A_sort = sorted(A,reverse=True)\n",
    "B_sort = [i%2 for i in A_sort]\n",
    "B = []\n",
    "count_a = 0\n",
    "C = []\n",
    "count_b = 0\n",
    "ans = 0\n",
    "for i in range(len(A_sort)):\n",
    "    if B_sort[i]==0:\n",
    "        B.append(i)\n",
    "        count_a +=1\n",
    "        if count_a==2:\n",
    "            break\n",
    "    elif B_sort[i]==1:\n",
    "        C.append(i)\n",
    "        count_b +=1\n",
    "        if count_b==2:\n",
    "            break\n",
    "if count_a ==2:\n",
    "    for i in B:\n",
    "        ans +=A_sort[i]\n",
    "elif count_b == 2:\n",
    "    for i in C:\n",
    "        ans +=A_sort[i]\n",
    "\n",
    "print(ans if (count_a==2 or count_b==2) else -1)"
   ]
  },
  {
   "cell_type": "code",
   "execution_count": null,
   "metadata": {},
   "outputs": [],
   "source": [
    "N = int(input())\n",
    "A = list(map(int,input().split()))\n",
    "A_sort = sorted(A,reverse=True)\n",
    "odd = list()\n",
    "even = list()\n",
    "for i in range(len(A_sort)):\n",
    "    if A_sort[i]%2 == 0:\n",
    "        even.append(A_sort[i])\n",
    "    else:\n",
    "        odd.append(A_sort[i])\n",
    "        \n",
    "ans = -1\n",
    "if len(odd) >= 2:\n",
    "    ans = max(ans,(sum(odd[:2])))\n",
    "    \n",
    "if len(even) >= 2:\n",
    "        ans = max(ans, sum(even[:2]))\n",
    "print(ans)"
   ]
  },
  {
   "cell_type": "code",
   "execution_count": 29,
   "metadata": {},
   "outputs": [
    {
     "ename": "IndexError",
     "evalue": "list assignment index out of range",
     "output_type": "error",
     "traceback": [
      "\u001b[1;31m---------------------------------------------------------------------------\u001b[0m",
      "\u001b[1;31mIndexError\u001b[0m                                Traceback (most recent call last)",
      "Cell \u001b[1;32mIn [29], line 8\u001b[0m\n\u001b[0;32m      6\u001b[0m     \u001b[39mfor\u001b[39;00m j \u001b[39min\u001b[39;00m kx[\u001b[39m1\u001b[39m:]:\n\u001b[0;32m      7\u001b[0m         \u001b[39mfor\u001b[39;00m l \u001b[39min\u001b[39;00m kx[\u001b[39m1\u001b[39m:]:\n\u001b[1;32m----> 8\u001b[0m             G[j][l] \u001b[39m=\u001b[39m \u001b[39mTrue\u001b[39;00m\n\u001b[0;32m      9\u001b[0m G\n",
      "\u001b[1;31mIndexError\u001b[0m: list assignment index out of range"
     ]
    }
   ],
   "source": [
    "N,M = map(int,input().split())\n",
    "G = [[]for i in range(N)]\n",
    "A = set()\n",
    "for i in range(M):\n",
    "    kx = list(map(int,input().split()))\n",
    "    for j in kx[1:]:\n",
    "        for l in kx[1:]:\n",
    "            G[j][l] = True\n",
    "G\n",
    "        "
   ]
  },
  {
   "cell_type": "code",
   "execution_count": 34,
   "metadata": {},
   "outputs": [
    {
     "name": "stdout",
     "output_type": "stream",
     "text": [
      "Yes\n"
     ]
    }
   ],
   "source": [
    "N,M = map(int,input().split())\n",
    "kx = []\n",
    "flag = True\n",
    "for _  in range(M):\n",
    "    x = list(map(int,input().split()))\n",
    "    kx.append(x[1:])\n",
    "\n",
    "for n in range(1,N+1):\n",
    "    A = set()\n",
    "    for x in kx:\n",
    "        if n in set(x):\n",
    "            for i in x:\n",
    "                A.add(i)\n",
    "    if len(A) !=N:\n",
    "        flag = False\n",
    "print(\"Yes\" if flag else \"No\")"
   ]
  },
  {
   "cell_type": "code",
   "execution_count": 40,
   "metadata": {},
   "outputs": [
    {
     "name": "stdout",
     "output_type": "stream",
     "text": [
      "1 2\n",
      "1 3\n",
      "2 3\n"
     ]
    }
   ],
   "source": [
    "from itertools import combinations\n",
    "\n",
    "comb = combinations([1, 2, 3], 2)\n",
    "for i,j in list(comb):\n",
    "    print (i,j)\n"
   ]
  },
  {
   "cell_type": "code",
   "execution_count": 58,
   "metadata": {},
   "outputs": [
    {
     "name": "stdout",
     "output_type": "stream",
     "text": [
      "Yes\n"
     ]
    }
   ],
   "source": [
    "from itertools import combinations\n",
    "\n",
    "N,M = map(int,input().split())\n",
    "G = [[]for i in range(N)]\n",
    "kx = []\n",
    "A= set()\n",
    "flag = True\n",
    "for _  in range(M):\n",
    "    x = list(map(int,input().split()))\n",
    "    kx.append(x[1:])\n",
    "for i in range(M):\n",
    "    comb = combinations(kx[i],2)\n",
    "    for u,v in list(comb):\n",
    "        A.add(u)\n",
    "        A.add(v)\n",
    "        u -=1\n",
    "        v -=1\n",
    "        G[u].append(v)\n",
    "        G[v].append(u)\n",
    "for i in G:\n",
    "    if len(i)==0 or len(set(i))!=len(A)-1:\n",
    "        flag = False\n",
    "print(\"Yes\" if flag else \"No\")"
   ]
  },
  {
   "cell_type": "code",
   "execution_count": 11,
   "metadata": {},
   "outputs": [
    {
     "name": "stdout",
     "output_type": "stream",
     "text": [
      "Yes\n"
     ]
    }
   ],
   "source": [
    "from itertools import combinations\n",
    " \n",
    "N,M = map(int,input().split())\n",
    "kx = []\n",
    "A= set()\n",
    "B = set()\n",
    "flag = True\n",
    "for _  in range(M):\n",
    "    x = list(map(int,input().split()))\n",
    "    kx.append(x[1:])\n",
    "for i in range(M):\n",
    "    comb = combinations(kx[i],2)\n",
    "    for u,v in list(comb):\n",
    "        A.add(u)\n",
    "        A.add(v)\n",
    "        B.add((u,v))\n",
    "if sorted(list(combinations(list(A),2)))!=sorted(list(B)):\n",
    "    flag = False\n",
    "if \n",
    "print(\"Yes\" if flag else \"No\")"
   ]
  },
  {
   "cell_type": "code",
   "execution_count": 10,
   "metadata": {},
   "outputs": [
    {
     "ename": "SyntaxError",
     "evalue": "unmatched ')' (1884887813.py, line 17)",
     "output_type": "error",
     "traceback": [
      "\u001b[1;36m  Cell \u001b[1;32mIn [10], line 17\u001b[1;36m\u001b[0m\n\u001b[1;33m    if list(combinations(list(A),2)))!=len(list(B)):\u001b[0m\n\u001b[1;37m                                    ^\u001b[0m\n\u001b[1;31mSyntaxError\u001b[0m\u001b[1;31m:\u001b[0m unmatched ')'\n"
     ]
    }
   ],
   "source": [
    "N,M"
   ]
  },
  {
   "cell_type": "code",
   "execution_count": 80,
   "metadata": {},
   "outputs": [
    {
     "data": {
      "text/plain": [
       "True"
      ]
     },
     "execution_count": 80,
     "metadata": {},
     "output_type": "execute_result"
    }
   ],
   "source": [
    "sorted(list(B))==sorted(list(combinations(list(A),2)))"
   ]
  },
  {
   "cell_type": "code",
   "execution_count": 9,
   "metadata": {},
   "outputs": [
    {
     "name": "stdout",
     "output_type": "stream",
     "text": [
      "No\n"
     ]
    }
   ],
   "source": [
    "def Int():\n",
    "    return int(input())\n",
    "def Map():\n",
    "    return map(int,input().split())\n",
    "def List():\n",
    "    return list(map(int,input().split()))\n",
    "\n",
    "N,M = Map()\n",
    "s = set()\n",
    "for _ in range(M):\n",
    "    KX = List()\n",
    "    K = KX[0]\n",
    "    X = KX[1:]\n",
    "    for i in range(K):\n",
    "        for j in range(i+1,K):\n",
    "            s.add((X[i],X[j]))\n",
    "            s.add((X[j],X[i]))\n",
    " \n",
    "flag = True\n",
    "for i in range(N):\n",
    "    for j in range(i+1,N):\n",
    "        if (i+1,j+1) not in s:\n",
    "            flag = False\n",
    "        if (j+1,i+1) not in s:\n",
    "            flag = False\n",
    "if flag:\n",
    "    print(\"Yes\")\n",
    "else:\n",
    "    print(\"No\")"
   ]
  },
  {
   "cell_type": "code",
   "execution_count": 3,
   "metadata": {},
   "outputs": [
    {
     "data": {
      "text/plain": [
       "{(1, 2), (1, 3), (2, 1), (2, 3), (3, 1), (3, 2)}"
      ]
     },
     "execution_count": 3,
     "metadata": {},
     "output_type": "execute_result"
    }
   ],
   "source": [
    "s"
   ]
  },
  {
   "cell_type": "code",
   "execution_count": null,
   "metadata": {},
   "outputs": [],
   "source": [
    "N = int(input())\n",
    "if N==0:\n",
    "    print(1)\n",
    "else:\n",
    "    "
   ]
  },
  {
   "cell_type": "code",
   "execution_count": 1,
   "metadata": {},
   "outputs": [],
   "source": [
    "def total(N):\n",
    "    if N==0:\n",
    "        return total(1)\n",
    "    return N*total(N-1)"
   ]
  },
  {
   "cell_type": "code",
   "execution_count": 2,
   "metadata": {},
   "outputs": [
    {
     "ename": "",
     "evalue": "",
     "output_type": "error",
     "traceback": [
      "\u001b[1;31mCanceled future for execute_request message before replies were done"
     ]
    },
    {
     "ename": "",
     "evalue": "",
     "output_type": "error",
     "traceback": [
      "\u001b[1;31m現在のセルまたは前のセルでコードを実行中に、カーネルがクラッシュしました。エラーの原因を特定するには、セル内のコードを確認してください。詳細については、<a href='https://aka.ms/vscodeJupyterKernelCrash'>こちら</a> をクリックしてください。さらなる詳細については、Jupyter [log] (command:jupyter.viewOutput) を参照してください。"
     ]
    }
   ],
   "source": [
    "total(2)"
   ]
  },
  {
   "cell_type": "code",
   "execution_count": 1,
   "metadata": {},
   "outputs": [
    {
     "name": "stdout",
     "output_type": "stream",
     "text": [
      "6\n"
     ]
    }
   ],
   "source": [
    "N = int(input())\n",
    "def kaijyo(n):\n",
    "\tif n == 1 or n==0:\n",
    "\t\treturn 1\n",
    "\telse:\n",
    "\t\treturn n * kaijyo(n-1)\n",
    "print(kaijyo(N))\n"
   ]
  },
  {
   "cell_type": "code",
   "execution_count": 5,
   "metadata": {},
   "outputs": [
    {
     "data": {
      "text/plain": [
       "True"
      ]
     },
     "execution_count": 5,
     "metadata": {},
     "output_type": "execute_result"
    }
   ],
   "source": [
    "a = \"12\"\n",
    "a[1]==str(2)"
   ]
  },
  {
   "cell_type": "code",
   "execution_count": 19,
   "metadata": {},
   "outputs": [
    {
     "ename": "TypeError",
     "evalue": "'str' object does not support item assignment",
     "output_type": "error",
     "traceback": [
      "\u001b[1;31m---------------------------------------------------------------------------\u001b[0m",
      "\u001b[1;31mTypeError\u001b[0m                                 Traceback (most recent call last)",
      "Cell \u001b[1;32mIn [19], line 8\u001b[0m\n\u001b[0;32m      6\u001b[0m         x_rev[i\u001b[39m+\u001b[39m\u001b[39m1\u001b[39m]\u001b[39m=\u001b[39m\u001b[39m\"\u001b[39m\u001b[39m1\u001b[39m\u001b[39m\"\u001b[39m\n\u001b[0;32m      7\u001b[0m     \u001b[39melse\u001b[39;00m:\n\u001b[1;32m----> 8\u001b[0m         x_rev[i]\u001b[39m=\u001b[39m\u001b[39m\"\u001b[39m\u001b[39m0\u001b[39m\u001b[39m\"\u001b[39m\n\u001b[0;32m      9\u001b[0m ans \u001b[39m=\u001b[39m x_rev[::\u001b[39m-\u001b[39m\u001b[39m1\u001b[39m]\n\u001b[0;32m     10\u001b[0m \u001b[39mprint\u001b[39m(ans)\n",
      "\u001b[1;31mTypeError\u001b[0m: 'str' object does not support item assignment"
     ]
    }
   ],
   "source": [
    "x,k = map(str,input().split())\n",
    "k = int(k)\n",
    "x_rev = x[::-1]\n",
    "for i in range(k-1):\n",
    "    if int(x_rev[i])>=5:\n",
    "        x_rev[i+1]=\"1\"\n",
    "    else:\n",
    "        x_rev[i]=\"0\"\n",
    "ans = x_rev[::-1]\n",
    "print(ans)\n"
   ]
  },
  {
   "cell_type": "code",
   "execution_count": 13,
   "metadata": {},
   "outputs": [
    {
     "data": {
      "text/plain": [
       "'3'"
      ]
     },
     "execution_count": 13,
     "metadata": {},
     "output_type": "execute_result"
    }
   ],
   "source": [
    "str(1+2)"
   ]
  },
  {
   "cell_type": "code",
   "execution_count": 36,
   "metadata": {},
   "outputs": [
    {
     "ename": "ValueError",
     "evalue": "not enough values to unpack (expected 2, got 0)",
     "output_type": "error",
     "traceback": [
      "\u001b[1;31m---------------------------------------------------------------------------\u001b[0m",
      "\u001b[1;31mValueError\u001b[0m                                Traceback (most recent call last)",
      "Cell \u001b[1;32mIn [36], line 1\u001b[0m\n\u001b[1;32m----> 1\u001b[0m x,k \u001b[39m=\u001b[39m \u001b[39mmap\u001b[39m(\u001b[39mint\u001b[39m,\u001b[39minput\u001b[39m()\u001b[39m.\u001b[39msplit())\n\u001b[0;32m      2\u001b[0m i\u001b[39m=\u001b[39m\u001b[39m0\u001b[39m\n\u001b[0;32m      3\u001b[0m ans \u001b[39m=\u001b[39m[]\n",
      "\u001b[1;31mValueError\u001b[0m: not enough values to unpack (expected 2, got 0)"
     ]
    }
   ],
   "source": [
    "x,k = map(int,input().split())\n",
    "i=0\n",
    "ans =[]\n",
    "while i<k:\n",
    "    tmp = x%10\n",
    "    if tmp >=5:\n",
    "        x=x//10+1\n",
    "        ans.append(x*10**(i+1))\n",
    "    else:\n",
    "        x = x//10\n",
    "        ans.append(x*10**(i+1))\n",
    "    i+=1\n",
    "print(ans[k-1])"
   ]
  },
  {
   "cell_type": "code",
   "execution_count": 39,
   "metadata": {},
   "outputs": [
    {
     "data": {
      "text/plain": [
       "'b'"
      ]
     },
     "execution_count": 39,
     "metadata": {},
     "output_type": "execute_result"
    }
   ],
   "source": [
    "a = [[\"a\",\"b\"]]\n",
    "a[0][1]"
   ]
  },
  {
   "cell_type": "code",
   "execution_count": 45,
   "metadata": {},
   "outputs": [
    {
     "name": "stdout",
     "output_type": "stream",
     "text": [
      "3\n"
     ]
    },
    {
     "ename": "IndexError",
     "evalue": "list index out of range",
     "output_type": "error",
     "traceback": [
      "\u001b[1;31m---------------------------------------------------------------------------\u001b[0m",
      "\u001b[1;31mIndexError\u001b[0m                                Traceback (most recent call last)",
      "Cell \u001b[1;32mIn [45], line 9\u001b[0m\n\u001b[0;32m      7\u001b[0m     ans\u001b[39m.\u001b[39mappend([j,length])\n\u001b[0;32m      8\u001b[0m \u001b[39mfor\u001b[39;00m i \u001b[39min\u001b[39;00m A:\n\u001b[1;32m----> 9\u001b[0m     \u001b[39mprint\u001b[39m(ans[i][\u001b[39m1\u001b[39m])\n",
      "\u001b[1;31mIndexError\u001b[0m: list index out of range"
     ]
    }
   ],
   "source": [
    "N = int(input())\n",
    "A = list(map(int,input().split()))\n",
    "A_sort = sorted\n",
    "ans = []\n",
    "for i,j in enumerate(A_sort):\n",
    "    length = len(A_sort)-(i+1)\n",
    "    ans.append([j,length])\n",
    "for i in A:\n",
    "    print(ans[i][1])\n",
    "    "
   ]
  },
  {
   "cell_type": "code",
   "execution_count": 1,
   "metadata": {},
   "outputs": [
    {
     "data": {
      "text/plain": [
       "[[1, 3], [2, 2], [7, 1], [8, 0]]"
      ]
     },
     "execution_count": 1,
     "metadata": {},
     "output_type": "execute_result"
    }
   ],
   "source": [
    "N = int(input())\n",
    "A = list(map(int,input().split()))\n",
    "A_set = list(set(A))\n",
    "ans = []\n",
    "length = 0\n",
    "A_set.sort()\n",
    "count =0\n",
    "for i,j in enumerate(A_set):\n",
    "    length = len(A_set)- (i+1)\n",
    "    ans.append([j,length])\n",
    "ans.sort()\n",
    "\n",
    "k = [0]*N\n",
    "for i in A:\n",
    "    \n",
    "    \n"
   ]
  },
  {
   "cell_type": "code",
   "execution_count": 5,
   "metadata": {},
   "outputs": [],
   "source": [
    "N = int(input())\n",
    "A = list(map(int,input().split()))\n",
    "A.sort()\n",
    "A_set = set(A)\n",
    "count = [0]*N\n",
    "for i in range(N):\n",
    "    if A[i] in A_set:\n",
    "        A_set.remove(A[i])\n",
    "    count[len(A_set)]+=1\n",
    "    \n",
    "for i in range(N):\n",
    "    print(count[i])\n",
    "    "
   ]
  },
  {
   "cell_type": "code",
   "execution_count": 6,
   "metadata": {},
   "outputs": [
    {
     "data": {
      "text/plain": [
       "{1, 2, 7, 8}"
      ]
     },
     "execution_count": 6,
     "metadata": {},
     "output_type": "execute_result"
    }
   ],
   "source": [
    "A_set\n"
   ]
  },
  {
   "cell_type": "code",
   "execution_count": 67,
   "metadata": {},
   "outputs": [
    {
     "name": "stdout",
     "output_type": "stream",
     "text": [
      "8\n",
      "1\n",
      "2\n",
      "7\n"
     ]
    }
   ],
   "source": [
    "A_set\n",
    "for i in A_set:\n",
    "    print(i)"
   ]
  },
  {
   "cell_type": "code",
   "execution_count": 47,
   "metadata": {},
   "outputs": [
    {
     "data": {
      "text/plain": [
       "{1, 2, 3, 4, 6, 7, 8}"
      ]
     },
     "execution_count": 47,
     "metadata": {},
     "output_type": "execute_result"
    }
   ],
   "source": [
    "A = [1,3,4,2,3,6,8,7]\n",
    "set(A)"
   ]
  },
  {
   "cell_type": "code",
   "execution_count": null,
   "metadata": {},
   "outputs": [],
   "source": []
  },
  {
   "cell_type": "code",
   "execution_count": 9,
   "metadata": {},
   "outputs": [
    {
     "name": "stdout",
     "output_type": "stream",
     "text": [
      "0 8\n",
      "1 1\n",
      "2 2\n",
      "3 7\n"
     ]
    }
   ],
   "source": [
    "for i,j in enumerate(A_set):\n",
    "    print(i,j)"
   ]
  },
  {
   "cell_type": "code",
   "execution_count": 2,
   "metadata": {},
   "outputs": [
    {
     "name": "stdout",
     "output_type": "stream",
     "text": [
      "1.750\n"
     ]
    }
   ],
   "source": [
    "A,B =map(int,input().split())\n",
    "print('{:.3f}'.format(B/A))"
   ]
  },
  {
   "cell_type": "code",
   "execution_count": 11,
   "metadata": {},
   "outputs": [],
   "source": [
    "H,W = map(int,input().split())\n",
    "B = [0]*W\n",
    "for i in range(H):\n",
    "    A =input()\n",
    "    for j in range(W):\n",
    "        if A[j]==\"#\":\n",
    "            B[j]+=1\n",
    "for i in B:\n",
    "    print(i,sep=\"\\n\")\n"
   ]
  },
  {
   "cell_type": "code",
   "execution_count": 12,
   "metadata": {},
   "outputs": [
    {
     "data": {
      "text/plain": [
       "[4, 4, 0, 0]"
      ]
     },
     "execution_count": 12,
     "metadata": {},
     "output_type": "execute_result"
    }
   ],
   "source": [
    "B"
   ]
  },
  {
   "cell_type": "code",
   "execution_count": 14,
   "metadata": {},
   "outputs": [
    {
     "data": {
      "text/plain": [
       "[1, 2]"
      ]
     },
     "execution_count": 14,
     "metadata": {},
     "output_type": "execute_result"
    }
   ],
   "source": [
    "A_n = [1]\n",
    "A_n.append(2)\n",
    "A_n"
   ]
  },
  {
   "cell_type": "code",
   "execution_count": 37,
   "metadata": {},
   "outputs": [
    {
     "name": "stdout",
     "output_type": "stream",
     "text": [
      "0\n",
      "1\n",
      "1\n",
      "3\n",
      "3\n",
      "2\n",
      "2\n",
      "2\n",
      "2\n",
      "3\n",
      "3\n",
      "3\n",
      "3\n"
     ]
    }
   ],
   "source": [
    "N = int(input())\n",
    "A = list(map(int,input().split()))\n",
    "B = [1]\n",
    "for i in A:\n",
    "    B.append(2*i)\n",
    "    B.append(2*i+1)\n",
    "\n",
    "for i in range(2*N+1):\n",
    "    count = 0\n",
    "    if B[i]==1:\n",
    "        print(count)\n",
    "    else:\n",
    "        tmp = B[i]\n",
    "        while tmp>1:\n",
    "            tmp = tmp//2\n",
    "            count+=1\n",
    "        print(count)\n",
    "\n"
   ]
  },
  {
   "cell_type": "code",
   "execution_count": 42,
   "metadata": {},
   "outputs": [
    {
     "name": "stdout",
     "output_type": "stream",
     "text": [
      "0\n",
      "1\n",
      "1\n",
      "1\n",
      "2\n",
      "2\n",
      "2\n",
      "2\n",
      "2\n"
     ]
    }
   ],
   "source": [
    "N=int(input())\n",
    "A=list(map(int,input().split()))\n",
    "ans=[0]*(2*N+1)\n",
    "for i,a in enumerate(A):\n",
    "  ans[2*i+1]=ans[a-1]+1\n",
    "  ans[2*i+2]=ans[a-1]+1\n",
    "print(*ans,sep=\"\\n\")\n"
   ]
  },
  {
   "cell_type": "markdown",
   "metadata": {},
   "source": [
    "abc 277"
   ]
  },
  {
   "cell_type": "code",
   "execution_count": 1,
   "metadata": {},
   "outputs": [
    {
     "ename": "ValueError",
     "evalue": "not enough values to unpack (expected 2, got 1)",
     "output_type": "error",
     "traceback": [
      "\u001b[1;31m---------------------------------------------------------------------------\u001b[0m",
      "\u001b[1;31mValueError\u001b[0m                                Traceback (most recent call last)",
      "Cell \u001b[1;32mIn [1], line 1\u001b[0m\n\u001b[1;32m----> 1\u001b[0m N,X \u001b[39m=\u001b[39m \u001b[39mmap\u001b[39m(\u001b[39mint\u001b[39m,\u001b[39minput\u001b[39m()\u001b[39m.\u001b[39msplit())\n\u001b[0;32m      2\u001b[0m P \u001b[39m=\u001b[39m \u001b[39mlist\u001b[39m(\u001b[39mmap\u001b[39m(\u001b[39mint\u001b[39m,\u001b[39minput\u001b[39m()\u001b[39m.\u001b[39msplit()))\n\u001b[0;32m      4\u001b[0m \u001b[39mfor\u001b[39;00m i \u001b[39min\u001b[39;00m \u001b[39mrange\u001b[39m(N):\n",
      "\u001b[1;31mValueError\u001b[0m: not enough values to unpack (expected 2, got 1)"
     ]
    }
   ],
   "source": [
    "N,X = map(int,input().split())\n",
    "P = list(map(int,input().split()))\n",
    "\n",
    "for i in range(N):\n",
    "    if P[i]==X:\n",
    "        print(i+1)"
   ]
  },
  {
   "cell_type": "code",
   "execution_count": 4,
   "metadata": {},
   "outputs": [
    {
     "name": "stdout",
     "output_type": "stream",
     "text": [
      "No\n"
     ]
    }
   ],
   "source": [
    "N = int(input())\n",
    "a = []\n",
    "for i in range(N):\n",
    "    S = input()\n",
    "    if S[0]==\"H\" or S[0]==\"D\" or S[0]==\"C\" or S[0]==\"S\":\n",
    "        if S[1]==\"A\" or S[1]==\"2\" or S[1]==\"3\" or S[1]==\"4\" or S[1]==\"5\" or S[1]==\"6\" or S[1]==\"7\" or S[1]==\"8\" or S[1]==\"9\" or S[1]==\"T\" or S[1]==\"J\" or \\\n",
    "            S[1]==\"Q\" or S[1]==\"K\":\n",
    "                a.append(S)\n",
    "\n",
    "print(\"Yes\" if len(a)==N and len(set(a))==N else \"No\")"
   ]
  },
  {
   "cell_type": "code",
   "execution_count": 21,
   "metadata": {},
   "outputs": [],
   "source": [
    "N = int(input())\n",
    "a = [list(map(int,input().split())) for i in range(N)]\n"
   ]
  },
  {
   "cell_type": "code",
   "execution_count": 22,
   "metadata": {},
   "outputs": [
    {
     "data": {
      "text/plain": [
       "[[1, 4], [4, 3], [4, 10], [8, 3]]"
      ]
     },
     "execution_count": 22,
     "metadata": {},
     "output_type": "execute_result"
    }
   ],
   "source": [
    "a"
   ]
  },
  {
   "cell_type": "code",
   "execution_count": null,
   "metadata": {},
   "outputs": [],
   "source": []
  }
 ],
 "metadata": {
  "kernelspec": {
   "display_name": "Python 3.10.7 64-bit (microsoft store)",
   "language": "python",
   "name": "python3"
  },
  "language_info": {
   "codemirror_mode": {
    "name": "ipython",
    "version": 3
   },
   "file_extension": ".py",
   "mimetype": "text/x-python",
   "name": "python",
   "nbconvert_exporter": "python",
   "pygments_lexer": "ipython3",
   "version": "3.10.8"
  },
  "orig_nbformat": 4,
  "vscode": {
   "interpreter": {
    "hash": "aae2ebd738fb503f79c3d109fe81c29ed11ca24bff9da6d819743b78998e72b9"
   }
  }
 },
 "nbformat": 4,
 "nbformat_minor": 2
}
