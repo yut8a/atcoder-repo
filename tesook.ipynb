{
 "cells": [
  {
   "cell_type": "markdown",
   "metadata": {},
   "source": [
    "B01"
   ]
  },
  {
   "cell_type": "code",
   "execution_count": null,
   "metadata": {},
   "outputs": [],
   "source": [
    "a,b = map(int,input().split())\n",
    "print(a+b)"
   ]
  },
  {
   "cell_type": "markdown",
   "metadata": {},
   "source": [
    "B02"
   ]
  },
  {
   "cell_type": "code",
   "execution_count": 1,
   "metadata": {},
   "outputs": [
    {
     "name": "stdout",
     "output_type": "stream",
     "text": [
      "Yes\n"
     ]
    }
   ],
   "source": [
    "a,b = map(int,input().split())\n",
    "ans = False\n",
    "for i in range(a,b+1):\n",
    "    if i%100 ==0:\n",
    "        ans = True\n",
    "print(\"Yes\" if ans else \"No\")"
   ]
  },
  {
   "cell_type": "markdown",
   "metadata": {},
   "source": [
    "B03"
   ]
  },
  {
   "cell_type": "code",
   "execution_count": null,
   "metadata": {},
   "outputs": [],
   "source": [
    "N = int(input())\n",
    "A = list(map(int,input().split()))\n",
    "ans = False\n",
    "for i in range(N):\n",
    "    for j in range(i):\n",
    "        for l in range(j):\n",
    "            if A[i]+A[j]+A[l]==1000:\n",
    "                ans = True\n",
    "print(\"Yes\" if ans else \"No\")               "
   ]
  },
  {
   "cell_type": "markdown",
   "metadata": {},
   "source": [
    "B04"
   ]
  },
  {
   "cell_type": "code",
   "execution_count": 13,
   "metadata": {},
   "outputs": [],
   "source": [
    "def ten_to_two(N):\n",
    "    tmp = N\n",
    "    ans = \"\"\n",
    "    while tmp > 0:\n",
    "        amari = str(tmp % 2)\n",
    "        ans += amari\n",
    "        tmp //=2\n",
    "    return print(ans[::-1])\n",
    "        "
   ]
  },
  {
   "cell_type": "code",
   "execution_count": 15,
   "metadata": {},
   "outputs": [],
   "source": [
    "def two_to_ten(N):\n",
    "    ans = 0\n",
    "    n = str(N)\n",
    "    cnt = 0\n",
    "    for i in n[::-1]:\n",
    "        ans+=int(i)*2**cnt\n",
    "        cnt+=1\n",
    "    return ans\n",
    "        "
   ]
  },
  {
   "cell_type": "code",
   "execution_count": 14,
   "metadata": {},
   "outputs": [
    {
     "name": "stdout",
     "output_type": "stream",
     "text": [
      "1011010\n"
     ]
    }
   ],
   "source": [
    "ten_to_two(90)"
   ]
  },
  {
   "cell_type": "code",
   "execution_count": 17,
   "metadata": {},
   "outputs": [
    {
     "data": {
      "text/plain": [
       "90"
      ]
     },
     "execution_count": 17,
     "metadata": {},
     "output_type": "execute_result"
    }
   ],
   "source": [
    "two_to_ten(1011010)"
   ]
  },
  {
   "cell_type": "code",
   "execution_count": 3,
   "metadata": {},
   "outputs": [
    {
     "name": "stdout",
     "output_type": "stream",
     "text": [
      "0000100000\n"
     ]
    }
   ],
   "source": [
    "N = int(input())\n",
    "for x in [9,8,7,6,5,4,3,2,1,0]:\n",
    "    wari = (2**x)\n",
    "    print((N//wari) %2,end=\"\")\n",
    "print(\"\")\n"
   ]
  },
  {
   "cell_type": "code",
   "execution_count": null,
   "metadata": {},
   "outputs": [],
   "source": [
    "N,K = map(int,input().split())\n",
    "cnt = 0\n",
    "for i in range(N):\n",
    "    for j in range(N):\n",
    "        if 1<=K-i-j<=N\n",
    "            cnt +=1\n",
    "print(cnt)"
   ]
  }
 ],
 "metadata": {
  "kernelspec": {
   "display_name": "Python 3.10.8 64-bit (microsoft store)",
   "language": "python",
   "name": "python3"
  },
  "language_info": {
   "codemirror_mode": {
    "name": "ipython",
    "version": 3
   },
   "file_extension": ".py",
   "mimetype": "text/x-python",
   "name": "python",
   "nbconvert_exporter": "python",
   "pygments_lexer": "ipython3",
   "version": "3.10.8"
  },
  "orig_nbformat": 4,
  "vscode": {
   "interpreter": {
    "hash": "aae2ebd738fb503f79c3d109fe81c29ed11ca24bff9da6d819743b78998e72b9"
   }
  }
 },
 "nbformat": 4,
 "nbformat_minor": 2
}
