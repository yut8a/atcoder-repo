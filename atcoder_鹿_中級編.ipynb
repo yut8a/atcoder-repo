{
 "cells": [
  {
   "cell_type": "markdown",
   "metadata": {},
   "source": [
    "5-2　全検索"
   ]
  },
  {
   "cell_type": "markdown",
   "metadata": {},
   "source": [
    "例題１１"
   ]
  },
  {
   "cell_type": "code",
   "execution_count": null,
   "metadata": {},
   "outputs": [],
   "source": [
    "from calendar import c\n",
    "\n",
    "\n",
    "N,Y = map(int,inptu().split())\n",
    "ares,bres,cres = -1,1,-1\n",
    "for a in range(N+1):\n",
    "    for b in range(N+1):\n",
    "        c = N-a-b\n",
    "        \n",
    "        if c<0 or c>N:\n",
    "            continue\n",
    "        if 10000*a + 5000*b + 1000*c == Y:\n",
    "            ares,bres,cres, = a,b,c\n",
    "print(ares,bres,cres)"
   ]
  },
  {
   "cell_type": "markdown",
   "metadata": {},
   "source": [
    "abc 097B"
   ]
  },
  {
   "cell_type": "code",
   "execution_count": 22,
   "metadata": {},
   "outputs": [
    {
     "name": "stdout",
     "output_type": "stream",
     "text": [
      "9\n"
     ]
    }
   ],
   "source": [
    "x = int(input())\n",
    "ans = 0\n",
    "for i in range(1001):\n",
    "    for j in range(2,11):\n",
    "        if x>= pow(i,j):\n",
    "            ans = max(ans,pow(i,j))\n",
    "print(ans)"
   ]
  },
  {
   "cell_type": "code",
   "execution_count": 41,
   "metadata": {},
   "outputs": [
    {
     "ename": "ValueError",
     "evalue": "not enough values to unpack (expected 2, got 0)",
     "output_type": "error",
     "traceback": [
      "\u001b[1;31m---------------------------------------------------------------------------\u001b[0m",
      "\u001b[1;31mValueError\u001b[0m                                Traceback (most recent call last)",
      "Cell \u001b[1;32mIn [41], line 1\u001b[0m\n\u001b[1;32m----> 1\u001b[0m a,b \u001b[38;5;241m=\u001b[39m \u001b[38;5;28mmap\u001b[39m(\u001b[38;5;28mint\u001b[39m,\u001b[38;5;28minput\u001b[39m()\u001b[38;5;241m.\u001b[39msplit())\n\u001b[0;32m      2\u001b[0m ans \u001b[38;5;241m=\u001b[39m \u001b[38;5;241m0\u001b[39m\n\u001b[0;32m      3\u001b[0m \u001b[38;5;28;01mfor\u001b[39;00m i \u001b[38;5;129;01min\u001b[39;00m \u001b[38;5;28mrange\u001b[39m(\u001b[38;5;241m1\u001b[39m,\u001b[38;5;241m1000\u001b[39m):\n",
      "\u001b[1;31mValueError\u001b[0m: not enough values to unpack (expected 2, got 0)"
     ]
    }
   ],
   "source": [
    "a,b = map(int,input().split())\n",
    "ans = 0\n",
    "for i in range(1,1000):\n",
    "    ans += i\n",
    "    if a<=ans<=b:\n",
    "        print(ans-a)\n",
    "        break"
   ]
  },
  {
   "cell_type": "markdown",
   "metadata": {},
   "source": [
    "abc 099 ×"
   ]
  },
  {
   "cell_type": "code",
   "execution_count": 38,
   "metadata": {},
   "outputs": [
    {
     "name": "stdout",
     "output_type": "stream",
     "text": [
      "2\n"
     ]
    }
   ],
   "source": [
    "a,b = map(int,input().split())\n",
    "n = b-a\n",
    "x = n*(n+1)//2-b\n",
    "print(x)"
   ]
  },
  {
   "cell_type": "markdown",
   "metadata": {},
   "source": [
    "abc 098B　×　重複なしのカウント方法はsetを使う"
   ]
  },
  {
   "cell_type": "code",
   "execution_count": 30,
   "metadata": {},
   "outputs": [
    {
     "name": "stdout",
     "output_type": "stream",
     "text": [
      "1\n",
      "3\n",
      "6\n",
      "10\n",
      "15\n",
      "21\n",
      "28\n",
      "36\n",
      "45\n",
      "55\n",
      "66\n",
      "78\n",
      "91\n",
      "105\n",
      "120\n",
      "136\n",
      "153\n",
      "171\n",
      "190\n",
      "210\n",
      "231\n",
      "253\n",
      "276\n",
      "300\n",
      "325\n",
      "351\n",
      "378\n",
      "406\n",
      "435\n",
      "465\n",
      "496\n",
      "528\n",
      "561\n",
      "595\n",
      "630\n",
      "666\n",
      "703\n",
      "741\n",
      "780\n",
      "820\n",
      "861\n",
      "903\n",
      "946\n",
      "990\n",
      "1035\n",
      "1081\n",
      "1128\n",
      "1176\n",
      "1225\n",
      "1275\n",
      "1326\n",
      "1378\n",
      "1431\n",
      "1485\n",
      "1540\n",
      "1596\n",
      "1653\n",
      "1711\n",
      "1770\n",
      "1830\n",
      "1891\n",
      "1953\n",
      "2016\n",
      "2080\n",
      "2145\n",
      "2211\n",
      "2278\n",
      "2346\n",
      "2415\n",
      "2485\n",
      "2556\n",
      "2628\n",
      "2701\n",
      "2775\n",
      "2850\n",
      "2926\n",
      "3003\n",
      "3081\n",
      "3160\n",
      "3240\n",
      "3321\n",
      "3403\n",
      "3486\n",
      "3570\n",
      "3655\n",
      "3741\n",
      "3828\n",
      "3916\n",
      "4005\n",
      "4095\n",
      "4186\n",
      "4278\n",
      "4371\n",
      "4465\n",
      "4560\n",
      "4656\n",
      "4753\n",
      "4851\n",
      "4950\n",
      "5050\n",
      "5151\n",
      "5253\n",
      "5356\n",
      "5460\n",
      "5565\n",
      "5671\n",
      "5778\n",
      "5886\n",
      "5995\n",
      "6105\n",
      "6216\n",
      "6328\n",
      "6441\n",
      "6555\n",
      "6670\n",
      "6786\n",
      "6903\n",
      "7021\n",
      "7140\n",
      "7260\n",
      "7381\n",
      "7503\n",
      "7626\n",
      "7750\n",
      "7875\n",
      "8001\n",
      "8128\n",
      "8256\n",
      "8385\n",
      "8515\n",
      "8646\n",
      "8778\n",
      "8911\n",
      "9045\n",
      "9180\n",
      "9316\n",
      "9453\n",
      "9591\n",
      "9730\n",
      "9870\n",
      "10011\n",
      "10153\n",
      "10296\n",
      "10440\n",
      "10585\n",
      "10731\n",
      "10878\n",
      "11026\n",
      "11175\n",
      "11325\n",
      "11476\n",
      "11628\n",
      "11781\n",
      "11935\n",
      "12090\n",
      "12246\n",
      "12403\n",
      "12561\n",
      "12720\n",
      "12880\n",
      "13041\n",
      "13203\n",
      "13366\n",
      "13530\n",
      "13695\n",
      "13861\n",
      "14028\n",
      "14196\n",
      "14365\n",
      "14535\n",
      "14706\n",
      "14878\n",
      "15051\n",
      "15225\n",
      "15400\n",
      "15576\n",
      "15753\n",
      "15931\n",
      "16110\n",
      "16290\n",
      "16471\n",
      "16653\n",
      "16836\n",
      "17020\n",
      "17205\n",
      "17391\n",
      "17578\n",
      "17766\n",
      "17955\n",
      "18145\n",
      "18336\n",
      "18528\n",
      "18721\n",
      "18915\n",
      "19110\n",
      "19306\n",
      "19503\n",
      "19701\n",
      "19900\n",
      "20100\n",
      "20301\n",
      "20503\n",
      "20706\n",
      "20910\n",
      "21115\n",
      "21321\n",
      "21528\n",
      "21736\n",
      "21945\n",
      "22155\n",
      "22366\n",
      "22578\n",
      "22791\n",
      "23005\n",
      "23220\n",
      "23436\n",
      "23653\n",
      "23871\n",
      "24090\n",
      "24310\n",
      "24531\n",
      "24753\n",
      "24976\n",
      "25200\n",
      "25425\n",
      "25651\n",
      "25878\n",
      "26106\n",
      "26335\n",
      "26565\n",
      "26796\n",
      "27028\n",
      "27261\n",
      "27495\n",
      "27730\n",
      "27966\n",
      "28203\n",
      "28441\n",
      "28680\n",
      "28920\n",
      "29161\n",
      "29403\n",
      "29646\n",
      "29890\n",
      "30135\n",
      "30381\n",
      "30628\n",
      "30876\n",
      "31125\n",
      "31375\n",
      "31626\n",
      "31878\n",
      "32131\n",
      "32385\n",
      "32640\n",
      "32896\n",
      "33153\n",
      "33411\n",
      "33670\n",
      "33930\n",
      "34191\n",
      "34453\n",
      "34716\n",
      "34980\n",
      "35245\n",
      "35511\n",
      "35778\n",
      "36046\n",
      "36315\n",
      "36585\n",
      "36856\n",
      "37128\n",
      "37401\n",
      "37675\n",
      "37950\n",
      "38226\n",
      "38503\n",
      "38781\n",
      "39060\n",
      "39340\n",
      "39621\n",
      "39903\n",
      "40186\n",
      "40470\n",
      "40755\n",
      "41041\n",
      "41328\n",
      "41616\n",
      "41905\n",
      "42195\n",
      "42486\n",
      "42778\n",
      "43071\n",
      "43365\n",
      "43660\n",
      "43956\n",
      "44253\n",
      "44551\n",
      "44850\n",
      "45150\n",
      "45451\n",
      "45753\n",
      "46056\n",
      "46360\n",
      "46665\n",
      "46971\n",
      "47278\n",
      "47586\n",
      "47895\n",
      "48205\n",
      "48516\n",
      "48828\n",
      "49141\n",
      "49455\n",
      "49770\n",
      "50086\n",
      "50403\n",
      "50721\n",
      "51040\n",
      "51360\n",
      "51681\n",
      "52003\n",
      "52326\n",
      "52650\n",
      "52975\n",
      "53301\n",
      "53628\n",
      "53956\n",
      "54285\n",
      "54615\n",
      "54946\n",
      "55278\n",
      "55611\n",
      "55945\n",
      "56280\n",
      "56616\n",
      "56953\n",
      "57291\n",
      "57630\n",
      "57970\n",
      "58311\n",
      "58653\n",
      "58996\n",
      "59340\n",
      "59685\n",
      "60031\n",
      "60378\n",
      "60726\n",
      "61075\n",
      "61425\n",
      "61776\n",
      "62128\n",
      "62481\n",
      "62835\n",
      "63190\n",
      "63546\n",
      "63903\n",
      "64261\n",
      "64620\n",
      "64980\n",
      "65341\n",
      "65703\n",
      "66066\n",
      "66430\n",
      "66795\n",
      "67161\n",
      "67528\n",
      "67896\n",
      "68265\n",
      "68635\n",
      "69006\n",
      "69378\n",
      "69751\n",
      "70125\n",
      "70500\n",
      "70876\n",
      "71253\n",
      "71631\n",
      "72010\n",
      "72390\n",
      "72771\n",
      "73153\n",
      "73536\n",
      "73920\n",
      "74305\n",
      "74691\n",
      "75078\n",
      "75466\n",
      "75855\n",
      "76245\n",
      "76636\n",
      "77028\n",
      "77421\n",
      "77815\n",
      "78210\n",
      "78606\n",
      "79003\n",
      "79401\n",
      "79800\n",
      "80200\n",
      "80601\n",
      "81003\n",
      "81406\n",
      "81810\n",
      "82215\n",
      "82621\n",
      "83028\n",
      "83436\n",
      "83845\n",
      "84255\n",
      "84666\n",
      "85078\n",
      "85491\n",
      "85905\n",
      "86320\n",
      "86736\n",
      "87153\n",
      "87571\n",
      "87990\n",
      "88410\n",
      "88831\n",
      "89253\n",
      "89676\n",
      "90100\n",
      "90525\n",
      "90951\n",
      "91378\n",
      "91806\n",
      "92235\n",
      "92665\n",
      "93096\n",
      "93528\n",
      "93961\n",
      "94395\n",
      "94830\n",
      "95266\n",
      "95703\n",
      "96141\n",
      "96580\n",
      "97020\n",
      "97461\n",
      "97903\n",
      "98346\n",
      "98790\n",
      "99235\n",
      "99681\n",
      "100128\n",
      "100576\n",
      "101025\n",
      "101475\n",
      "101926\n",
      "102378\n",
      "102831\n",
      "103285\n",
      "103740\n",
      "104196\n",
      "104653\n",
      "105111\n",
      "105570\n",
      "106030\n",
      "106491\n",
      "106953\n",
      "107416\n",
      "107880\n",
      "108345\n",
      "108811\n",
      "109278\n",
      "109746\n",
      "110215\n",
      "110685\n",
      "111156\n",
      "111628\n",
      "112101\n",
      "112575\n",
      "113050\n",
      "113526\n",
      "114003\n",
      "114481\n",
      "114960\n",
      "115440\n",
      "115921\n",
      "116403\n",
      "116886\n",
      "117370\n",
      "117855\n",
      "118341\n",
      "118828\n",
      "119316\n",
      "119805\n",
      "120295\n",
      "120786\n",
      "121278\n",
      "121771\n",
      "122265\n",
      "122760\n",
      "123256\n",
      "123753\n",
      "124251\n",
      "124750\n",
      "125250\n",
      "125751\n",
      "126253\n",
      "126756\n",
      "127260\n",
      "127765\n",
      "128271\n",
      "128778\n",
      "129286\n",
      "129795\n",
      "130305\n",
      "130816\n",
      "131328\n",
      "131841\n",
      "132355\n",
      "132870\n",
      "133386\n",
      "133903\n",
      "134421\n",
      "134940\n",
      "135460\n",
      "135981\n",
      "136503\n",
      "137026\n",
      "137550\n",
      "138075\n",
      "138601\n",
      "139128\n",
      "139656\n",
      "140185\n",
      "140715\n",
      "141246\n",
      "141778\n",
      "142311\n",
      "142845\n",
      "143380\n",
      "143916\n",
      "144453\n",
      "144991\n",
      "145530\n",
      "146070\n",
      "146611\n",
      "147153\n",
      "147696\n",
      "148240\n",
      "148785\n",
      "149331\n",
      "149878\n",
      "150426\n",
      "150975\n",
      "151525\n",
      "152076\n",
      "152628\n",
      "153181\n",
      "153735\n",
      "154290\n",
      "154846\n",
      "155403\n",
      "155961\n",
      "156520\n",
      "157080\n",
      "157641\n",
      "158203\n",
      "158766\n",
      "159330\n",
      "159895\n",
      "160461\n",
      "161028\n",
      "161596\n",
      "162165\n",
      "162735\n",
      "163306\n",
      "163878\n",
      "164451\n",
      "165025\n",
      "165600\n",
      "166176\n",
      "166753\n",
      "167331\n",
      "167910\n",
      "168490\n",
      "169071\n",
      "169653\n",
      "170236\n",
      "170820\n",
      "171405\n",
      "171991\n",
      "172578\n",
      "173166\n",
      "173755\n",
      "174345\n",
      "174936\n",
      "175528\n",
      "176121\n",
      "176715\n",
      "177310\n",
      "177906\n",
      "178503\n",
      "179101\n",
      "179700\n",
      "180300\n",
      "180901\n",
      "181503\n",
      "182106\n",
      "182710\n",
      "183315\n",
      "183921\n",
      "184528\n",
      "185136\n",
      "185745\n",
      "186355\n",
      "186966\n",
      "187578\n",
      "188191\n",
      "188805\n",
      "189420\n",
      "190036\n",
      "190653\n",
      "191271\n",
      "191890\n",
      "192510\n",
      "193131\n",
      "193753\n",
      "194376\n",
      "195000\n",
      "195625\n",
      "196251\n",
      "196878\n",
      "197506\n",
      "198135\n",
      "198765\n",
      "199396\n",
      "200028\n",
      "200661\n",
      "201295\n",
      "201930\n",
      "202566\n",
      "203203\n",
      "203841\n",
      "204480\n",
      "205120\n",
      "205761\n",
      "206403\n",
      "207046\n",
      "207690\n",
      "208335\n",
      "208981\n",
      "209628\n",
      "210276\n",
      "210925\n",
      "211575\n",
      "212226\n",
      "212878\n",
      "213531\n",
      "214185\n",
      "214840\n",
      "215496\n",
      "216153\n",
      "216811\n",
      "217470\n",
      "218130\n",
      "218791\n",
      "219453\n",
      "220116\n",
      "220780\n",
      "221445\n",
      "222111\n",
      "222778\n",
      "223446\n",
      "224115\n",
      "224785\n",
      "225456\n",
      "226128\n",
      "226801\n",
      "227475\n",
      "228150\n",
      "228826\n",
      "229503\n",
      "230181\n",
      "230860\n",
      "231540\n",
      "232221\n",
      "232903\n",
      "233586\n",
      "234270\n",
      "234955\n",
      "235641\n",
      "236328\n",
      "237016\n",
      "237705\n",
      "238395\n",
      "239086\n",
      "239778\n",
      "240471\n",
      "241165\n",
      "241860\n",
      "242556\n",
      "243253\n",
      "243951\n",
      "244650\n",
      "245350\n",
      "246051\n",
      "246753\n",
      "247456\n",
      "248160\n",
      "248865\n",
      "249571\n",
      "250278\n",
      "250986\n",
      "251695\n",
      "252405\n",
      "253116\n",
      "253828\n",
      "254541\n",
      "255255\n",
      "255970\n",
      "256686\n",
      "257403\n",
      "258121\n",
      "258840\n",
      "259560\n",
      "260281\n",
      "261003\n",
      "261726\n",
      "262450\n",
      "263175\n",
      "263901\n",
      "264628\n",
      "265356\n",
      "266085\n",
      "266815\n",
      "267546\n",
      "268278\n",
      "269011\n",
      "269745\n",
      "270480\n",
      "271216\n",
      "271953\n",
      "272691\n",
      "273430\n",
      "274170\n",
      "274911\n",
      "275653\n",
      "276396\n",
      "277140\n",
      "277885\n",
      "278631\n",
      "279378\n",
      "280126\n",
      "280875\n",
      "281625\n",
      "282376\n",
      "283128\n",
      "283881\n",
      "284635\n",
      "285390\n",
      "286146\n",
      "286903\n",
      "287661\n",
      "288420\n",
      "289180\n",
      "289941\n",
      "290703\n",
      "291466\n",
      "292230\n",
      "292995\n",
      "293761\n",
      "294528\n",
      "295296\n",
      "296065\n",
      "296835\n",
      "297606\n",
      "298378\n",
      "299151\n",
      "299925\n",
      "300700\n",
      "301476\n",
      "302253\n",
      "303031\n",
      "303810\n",
      "304590\n",
      "305371\n",
      "306153\n",
      "306936\n",
      "307720\n",
      "308505\n",
      "309291\n",
      "310078\n",
      "310866\n",
      "311655\n",
      "312445\n",
      "313236\n",
      "314028\n",
      "314821\n",
      "315615\n",
      "316410\n",
      "317206\n",
      "318003\n",
      "318801\n",
      "319600\n",
      "320400\n",
      "321201\n",
      "322003\n",
      "322806\n",
      "323610\n",
      "324415\n",
      "325221\n",
      "326028\n",
      "326836\n",
      "327645\n",
      "328455\n",
      "329266\n",
      "330078\n",
      "330891\n",
      "331705\n",
      "332520\n",
      "333336\n",
      "334153\n",
      "334971\n",
      "335790\n",
      "336610\n",
      "337431\n",
      "338253\n",
      "339076\n",
      "339900\n",
      "340725\n",
      "341551\n",
      "342378\n",
      "343206\n",
      "344035\n",
      "344865\n",
      "345696\n",
      "346528\n",
      "347361\n",
      "348195\n",
      "349030\n",
      "349866\n",
      "350703\n",
      "351541\n",
      "352380\n",
      "353220\n",
      "354061\n",
      "354903\n",
      "355746\n",
      "356590\n",
      "357435\n",
      "358281\n",
      "359128\n",
      "359976\n",
      "360825\n",
      "361675\n",
      "362526\n",
      "363378\n",
      "364231\n",
      "365085\n",
      "365940\n",
      "366796\n",
      "367653\n",
      "368511\n",
      "369370\n",
      "370230\n",
      "371091\n",
      "371953\n",
      "372816\n",
      "373680\n",
      "374545\n",
      "375411\n",
      "376278\n",
      "377146\n",
      "378015\n",
      "378885\n",
      "379756\n",
      "380628\n",
      "381501\n",
      "382375\n",
      "383250\n",
      "384126\n",
      "385003\n",
      "385881\n",
      "386760\n",
      "387640\n",
      "388521\n",
      "389403\n",
      "390286\n",
      "391170\n",
      "392055\n",
      "392941\n",
      "393828\n",
      "394716\n",
      "395605\n",
      "396495\n",
      "397386\n",
      "398278\n",
      "399171\n",
      "400065\n",
      "400960\n",
      "401856\n",
      "402753\n",
      "403651\n",
      "404550\n",
      "405450\n",
      "406351\n",
      "407253\n",
      "408156\n",
      "409060\n",
      "409965\n",
      "410871\n",
      "411778\n",
      "412686\n",
      "413595\n",
      "414505\n",
      "415416\n",
      "416328\n",
      "417241\n",
      "418155\n",
      "419070\n",
      "419986\n",
      "420903\n",
      "421821\n",
      "422740\n",
      "423660\n",
      "424581\n",
      "425503\n",
      "426426\n",
      "427350\n",
      "428275\n",
      "429201\n",
      "430128\n",
      "431056\n",
      "431985\n",
      "432915\n",
      "433846\n",
      "434778\n",
      "435711\n",
      "436645\n",
      "437580\n",
      "438516\n",
      "439453\n",
      "440391\n",
      "441330\n",
      "442270\n",
      "443211\n",
      "444153\n",
      "445096\n",
      "446040\n",
      "446985\n",
      "447931\n",
      "448878\n",
      "449826\n",
      "450775\n",
      "451725\n",
      "452676\n",
      "453628\n",
      "454581\n",
      "455535\n",
      "456490\n",
      "457446\n",
      "458403\n",
      "459361\n",
      "460320\n",
      "461280\n",
      "462241\n",
      "463203\n",
      "464166\n",
      "465130\n",
      "466095\n",
      "467061\n",
      "468028\n",
      "468996\n",
      "469965\n",
      "470935\n",
      "471906\n",
      "472878\n",
      "473851\n",
      "474825\n",
      "475800\n",
      "476776\n",
      "477753\n",
      "478731\n",
      "479710\n",
      "480690\n",
      "481671\n",
      "482653\n",
      "483636\n",
      "484620\n",
      "485605\n",
      "486591\n",
      "487578\n",
      "488566\n",
      "489555\n",
      "490545\n",
      "491536\n",
      "492528\n",
      "493521\n",
      "494515\n",
      "495510\n",
      "496506\n",
      "497503\n",
      "498501\n",
      "499500\n"
     ]
    }
   ],
   "source": [
    "N = int(input())\n",
    "S = input()\n",
    "ans = 0\n",
    "for i in range(N):\n",
    "    x = S[0:i]\n",
    "    y = S[i:N]\n",
    "    ans = max(ans,len(set(x)&set(y)))\n",
    "print(ans)"
   ]
  },
  {
   "cell_type": "markdown",
   "metadata": {},
   "source": [
    "Abc 051B　○"
   ]
  },
  {
   "cell_type": "code",
   "execution_count": 45,
   "metadata": {},
   "outputs": [
    {
     "name": "stdout",
     "output_type": "stream",
     "text": [
      "6\n"
     ]
    }
   ],
   "source": [
    "K,S = map(int,input().split())\n",
    "count = 0\n",
    "for i in range(K+1):\n",
    "    for j in range(K+1):\n",
    "        z = S-i-j\n",
    "        if 0<=z<=K:\n",
    "            count +=1\n",
    "print(count)"
   ]
  },
  {
   "cell_type": "markdown",
   "metadata": {},
   "source": [
    "Select5 ×　combinationsの使い方"
   ]
  },
  {
   "cell_type": "code",
   "execution_count": 58,
   "metadata": {},
   "outputs": [
    {
     "name": "stdout",
     "output_type": "stream",
     "text": [
      "1\n"
     ]
    }
   ],
   "source": [
    "import itertools\n",
    "from itertools import combinations\n",
    "N,p,q = map(int,input().split())\n",
    "A = list(map(int,input().split()))\n",
    "ans = 0\n",
    "for i in itertools.combinations(A,5):\n",
    "    if i[0]%p* i[1] %p *i[2]%p *i[3]%p *i[4] %p ==q:\n",
    "        ans +=1\n",
    "print(ans)\n"
   ]
  },
  {
   "cell_type": "markdown",
   "metadata": {},
   "source": [
    "Minimum Coins　○"
   ]
  },
  {
   "cell_type": "code",
   "execution_count": 61,
   "metadata": {},
   "outputs": [
    {
     "name": "stdout",
     "output_type": "stream",
     "text": [
      "8\n"
     ]
    }
   ],
   "source": [
    "N = int(input())\n",
    "A,B,C = map(int,input().split())\n",
    "ans = 0\n",
    "if N%C == 0:\n",
    "    ans = N//C\n",
    "    print(ans)\n",
    "else:\n",
    "    ans += N//C\n",
    "    a = N%C\n",
    "    if a%B == 0:\n",
    "        print(ans+N//B)\n",
    "    else:\n",
    "        ans += N//B\n",
    "        b = a%B\n",
    "        print(ans+b//A)\n",
    "        "
   ]
  },
  {
   "cell_type": "code",
   "execution_count": 6,
   "metadata": {},
   "outputs": [
    {
     "name": "stdout",
     "output_type": "stream",
     "text": [
      "1004\n"
     ]
    }
   ],
   "source": [
    "N = int(input())\n",
    "A,B,C = map(int,input().split())\n",
    "ans = 10**9\n",
    "for i in range(10000):\n",
    "    for j in range(10000-i):\n",
    "        S = N-C*i-B*j\n",
    "        if S%A ==0 and S>=0:\n",
    "            ans = min(ans,i+j+S//A)\n",
    "print(ans)"
   ]
  },
  {
   "cell_type": "code",
   "execution_count": null,
   "metadata": {},
   "outputs": [],
   "source": []
  },
  {
   "cell_type": "markdown",
   "metadata": {},
   "source": [
    "157C △　余裕があったする　一つずつTrueの確認をするよりも1つでも異なったらfalseのほうが楽"
   ]
  },
  {
   "cell_type": "code",
   "execution_count": 3,
   "metadata": {},
   "outputs": [
    {
     "ename": "IndexError",
     "evalue": "string index out of range",
     "output_type": "error",
     "traceback": [
      "\u001b[1;31m---------------------------------------------------------------------------\u001b[0m",
      "\u001b[1;31mIndexError\u001b[0m                                Traceback (most recent call last)",
      "Cell \u001b[1;32mIn [3], line 7\u001b[0m\n\u001b[0;32m      5\u001b[0m count \u001b[38;5;241m=\u001b[39m\u001b[38;5;241m0\u001b[39m\n\u001b[0;32m      6\u001b[0m \u001b[38;5;28;01mfor\u001b[39;00m l \u001b[38;5;129;01min\u001b[39;00m \u001b[38;5;28mrange\u001b[39m(\u001b[38;5;28mlen\u001b[39m(t)):\n\u001b[1;32m----> 7\u001b[0m     \u001b[38;5;28;01mif\u001b[39;00m \u001b[43mt\u001b[49m\u001b[43m[\u001b[49m\u001b[43mS\u001b[49m\u001b[43m[\u001b[49m\u001b[43ml\u001b[49m\u001b[43m]\u001b[49m\u001b[43m[\u001b[49m\u001b[38;5;241;43m0\u001b[39;49m\u001b[43m]\u001b[49m\u001b[38;5;241;43m-\u001b[39;49m\u001b[38;5;241;43m1\u001b[39;49m\u001b[43m]\u001b[49m\u001b[38;5;241m==\u001b[39mS[l][\u001b[38;5;241m1\u001b[39m]:\n\u001b[0;32m      8\u001b[0m         count \u001b[38;5;241m+\u001b[39m\u001b[38;5;241m=\u001b[39m\u001b[38;5;241m1\u001b[39m\n\u001b[0;32m      9\u001b[0m \u001b[38;5;28;01mif\u001b[39;00m count \u001b[38;5;241m==\u001b[39mM:\n",
      "\u001b[1;31mIndexError\u001b[0m: string index out of range"
     ]
    }
   ],
   "source": [
    "N,M = map(int,input().split())\n",
    "S = [list(map(int,input().split())) for i in range(M)]\n",
    "for i in range(1,10**(N-1)):\n",
    "    t = str(i)\n",
    "    count =0\n",
    "    for l in range(len(t)):\n",
    "        if t[S[l][0]-1]==S[l][1]:\n",
    "            count +=1\n",
    "    if count ==len(M):\n",
    "        print(i)\n",
    "print(-1)\n"
   ]
  },
  {
   "cell_type": "code",
   "execution_count": 17,
   "metadata": {},
   "outputs": [
    {
     "name": "stdout",
     "output_type": "stream",
     "text": [
      "-1\n"
     ]
    }
   ],
   "source": [
    "N,M = map(int,input().split())\n",
    "S = [list(map(int,input().split())) for i in range(M)]\n",
    "ans = -1\n",
    "for i in range(10**N):\n",
    "    t = str(i)\n",
    "    count = 0\n",
    "    if len(t)==1 and S \n",
    "    for l in range(M):\n",
    "        if S[l][0]>len(t):\n",
    "            break\n",
    "        if S[l][0] ==1 and S[l][1] == 0:\n",
    "            break\n",
    "        if int(t[S[l][0]-1]) == S[l][1]:\n",
    "            count += 1\n",
    "    if count == M:\n",
    "        ans = i\n",
    "        break\n",
    "print(ans)"
   ]
  },
  {
   "cell_type": "code",
   "execution_count": 18,
   "metadata": {},
   "outputs": [
    {
     "name": "stdout",
     "output_type": "stream",
     "text": [
      "702\n"
     ]
    }
   ],
   "source": [
    "N,M = map(int,input().split())\n",
    "S = [list(map(int,input().split())) for i in range(M)]\n",
    "ans = -1\n",
    "for i in range(10**N):\n",
    "    flag = True\n",
    "    t = str(i)\n",
    "    if len(t) != N:\n",
    "        continue\n",
    "    for l in range(M):\n",
    "        if int(t[S[l][0]-1]) != S[l][1]:\n",
    "            flag = False\n",
    "    if flag == True:\n",
    "        ans = i\n",
    "        break\n",
    "        \n",
    "print(ans)"
   ]
  },
  {
   "cell_type": "code",
   "execution_count": 14,
   "metadata": {},
   "outputs": [
    {
     "data": {
      "text/plain": [
       "True"
      ]
     },
     "execution_count": 14,
     "metadata": {},
     "output_type": "execute_result"
    }
   ],
   "source": [
    "t = \"702\"\n",
    "int(t[0]) == 7"
   ]
  },
  {
   "cell_type": "markdown",
   "metadata": {},
   "source": [
    "195B 　×　余りで考える　算数力"
   ]
  },
  {
   "cell_type": "code",
   "execution_count": null,
   "metadata": {},
   "outputs": [],
   "source": [
    "A,B,W = map(int,input().split())\n",
    "\n",
    "        "
   ]
  },
  {
   "cell_type": "markdown",
   "metadata": {},
   "source": [
    "079C evalの使い方 ×"
   ]
  },
  {
   "cell_type": "code",
   "execution_count": 26,
   "metadata": {},
   "outputs": [
    {
     "name": "stdout",
     "output_type": "stream",
     "text": [
      "1+2+2+2=7\n"
     ]
    }
   ],
   "source": [
    "A = input()\n",
    "if int(A[0])+int(A[1])+int(A[2])+int(A[3]) == 7:\n",
    "    print(f\"{A[0]}+{A[1]}+{A[2]}+{A[3]}=7\")"
   ]
  },
  {
   "cell_type": "code",
   "execution_count": 40,
   "metadata": {},
   "outputs": [
    {
     "ename": "IndexError",
     "evalue": "string index out of range",
     "output_type": "error",
     "traceback": [
      "\u001b[1;31m---------------------------------------------------------------------------\u001b[0m",
      "\u001b[1;31mIndexError\u001b[0m                                Traceback (most recent call last)",
      "Cell \u001b[1;32mIn [40], line 2\u001b[0m\n\u001b[0;32m      1\u001b[0m A \u001b[38;5;241m=\u001b[39m \u001b[38;5;28minput\u001b[39m()\n\u001b[1;32m----> 2\u001b[0m a,b,c,d \u001b[38;5;241m=\u001b[39m \u001b[43mA\u001b[49m\u001b[43m[\u001b[49m\u001b[38;5;241;43m0\u001b[39;49m\u001b[43m]\u001b[49m,A[\u001b[38;5;241m1\u001b[39m],A[\u001b[38;5;241m2\u001b[39m],A[\u001b[38;5;241m3\u001b[39m]\n\u001b[0;32m      3\u001b[0m op \u001b[38;5;241m=\u001b[39m [\u001b[38;5;124m\"\u001b[39m\u001b[38;5;124m+\u001b[39m\u001b[38;5;124m\"\u001b[39m,\u001b[38;5;124m\"\u001b[39m\u001b[38;5;124m-\u001b[39m\u001b[38;5;124m\"\u001b[39m]\n\u001b[0;32m      4\u001b[0m \u001b[38;5;28;01mfor\u001b[39;00m i \u001b[38;5;129;01min\u001b[39;00m op:\n",
      "\u001b[1;31mIndexError\u001b[0m: string index out of range"
     ]
    }
   ],
   "source": [
    "A = input()\n",
    "a,b,c,d = A[0],A[1],A[2],A[3]\n",
    "op = [\"+\",\"-\"]\n",
    "for i in op:\n",
    "    for j in op:\n",
    "        for l in op:\n",
    "            #文字列はそのままで演算を行う　++が２連続でも演算をただ引く行ってくれる\n",
    "            if eval(a+i+b+j+c+l+d)==7:\n",
    "                #文字列の足し算\n",
    "                print(a+i+b+j+c+l+d+\"=7\")\n",
    "                break"
   ]
  },
  {
   "cell_type": "markdown",
   "metadata": {},
   "source": [
    "088C ×　検索する前に関係式があればそこに注目する"
   ]
  },
  {
   "cell_type": "code",
   "execution_count": 41,
   "metadata": {},
   "outputs": [
    {
     "name": "stdout",
     "output_type": "stream",
     "text": [
      "[[1, 2, 3], [4, 5, 6], [7, 8, 9]]\n"
     ]
    }
   ],
   "source": [
    "C = [list(map(int,input().split())) for _ in range(3)]\n",
    "DX = [-1,0,1]*3\n",
    "DY = [-1,-1,-1,0,0,0,1,1,1]\n",
    "for i in range(3):\n",
    "    for j in range(3):\n",
    "        for idx,idy in zip(DX,DY):\n",
    "            ni = i+idx\n",
    "            nj = j+idy\n",
    "            if ni<0 or ni>2 or nj<0 or ni>2:\n",
    "                continue\n",
    "            \n",
    "    "
   ]
  },
  {
   "cell_type": "code",
   "execution_count": 1,
   "metadata": {},
   "outputs": [
    {
     "name": "stdout",
     "output_type": "stream",
     "text": [
      "Yes\n"
     ]
    }
   ],
   "source": [
    "v = [list(map(int,input().split())) for _ in range(3)]\n",
    "flag = False\n",
    "for i in range(101):\n",
    "    for j in range(101):\n",
    "        for k in range(101):\n",
    "            if((v[0][0]-i==v[0][1]-j and v[0][1]-j==v[0][2]-k) and (v[1][0]-i==v[1][1]-j and v[1][1]-j==v[1][2]-k) and (v[2][0]-i==v[2][1]-j and v[2][1]-j==v[2][2]-k)):\n",
    "                flag = True\n",
    "print(\"Yes\" if flag else \"No\")\n",
    "            "
   ]
  },
  {
   "cell_type": "markdown",
   "metadata": {},
   "source": [
    "095C　×"
   ]
  },
  {
   "cell_type": "code",
   "execution_count": 1,
   "metadata": {},
   "outputs": [
    {
     "ename": "ValueError",
     "evalue": "not enough values to unpack (expected 5, got 0)",
     "output_type": "error",
     "traceback": [
      "\u001b[1;31m---------------------------------------------------------------------------\u001b[0m",
      "\u001b[1;31mValueError\u001b[0m                                Traceback (most recent call last)",
      "Cell \u001b[1;32mIn [1], line 1\u001b[0m\n\u001b[1;32m----> 1\u001b[0m a,b,c,x,y \u001b[38;5;241m=\u001b[39m \u001b[38;5;28mmap\u001b[39m(\u001b[38;5;28mint\u001b[39m,\u001b[38;5;28minput\u001b[39m()\u001b[38;5;241m.\u001b[39msplit())\n\u001b[0;32m      2\u001b[0m ans \u001b[38;5;241m=\u001b[39m \u001b[38;5;28mfloat\u001b[39m(\u001b[38;5;124m\"\u001b[39m\u001b[38;5;124minf\u001b[39m\u001b[38;5;124m\"\u001b[39m)\n\u001b[0;32m      3\u001b[0m \u001b[38;5;28;01mfor\u001b[39;00m i \u001b[38;5;129;01min\u001b[39;00m \u001b[38;5;28mrange\u001b[39m(\u001b[38;5;241m1\u001b[39m,\u001b[38;5;241m10\u001b[39m\u001b[38;5;241m*\u001b[39m\u001b[38;5;241m*\u001b[39m\u001b[38;5;241m5\u001b[39m\u001b[38;5;241m+\u001b[39m\u001b[38;5;241m1\u001b[39m):\n",
      "\u001b[1;31mValueError\u001b[0m: not enough values to unpack (expected 5, got 0)"
     ]
    }
   ],
   "source": [
    "a,b,c,x,y = map(int,input().split())\n",
    "ans = float(\"inf\")\n",
    "if a>=2*c and b>=2*c:\n",
    "    ans = max(x,y)*2*c\n",
    "else:\n",
    "    for i in range(1,10**5+1):\n",
    "        j = i-x+y\n",
    "        l = 2*(x-i)\n",
    "        if j>=0 and l>=0:\n",
    "            ans = min(ans,a*i+b*j+c*l)\n",
    "print(ans)"
   ]
  },
  {
   "cell_type": "markdown",
   "metadata": {},
   "source": [
    "このコードは理由が分からない"
   ]
  },
  {
   "cell_type": "code",
   "execution_count": null,
   "metadata": {},
   "outputs": [],
   "source": [
    "A, B, C, X, Y = map(int, input().split())\n",
    "ans = 10**10\n",
    "for i in range(10**5+1):\n",
    "    ans = min(ans, A*max(X-i, 0) + B*max(Y-i, 0) + 2*C*i)\n",
    "print(ans)\n",
    "    "
   ]
  },
  {
   "cell_type": "code",
   "execution_count": null,
   "metadata": {},
   "outputs": [],
   "source": [
    "a,b,c,x,y = map(int,input().split())\n",
    "ans = float(\"inf\")\n",
    "if (a+b)>=(2*c):\n",
    "    ans = max(x,y)*2*c\n",
    "for i in range(1,10**5+1):\n",
    "    j = i-x+y\n",
    "    l = 2*(x-i)\n",
    "    if j>=0 and l>=0:\n",
    "        ans = min(ans,a*i+b*j+c*l)\n",
    "print(ans)"
   ]
  },
  {
   "cell_type": "markdown",
   "metadata": {},
   "source": [
    "abを全部使うか、使わないか,極力使うか"
   ]
  },
  {
   "cell_type": "code",
   "execution_count": null,
   "metadata": {},
   "outputs": [],
   "source": [
    "A,B,C,X,Y = map(int,input().split())\n",
    "min_xy = min(X,Y)\n",
    "max_xy = max(X,Y)\n",
    "ans1 = 2*C*min_xy + A*(X-min_xy) + B*(Y-min_xy)\n",
    "ans2 = A*X +B*Y\n",
    "ans3 = 2*C*max_xy\n",
    "print(min(ans1,ans2,ans3))"
   ]
  },
  {
   "cell_type": "markdown",
   "metadata": {},
   "source": [
    "108C　×　(a,b,c)"
   ]
  },
  {
   "cell_type": "code",
   "execution_count": 1,
   "metadata": {},
   "outputs": [
    {
     "ename": "ValueError",
     "evalue": "not enough values to unpack (expected 2, got 0)",
     "output_type": "error",
     "traceback": [
      "\u001b[1;31m---------------------------------------------------------------------------\u001b[0m",
      "\u001b[1;31mValueError\u001b[0m                                Traceback (most recent call last)",
      "Cell \u001b[1;32mIn [1], line 1\u001b[0m\n\u001b[1;32m----> 1\u001b[0m N,K \u001b[38;5;241m=\u001b[39m \u001b[38;5;28mmap\u001b[39m(\u001b[38;5;28mint\u001b[39m,\u001b[38;5;28minput\u001b[39m()\u001b[38;5;241m.\u001b[39msplit())\n\u001b[0;32m      2\u001b[0m count \u001b[38;5;241m=\u001b[39m\u001b[38;5;241m0\u001b[39m\n\u001b[0;32m      3\u001b[0m \u001b[38;5;28;01mfor\u001b[39;00m a \u001b[38;5;129;01min\u001b[39;00m \u001b[38;5;28mrange\u001b[39m(\u001b[38;5;241m1\u001b[39m,N\u001b[38;5;241m+\u001b[39m\u001b[38;5;241m1\u001b[39m):\n",
      "\u001b[1;31mValueError\u001b[0m: not enough values to unpack (expected 2, got 0)"
     ]
    }
   ],
   "source": [
    "N,K = map(int,input().split())\n",
    "count =0\n",
    "for a in range(1,N+1):\n",
    "    if 2*a%K==0:\n",
    "        count +=1\n",
    "print(count)"
   ]
  },
  {
   "cell_type": "markdown",
   "metadata": {},
   "source": [
    "112C　解説をみても分からない"
   ]
  },
  {
   "cell_type": "markdown",
   "metadata": {},
   "source": [
    "例題１２ ○"
   ]
  },
  {
   "cell_type": "code",
   "execution_count": 6,
   "metadata": {},
   "outputs": [
    {
     "name": "stdout",
     "output_type": "stream",
     "text": [
      "3\n"
     ]
    }
   ],
   "source": [
    "N = int(input())\n",
    "a = []\n",
    "for i in range(N):\n",
    "    b = int(input())\n",
    "    a.append(b)\n",
    "print(len(set(a)))"
   ]
  },
  {
   "cell_type": "code",
   "execution_count": null,
   "metadata": {},
   "outputs": [],
   "source": [
    "M = 101\n",
    "N = int(input())\n",
    "exist = [0]*M\n",
    "\n",
    "for i in range(N):\n",
    "    d = int(input())\n",
    "    exist[d] = 1\n",
    "print(sum(exist))"
   ]
  },
  {
   "cell_type": "code",
   "execution_count": null,
   "metadata": {},
   "outputs": [],
   "source": [
    "from collections import defaultdict\n",
    "a = [\"cat\",\"cow\",\"dog\",\"lion\",\"zebra\",\"cow\"]\n",
    "\n",
    "num = defaultdict(int)\n",
    "\n",
    "for s in a:\n",
    "    num[s] += 1\n",
    "    for key in num:\n",
    "        print(key,num[key])"
   ]
  },
  {
   "cell_type": "markdown",
   "metadata": {},
   "source": [
    "例題１３"
   ]
  },
  {
   "cell_type": "code",
   "execution_count": 11,
   "metadata": {},
   "outputs": [
    {
     "ename": "ValueError",
     "evalue": "invalid literal for int() with base 10: ''",
     "output_type": "error",
     "traceback": [
      "\u001b[1;31m---------------------------------------------------------------------------\u001b[0m",
      "\u001b[1;31mValueError\u001b[0m                                Traceback (most recent call last)",
      "Cell \u001b[1;32mIn [11], line 2\u001b[0m\n\u001b[0;32m      1\u001b[0m \u001b[38;5;28;01mfrom\u001b[39;00m \u001b[38;5;21;01mcollections\u001b[39;00m \u001b[38;5;28;01mimport\u001b[39;00m defaultdict\n\u001b[1;32m----> 2\u001b[0m N\u001b[38;5;241m=\u001b[39m \u001b[38;5;28;43mint\u001b[39;49m\u001b[43m(\u001b[49m\u001b[38;5;28;43minput\u001b[39;49m\u001b[43m(\u001b[49m\u001b[43m)\u001b[49m\u001b[43m)\u001b[49m\n\u001b[0;32m      4\u001b[0m num \u001b[38;5;241m=\u001b[39m defaultdict(\u001b[38;5;28mint\u001b[39m)\n\u001b[0;32m      5\u001b[0m \u001b[38;5;28;01mfor\u001b[39;00m i \u001b[38;5;129;01min\u001b[39;00m \u001b[38;5;28mrange\u001b[39m(N):\n",
      "\u001b[1;31mValueError\u001b[0m: invalid literal for int() with base 10: ''"
     ]
    }
   ],
   "source": [
    "from collections import defaultdict\n",
    "N= int(input())\n",
    "\n",
    "num = defaultdict(int)\n",
    "for i in range(N):\n",
    "    s = \"\".join(sorted(input()))\n",
    "    num[s] +=1\n",
    "result = 0\n",
    "for s in num:\n",
    "    n = num[s]\n",
    "    \n",
    "    result +=  n*(n-1) //2\n",
    "    \n",
    "print(result)"
   ]
  },
  {
   "cell_type": "code",
   "execution_count": 10,
   "metadata": {},
   "outputs": [
    {
     "name": "stdout",
     "output_type": "stream",
     "text": [
      "['a', 'd', 'e', 'e', 'f', 'f', 'g', 'w']\n"
     ]
    }
   ],
   "source": [
    "s = (sorted(\"dfaefegw\"))\n",
    "print(s)"
   ]
  },
  {
   "cell_type": "markdown",
   "metadata": {},
   "source": [
    "abc 164C　○"
   ]
  },
  {
   "cell_type": "code",
   "execution_count": null,
   "metadata": {},
   "outputs": [],
   "source": [
    "N = int(input())\n",
    "S = [input() for _ in range(N)]\n",
    "print(len(set(S)))"
   ]
  },
  {
   "cell_type": "markdown",
   "metadata": {},
   "source": [
    "abc 153C　○"
   ]
  },
  {
   "cell_type": "code",
   "execution_count": 16,
   "metadata": {},
   "outputs": [
    {
     "name": "stdout",
     "output_type": "stream",
     "text": [
      "5\n"
     ]
    }
   ],
   "source": [
    "N,K = map(int,input().split())\n",
    "H = list(map(int,input().split()))\n",
    "H_sort = sorted(H)\n",
    "ans = 0\n",
    "if K<N:\n",
    "    for i in range(N-K):\n",
    "        ans += H_sort[i]\n",
    "print(ans)"
   ]
  },
  {
   "cell_type": "markdown",
   "metadata": {},
   "source": [
    "abc154○"
   ]
  },
  {
   "cell_type": "code",
   "execution_count": 19,
   "metadata": {},
   "outputs": [
    {
     "name": "stdout",
     "output_type": "stream",
     "text": [
      "Yes\n"
     ]
    }
   ],
   "source": [
    "N = int(input())\n",
    "A = list(map(int,input().split()))\n",
    "if len(set(A)) == N:\n",
    "    print(\"YES\")\n",
    "else:\n",
    "    print(\"NO\")"
   ]
  },
  {
   "cell_type": "markdown",
   "metadata": {},
   "source": [
    "abc 118B　○"
   ]
  },
  {
   "cell_type": "code",
   "execution_count": null,
   "metadata": {},
   "outputs": [],
   "source": [
    "N,M = map(int,input().split())\n",
    "Ak = [list(map(int,input().split())) for i in range(K+1)]\n",
    "A = AK[1:][:]\n"
   ]
  },
  {
   "cell_type": "code",
   "execution_count": 17,
   "metadata": {},
   "outputs": [
    {
     "name": "stdout",
     "output_type": "stream",
     "text": [
      "1\n"
     ]
    }
   ],
   "source": [
    "\n",
    "from collections import defaultdict\n",
    "N,M = map(int,input().split())\n",
    "Ak = [list(map(int,input().split())) for i in range(N)]\n",
    "\n",
    "num = defaultdict(int)\n",
    "\n",
    "for i in Ak:\n",
    "    for j in range(1,int(i[0])+1):\n",
    "        num[i[j]] +=1\n",
    "\n",
    "count = 0\n",
    "for s in num:\n",
    "    if num[s] == N:\n",
    "        count +=1\n",
    "        \n",
    "print(count)"
   ]
  },
  {
   "cell_type": "code",
   "execution_count": null,
   "metadata": {},
   "outputs": [],
   "source": [
    "a = [list(map(int,input().split())) for i in range(3)]\n",
    "\n",
    "for i in a:\n",
    "    for j in range(1,int(i[0])):\n",
    "        "
   ]
  },
  {
   "cell_type": "markdown",
   "metadata": {},
   "source": [
    "abc 081C　○"
   ]
  },
  {
   "cell_type": "code",
   "execution_count": 24,
   "metadata": {},
   "outputs": [
    {
     "ename": "ValueError",
     "evalue": "not enough values to unpack (expected 2, got 0)",
     "output_type": "error",
     "traceback": [
      "\u001b[1;31m---------------------------------------------------------------------------\u001b[0m",
      "\u001b[1;31mValueError\u001b[0m                                Traceback (most recent call last)",
      "Cell \u001b[1;32mIn [24], line 2\u001b[0m\n\u001b[0;32m      1\u001b[0m \u001b[38;5;28;01mfrom\u001b[39;00m \u001b[38;5;21;01mcollections\u001b[39;00m \u001b[38;5;28;01mimport\u001b[39;00m defaultdict\n\u001b[1;32m----> 2\u001b[0m N,K \u001b[38;5;241m=\u001b[39m \u001b[38;5;28mmap\u001b[39m(\u001b[38;5;28mint\u001b[39m,\u001b[38;5;28minput\u001b[39m()\u001b[38;5;241m.\u001b[39msplit())\n\u001b[0;32m      3\u001b[0m A \u001b[38;5;241m=\u001b[39m \u001b[38;5;28mlist\u001b[39m(\u001b[38;5;28mmap\u001b[39m(\u001b[38;5;28mint\u001b[39m,\u001b[38;5;28minput\u001b[39m()\u001b[38;5;241m.\u001b[39msplit()))\n\u001b[0;32m      5\u001b[0m num \u001b[38;5;241m=\u001b[39m defaultdict(\u001b[38;5;28mint\u001b[39m)\n",
      "\u001b[1;31mValueError\u001b[0m: not enough values to unpack (expected 2, got 0)"
     ]
    }
   ],
   "source": [
    "from collections import defaultdict\n",
    "N,K = map(int,input().split())\n",
    "A = list(map(int,input().split()))\n",
    "\n",
    "num = defaultdict(int)\n",
    "ans = 0\n",
    "for i in A:\n",
    "    num[i] +=1\n",
    "sort_A = sorted(num.values(),reverse=True)\n",
    "if len(sort_A)>K:\n",
    "    for i in range(K,len(sort_A)):\n",
    "        ans +=sort_A[i]\n",
    "print(ans)"
   ]
  },
  {
   "cell_type": "code",
   "execution_count": 22,
   "metadata": {},
   "outputs": [
    {
     "data": {
      "text/plain": [
       "'cde'"
      ]
     },
     "execution_count": 22,
     "metadata": {},
     "output_type": "execute_result"
    }
   ],
   "source": [
    "a = [\"1\"]\n",
    "a[2:]"
   ]
  },
  {
   "cell_type": "markdown",
   "metadata": {},
   "source": [
    "Sign Up Requests　○"
   ]
  },
  {
   "cell_type": "code",
   "execution_count": 2,
   "metadata": {},
   "outputs": [
    {
     "name": "stdout",
     "output_type": "stream",
     "text": [
      "0 a\n",
      "1 b\n",
      "2 c\n"
     ]
    }
   ],
   "source": [
    "a = [\"a\",\"b\",\"c\"]\n",
    "for i,j in enumerate(a):\n",
    "    print(i,j)"
   ]
  },
  {
   "cell_type": "code",
   "execution_count": null,
   "metadata": {},
   "outputs": [],
   "source": [
    "N = int(input())\n",
    "S = [input() for _ in range(N)]\n",
    "A = set()\n",
    "for i,j in enumerate(S):\n",
    "    if j in A:\n",
    "        continue\n",
    "    A.add(j)\n",
    "    print(i+1)\n",
    "    "
   ]
  },
  {
   "cell_type": "code",
   "execution_count": null,
   "metadata": {},
   "outputs": [],
   "source": [
    "N = int(input())\n",
    "A = set()\n",
    "for i in range(N):\n",
    "    a = input()\n",
    "    if (a not in A):\n",
    "        A.addL(a)\n",
    "        print(i+1)"
   ]
  },
  {
   "cell_type": "markdown",
   "metadata": {},
   "source": [
    "abc 155C　○"
   ]
  },
  {
   "cell_type": "code",
   "execution_count": null,
   "metadata": {},
   "outputs": [],
   "source": [
    "from collections import defaultdict\n",
    "N = int(input())\n",
    "S= [input() for _ in range(N)]\n",
    "\n",
    "num = defaultdict(int)\n",
    "max_name = set()\n",
    "for i in S:\n",
    "    num[i] +=1\n",
    "max_count = 0\n",
    "for i in S:\n",
    "    max_count = max(max_count,num[i])\n",
    "for i in S:\n",
    "    if num[i] == max_count:\n",
    "        max_name.add(i)\n",
    "max_sort = sorted(max_name)\n",
    "print(*max_sort,sep=\"\\n\")"
   ]
  },
  {
   "cell_type": "markdown",
   "metadata": {},
   "source": [
    "abc 073C　○"
   ]
  },
  {
   "cell_type": "code",
   "execution_count": null,
   "metadata": {},
   "outputs": [],
   "source": [
    "N = int(input())\n",
    "A = [int(input()) for _ in range(N)]\n",
    "\n",
    "a = set()\n",
    "for i in A:\n",
    "    if i in a:\n",
    "        a.remove(i)\n",
    "    else:\n",
    "        a.add(i)\n",
    "print(len(a))"
   ]
  },
  {
   "cell_type": "markdown",
   "metadata": {},
   "source": [
    "abc 082C　○"
   ]
  },
  {
   "cell_type": "code",
   "execution_count": 3,
   "metadata": {},
   "outputs": [
    {
     "ename": "ValueError",
     "evalue": "invalid literal for int() with base 10: '3 3 3 3'",
     "output_type": "error",
     "traceback": [
      "\u001b[1;31m---------------------------------------------------------------------------\u001b[0m",
      "\u001b[1;31mValueError\u001b[0m                                Traceback (most recent call last)",
      "Cell \u001b[1;32mIn [3], line 6\u001b[0m\n\u001b[0;32m      3\u001b[0m \u001b[38;5;28;01mfrom\u001b[39;00m \u001b[38;5;21;01mcollections\u001b[39;00m \u001b[38;5;28;01mimport\u001b[39;00m defaultdict\n\u001b[0;32m      5\u001b[0m N\u001b[38;5;241m=\u001b[39m  \u001b[38;5;28mint\u001b[39m(\u001b[38;5;28minput\u001b[39m())\n\u001b[1;32m----> 6\u001b[0m A \u001b[38;5;241m=\u001b[39m [\u001b[38;5;28mint\u001b[39m(\u001b[38;5;28minput\u001b[39m()) \u001b[38;5;28;01mfor\u001b[39;00m _ \u001b[38;5;129;01min\u001b[39;00m \u001b[38;5;28mrange\u001b[39m(N)]\n\u001b[0;32m      8\u001b[0m num \u001b[38;5;241m=\u001b[39m defaultdict(\u001b[38;5;28mint\u001b[39m)\n\u001b[0;32m     10\u001b[0m \u001b[38;5;28;01mfor\u001b[39;00m i \u001b[38;5;129;01min\u001b[39;00m A:\n",
      "Cell \u001b[1;32mIn [3], line 6\u001b[0m, in \u001b[0;36m<listcomp>\u001b[1;34m(.0)\u001b[0m\n\u001b[0;32m      3\u001b[0m \u001b[38;5;28;01mfrom\u001b[39;00m \u001b[38;5;21;01mcollections\u001b[39;00m \u001b[38;5;28;01mimport\u001b[39;00m defaultdict\n\u001b[0;32m      5\u001b[0m N\u001b[38;5;241m=\u001b[39m  \u001b[38;5;28mint\u001b[39m(\u001b[38;5;28minput\u001b[39m())\n\u001b[1;32m----> 6\u001b[0m A \u001b[38;5;241m=\u001b[39m [\u001b[38;5;28;43mint\u001b[39;49m\u001b[43m(\u001b[49m\u001b[38;5;28;43minput\u001b[39;49m\u001b[43m(\u001b[49m\u001b[43m)\u001b[49m\u001b[43m)\u001b[49m \u001b[38;5;28;01mfor\u001b[39;00m _ \u001b[38;5;129;01min\u001b[39;00m \u001b[38;5;28mrange\u001b[39m(N)]\n\u001b[0;32m      8\u001b[0m num \u001b[38;5;241m=\u001b[39m defaultdict(\u001b[38;5;28mint\u001b[39m)\n\u001b[0;32m     10\u001b[0m \u001b[38;5;28;01mfor\u001b[39;00m i \u001b[38;5;129;01min\u001b[39;00m A:\n",
      "\u001b[1;31mValueError\u001b[0m: invalid literal for int() with base 10: '3 3 3 3'"
     ]
    }
   ],
   "source": [
    "#多かったらもとの数文削除\n",
    "#少なかったら全部削除\n",
    "from collections import defaultdict\n",
    "\n",
    "N=  int(input())\n",
    "A = list(map(int,input().split()))\n",
    "\n",
    "num = defaultdict(int)\n",
    "\n",
    "for i in A:\n",
    "    num[i] +=1\n",
    "ans = 0\n",
    "for j in set(A):\n",
    "    if num[j] >= j:\n",
    "        ans +=(num[j]-j)\n",
    "    else:\n",
    "        ans +=num[j]\n",
    "print(ans)\n",
    "\n",
    "    "
   ]
  },
  {
   "cell_type": "markdown",
   "metadata": {},
   "source": [
    "abc 058C　×"
   ]
  },
  {
   "cell_type": "code",
   "execution_count": null,
   "metadata": {},
   "outputs": [],
   "source": [
    "from collections import defaultdict\n",
    "num = defaultdict(int)\n",
    "n = int(input())\n",
    "S = [input() for _ in range(n)]\n",
    "for i in S:\n",
    "    for j in len(i):\n",
    "        num[i[j]] +=1\n"
   ]
  },
  {
   "cell_type": "code",
   "execution_count": null,
   "metadata": {},
   "outputs": [],
   "source": [
    "n = int(input())\n",
    "S = [input() for _ in range(n)]\n",
    "res = []\n",
    "for i in set(S[0]):\n",
    "    count = float(\"inf\")\n",
    "    for j in S:\n",
    "        count = min(count,j.count(i))\n",
    "    res.append(count*i)\n",
    "    \n",
    "res.sort()\n",
    "res = \"\".join(res)\n",
    "print(res)"
   ]
  },
  {
   "cell_type": "code",
   "execution_count": null,
   "metadata": {},
   "outputs": [],
   "source": []
  },
  {
   "cell_type": "code",
   "execution_count": 12,
   "metadata": {},
   "outputs": [
    {
     "name": "stdout",
     "output_type": "stream",
     "text": [
      "{'e', 'w', 'i', 'g', 'a', 'd'}\n"
     ]
    }
   ],
   "source": [
    "a = [\"aidgewg\",\"gieage\",\"aidgewg\"]\n",
    "print(set(a[0]))\n"
   ]
  },
  {
   "cell_type": "code",
   "execution_count": null,
   "metadata": {},
   "outputs": [],
   "source": [
    "from collections import defaultdict\n",
    "\n",
    "n = int(input())\n",
    "\n",
    "ans = defaultdict(int)\n",
    "\n",
    "for i in range(26):\n",
    "    tmp = chr(ord(\"a\")+i)\n",
    "    ans[tmp] = 1000\n",
    "res = \"\"\n",
    "\n",
    "for i in range(n):\n",
    "    S = input()\n",
    "    \n",
    "    for j in range(26):\n",
    "        tmp =chr(ord(\"a\") + j)\n",
    "        ans[tmp] = min(ans[tmp],S.count(tmp))\n",
    "\n",
    "for idx,val in ans.items():\n",
    "    res += idx * val\n",
    "pritn(res)\n",
    "    "
   ]
  },
  {
   "cell_type": "markdown",
   "metadata": {},
   "source": [
    "abc 206C　○"
   ]
  },
  {
   "cell_type": "markdown",
   "metadata": {},
   "source": [
    "abc 200C　○"
   ]
  },
  {
   "cell_type": "markdown",
   "metadata": {},
   "source": [
    "I Love 46　×"
   ]
  },
  {
   "cell_type": "code",
   "execution_count": null,
   "metadata": {},
   "outputs": [],
   "source": [
    "from collections import defaultdict\n",
    "N= int(input())\n",
    "ABC = [list(map(int,input().split())) for i in range(3)]\n",
    "ABC = [[l[i] % 46 for i in range(len(l))]for l in ABC]\n",
    " \n",
    "num_A = defaultdict(int)\n",
    "num_B = defaultdict(int)\n",
    "num_C = defaultdict(int)\n",
    "ans = 0\n",
    " \n",
    "for i in ABC[0]:\n",
    "    num_A[i] +=1\n",
    "for i in ABC[1]:\n",
    "    num_B[i] +=1\n",
    "for i in ABC[2]:\n",
    "    num_C[i] +=1\n",
    "for i in num_A.keys():\n",
    "    for j in num_B.keys():\n",
    "        for l in num_C.keys():\n",
    "            if (i + j + l) %46==0:\n",
    "                ans += num_A[i]*num_B[j]*num_C[l]\n",
    "print(ans)"
   ]
  },
  {
   "cell_type": "code",
   "execution_count": 1,
   "metadata": {},
   "outputs": [
    {
     "ename": "SyntaxError",
     "evalue": "invalid syntax (1891756349.py, line 2)",
     "output_type": "error",
     "traceback": [
      "\u001b[1;36m  Cell \u001b[1;32mIn [1], line 2\u001b[1;36m\u001b[0m\n\u001b[1;33m    whil i < N:\u001b[0m\n\u001b[1;37m         ^\u001b[0m\n\u001b[1;31mSyntaxError\u001b[0m\u001b[1;31m:\u001b[0m invalid syntax\n"
     ]
    }
   ],
   "source": [
    "i = 0\n",
    "while i < N:\n",
    "    j = i\n",
    "    while j < N and S[j] == S[i]:\n",
    "        j += 1\n",
    "    print(S[i],j-i)\n",
    "    i = j"
   ]
  },
  {
   "cell_type": "markdown",
   "metadata": {},
   "source": [
    "例題14"
   ]
  },
  {
   "cell_type": "code",
   "execution_count": 2,
   "metadata": {},
   "outputs": [],
   "source": [
    "S = input()\n",
    "\n",
    "words = []\n",
    "\n",
    "i = 0\n",
    "while i < len(S):\n",
    "    j = i+1\n",
    "    while j < len(S) and S[j].islower():\n",
    "        j +=1\n",
    "        #iからjまでを格納\n",
    "    words.append(S[i:j + 1])\n",
    "    \n",
    "    i = j +1\n",
    "words.sort(key = str.lower)"
   ]
  },
  {
   "cell_type": "markdown",
   "metadata": {},
   "source": [
    "abc 143C　○"
   ]
  },
  {
   "cell_type": "code",
   "execution_count": 1,
   "metadata": {},
   "outputs": [
    {
     "name": "stdout",
     "output_type": "stream",
     "text": [
      "a2b3a2d10\n"
     ]
    }
   ],
   "source": [
    "N = int(input())\n",
    "S = input()\n",
    "ans = 0\n",
    "i = 0\n",
    "while i < N:\n",
    "    j = i\n",
    "    while j < N and S[i]==S[j]:\n",
    "        j+=1\n",
    "    ans +=1\n",
    "    i =j\n",
    "print(ans)"
   ]
  },
  {
   "cell_type": "markdown",
   "metadata": {},
   "source": [
    "abc 019B　○"
   ]
  },
  {
   "cell_type": "code",
   "execution_count": 3,
   "metadata": {},
   "outputs": [
    {
     "name": "stdout",
     "output_type": "stream",
     "text": [
      "e1d1c1b1a1\n",
      "\n"
     ]
    }
   ],
   "source": [
    "S = input()\n",
    "i = 0\n",
    "while i < len(S):\n",
    "    j = i\n",
    "    count = 0\n",
    "    while j < len(S) and S[i]==S[j]:\n",
    "        j+=1\n",
    "        count +=1\n",
    "    print(S[i],end=\"\")\n",
    "    print(count,end=\"\")\n",
    "    i =j\n",
    "print(\"\")"
   ]
  },
  {
   "cell_type": "code",
   "execution_count": 6,
   "metadata": {},
   "outputs": [
    {
     "name": "stdout",
     "output_type": "stream",
     "text": [
      "e1d1c1b1a1\n"
     ]
    }
   ],
   "source": [
    "S = input()\n",
    "i = 0\n",
    "a = list()\n",
    "while i < len(S):\n",
    "    j = i\n",
    "    count = 0\n",
    "    while j < len(S) and S[i]==S[j]:\n",
    "        j+=1\n",
    "        count +=1\n",
    "    a.append(S[i])\n",
    "    a.append(count)\n",
    "    i =j\n",
    "print(*a,sep=\"\")"
   ]
  },
  {
   "cell_type": "markdown",
   "metadata": {},
   "source": [
    "abc 139C　×"
   ]
  },
  {
   "cell_type": "code",
   "execution_count": 8,
   "metadata": {},
   "outputs": [
    {
     "ename": "ValueError",
     "evalue": "invalid literal for int() with base 10: ''",
     "output_type": "error",
     "traceback": [
      "\u001b[1;31m---------------------------------------------------------------------------\u001b[0m",
      "\u001b[1;31mValueError\u001b[0m                                Traceback (most recent call last)",
      "Cell \u001b[1;32mIn [8], line 1\u001b[0m\n\u001b[1;32m----> 1\u001b[0m N \u001b[38;5;241m=\u001b[39m \u001b[38;5;28;43mint\u001b[39;49m\u001b[43m(\u001b[49m\u001b[38;5;28;43minput\u001b[39;49m\u001b[43m(\u001b[49m\u001b[43m)\u001b[49m\u001b[43m)\u001b[49m\n\u001b[0;32m      2\u001b[0m H \u001b[38;5;241m=\u001b[39m \u001b[38;5;28mlist\u001b[39m(\u001b[38;5;28mmap\u001b[39m(\u001b[38;5;28mint\u001b[39m,\u001b[38;5;28minput\u001b[39m()\u001b[38;5;241m.\u001b[39msplit()))\n\u001b[0;32m      3\u001b[0m i \u001b[38;5;241m=\u001b[39m \u001b[38;5;241m0\u001b[39m\n",
      "\u001b[1;31mValueError\u001b[0m: invalid literal for int() with base 10: ''"
     ]
    }
   ],
   "source": [
    "N = int(input())\n",
    "H = list(map(int,input().split()))\n",
    "i = 0\n",
    "ans = 0\n",
    "while i < len(H):\n",
    "    max_count = 0\n",
    "    j = i+1\n",
    "    while j < len(H) and (H[i]>=H[j]):\n",
    "        j+=1\n",
    "        i+=1\n",
    "        max_count +=1\n",
    "    ans = max(ans,max_count)\n",
    "    i = j\n",
    "print(ans)"
   ]
  },
  {
   "cell_type": "code",
   "execution_count": null,
   "metadata": {},
   "outputs": [],
   "source": [
    "N = int(input())\n",
    "H = list(map(int,input().split()))\n",
    "i = 0\n",
    "ans = 0\n",
    "while i < N:\n",
    "    max_count = 0\n",
    "    j = i\n",
    "    while j < len(H) and (H[i]>=H[j+1]):\n",
    "        j+=1\n",
    "        i+=1\n",
    "        max_count +=1\n",
    "    ans = max(ans,max_count)\n",
    "    i = j\n",
    "print(ans)"
   ]
  },
  {
   "cell_type": "markdown",
   "metadata": {},
   "source": [
    "abc 116C　×"
   ]
  },
  {
   "cell_type": "code",
   "execution_count": null,
   "metadata": {},
   "outputs": [],
   "source": [
    "N = int(input())\n",
    "H = list(map(int,input().split()))\n",
    "count = 0\n",
    "while True:\n",
    "    if max(H) ==0:\n",
    "        break\n",
    "    i = 0\n",
    "    while (i<N):\n",
    "        #0のところではそのまま番号を進める\n",
    "        if H[i]==0:\n",
    "            i+=1\n",
    "        #0以外の所ではどれだけ次に0が来なくなるまで一気位に進める\n",
    "        else:\n",
    "            count += 1\n",
    "            while i < N and H[i] >0:\n",
    "                H[i]-=1\n",
    "                i+=1\n",
    "print(count)\n"
   ]
  },
  {
   "cell_type": "markdown",
   "metadata": {},
   "source": [
    "AGC 026A　○"
   ]
  },
  {
   "cell_type": "code",
   "execution_count": null,
   "metadata": {},
   "outputs": [],
   "source": [
    "N = int(input())\n",
    "A = list(map(int,input().split()))\n",
    "i = 0\n",
    "ans = 0\n",
    "while i < N:\n",
    "    count = 0\n",
    "    j = i\n",
    "    while j <N and (A[i]==A[j]):\n",
    "        j+=1\n",
    "        count +=1\n",
    "    ans += count//2\n",
    "    i = j\n",
    "print(ans)\n",
    "        "
   ]
  },
  {
   "cell_type": "markdown",
   "metadata": {},
   "source": [
    "AGC 040A　× ><が0であることに注目"
   ]
  },
  {
   "cell_type": "code",
   "execution_count": null,
   "metadata": {},
   "outputs": [],
   "source": [
    "S = input()\n",
    "i = 0\n",
    "N = len(S)\n",
    "ans = 0\n",
    "\n",
    "while i < N:\n",
    "    max_count = 0\n",
    "    j = i\n",
    "    while j < N and (S[i]==S[j]):\n",
    "        j+=1\n",
    "        max_count += 1\n",
    "        ans +=max_count\n",
    "    "
   ]
  },
  {
   "cell_type": "code",
   "execution_count": 4,
   "metadata": {},
   "outputs": [
    {
     "name": "stdout",
     "output_type": "stream",
     "text": [
      "[0, 2, 1, 0]\n"
     ]
    }
   ],
   "source": [
    "S =input()\n",
    "A = [0]*(len(S)+1)\n",
    "for i in range(0,len(S)):\n",
    "    if S[i]==\"<\":\n",
    "        A[i+1] = A[i]+1\n",
    "for i in range(len(S)-1,-1,-1):\n",
    "    if S[i] == \">\":\n",
    "        A[i] = max(A[i],A[i+1]+1)\n",
    "print(sum(A))\n",
    "    "
   ]
  },
  {
   "cell_type": "markdown",
   "metadata": {},
   "source": [
    "AGC 013A　×"
   ]
  },
  {
   "cell_type": "code",
   "execution_count": 10,
   "metadata": {},
   "outputs": [
    {
     "ename": "IndexError",
     "evalue": "list index out of range",
     "output_type": "error",
     "traceback": [
      "\u001b[1;31m---------------------------------------------------------------------------\u001b[0m",
      "\u001b[1;31mIndexError\u001b[0m                                Traceback (most recent call last)",
      "Cell \u001b[1;32mIn [10], line 10\u001b[0m\n\u001b[0;32m      8\u001b[0m     \u001b[38;5;28;01mcontinue\u001b[39;00m\n\u001b[0;32m      9\u001b[0m \u001b[38;5;28;01mif\u001b[39;00m (i\u001b[38;5;241m+\u001b[39m\u001b[38;5;241m1\u001b[39m \u001b[38;5;241m<\u001b[39m N \u001b[38;5;129;01mand\u001b[39;00m A[i]\u001b[38;5;241m<\u001b[39m\u001b[38;5;241m=\u001b[39m A[i\u001b[38;5;241m+\u001b[39m\u001b[38;5;241m1\u001b[39m]):\n\u001b[1;32m---> 10\u001b[0m     \u001b[38;5;28;01mwhile\u001b[39;00m(i\u001b[38;5;241m+\u001b[39m\u001b[38;5;241m1\u001b[39m \u001b[38;5;241m<\u001b[39m\u001b[38;5;241m=\u001b[39m N \u001b[38;5;129;01mand\u001b[39;00m \u001b[43mA\u001b[49m\u001b[43m[\u001b[49m\u001b[43mi\u001b[49m\u001b[38;5;241;43m+\u001b[39;49m\u001b[38;5;241;43m1\u001b[39;49m\u001b[43m]\u001b[49m):\n\u001b[0;32m     11\u001b[0m         i\u001b[38;5;241m+\u001b[39m\u001b[38;5;241m=\u001b[39m\u001b[38;5;241m1\u001b[39m\n\u001b[0;32m     12\u001b[0m \u001b[38;5;28;01melif\u001b[39;00m (i\u001b[38;5;241m+\u001b[39m\u001b[38;5;241m1\u001b[39m \u001b[38;5;241m<\u001b[39m N \u001b[38;5;129;01mand\u001b[39;00m A[i] \u001b[38;5;241m>\u001b[39m A[i\u001b[38;5;241m+\u001b[39m\u001b[38;5;241m1\u001b[39m]):\n",
      "\u001b[1;31mIndexError\u001b[0m: list index out of range"
     ]
    }
   ],
   "source": [
    "N = int(input())\n",
    "A =list(map(int,input().split()))\n",
    "count = 0\n",
    "i = 0\n",
    "while i < N:\n",
    "    while (i+1 < N and A[i]==A[i+1]):\n",
    "        i+=1\n",
    "    if (i+1 < N and A[i]<A[i+1]):\n",
    "        while(i+1 < N and A[i] <=A[i+1]):\n",
    "            i+=1\n",
    "    elif (i+1 < N and A[i] > A[i+1]):\n",
    "        #増やすだけは同じ値をとっていても問題なし\n",
    "        while (i+1 < N and A[i] >= A[i+1]):\n",
    "            i+=1\n",
    "            #次の区切りに進むためにプラス１をしておく\n",
    "    i+=1\n",
    "    count +=1\n",
    "print(count)"
   ]
  },
  {
   "cell_type": "markdown",
   "metadata": {},
   "source": [
    "AGC 039 A　×　難しかった"
   ]
  },
  {
   "cell_type": "code",
   "execution_count": 7,
   "metadata": {},
   "outputs": [
    {
     "name": "stdout",
     "output_type": "stream",
     "text": [
      "160\n"
     ]
    }
   ],
   "source": [
    "S = input()\n",
    "K = int(input())\n",
    "ans = 0\n",
    "i = 0\n",
    "len_a =0\n",
    "len_b = 0\n",
    "N = len(S)\n",
    "while i < N:\n",
    "    count = 0\n",
    "    j = i\n",
    "    while j <N and (S[i]==S[j]):\n",
    "        j+=1\n",
    "        count +=1\n",
    "    if S[0]!=S[N-1] and (i!=0 or i!=(N-1)):\n",
    "        ans += count//2*K\n",
    "    if i ==0:\n",
    "        len_a = count\n",
    "    i = j\n",
    "    if i==N-1:\n",
    "        len_b = count\n",
    "if S[0]==S[N-1]:\n",
    "    ans+=(len_a+len_b)//2 * (K-1)\n",
    "print(ans)"
   ]
  },
  {
   "cell_type": "code",
   "execution_count": 14,
   "metadata": {},
   "outputs": [
    {
     "name": "stdout",
     "output_type": "stream",
     "text": [
      "81\n"
     ]
    }
   ],
   "source": [
    "from itertools import groupby\n",
    "S = input()\n",
    "K = int(input())\n",
    "ans = 0\n",
    "rle = [len(list(g)) for c,g in groupby(S)]\n",
    "if len(rle)==1:\n",
    "    ans = len(S)*K//2\n",
    "else:\n",
    "    if S[0]==S[-1]:\n",
    "        for i in range(1,len(rle)-1):\n",
    "            ans+=i//2*K\n",
    "        ans+=(rle[0]+rle[-1])//2*(K-1)\n",
    "    else:\n",
    "        for i in range(0,len(rle)):\n",
    "            ans+=i//2*K\n",
    "print(ans)\n",
    "        "
   ]
  },
  {
   "cell_type": "code",
   "execution_count": 22,
   "metadata": {},
   "outputs": [
    {
     "name": "stdout",
     "output_type": "stream",
     "text": [
      "4\n"
     ]
    }
   ],
   "source": [
    "from itertools import groupby\n",
    "S = input()\n",
    "K = int(input())\n",
    "ans = 0\n",
    "rle = [len(list(g)) for c,g in groupby(S)]\n",
    "#全部が同じ場合はs*kこのうち//2個が答え\n",
    "if len(rle)==1:\n",
    "    ans = len(S)*K//2\n",
    "else:\n",
    "    #最初が異なる場合は全てｋ倍すればよい\n",
    "    if S[0]!=S[-1]:\n",
    "        ans = sum([i//2*K for i in rle])\n",
    "    #最初が同じ場合は端だけを考えて、それ以外は文字列がa+b個としてk-1倍を考える\n",
    "    elif S[0]==S[-1]:\n",
    "        ans =  rle[0]//2+(rle[0]+rle[-1])//2*(K-1)+rle[-1]//2\n",
    "        for i in range(1,len(rle)-1):\n",
    "            ans+=rle[i]//2*K\n",
    "print(ans)"
   ]
  },
  {
   "cell_type": "markdown",
   "metadata": {},
   "source": [
    "× ABC 136D"
   ]
  },
  {
   "cell_type": "code",
   "execution_count": null,
   "metadata": {},
   "outputs": [],
   "source": [
    "S = input()\n",
    "ans = [0]*len(S)\n",
    "i = 0\n",
    "while i < len(S):\n",
    "    j = i\n",
    "    while j<len(S) and S[j]==S[i]:\n",
    "        j+=1\n",
    "    if S[i]==\"R\":\n",
    "        ans[j] += (j-i)//2\n",
    "        ans[j-1] += (j-i+1)//2\n",
    "    else:\n",
    "        ans[i] += (j-i+1)//2\n",
    "        ans[i-1]+= (j-i)//2\n",
    "    i= j\n",
    "print(\" \".join([str(i) for i in ans]))"
   ]
  },
  {
   "cell_type": "markdown",
   "metadata": {},
   "source": [
    "AGC016A skip"
   ]
  },
  {
   "cell_type": "markdown",
   "metadata": {},
   "source": [
    "典型９０　084　考え方のみ×"
   ]
  },
  {
   "cell_type": "code",
   "execution_count": 1,
   "metadata": {},
   "outputs": [
    {
     "ename": "NameError",
     "evalue": "name 'i' is not defined",
     "output_type": "error",
     "traceback": [
      "\u001b[1;31m---------------------------------------------------------------------------\u001b[0m",
      "\u001b[1;31mNameError\u001b[0m                                 Traceback (most recent call last)",
      "Cell \u001b[1;32mIn [1], line 6\u001b[0m\n\u001b[0;32m      2\u001b[0m S \u001b[38;5;241m=\u001b[39m \u001b[38;5;28minput\u001b[39m()\n\u001b[0;32m      4\u001b[0m ret \u001b[38;5;241m=\u001b[39m \u001b[38;5;241m0\u001b[39m\n\u001b[1;32m----> 6\u001b[0m \u001b[38;5;28;01mwhile\u001b[39;00m \u001b[43mi\u001b[49m \u001b[38;5;241m<\u001b[39m \u001b[38;5;28mlen\u001b[39m(S):\n\u001b[0;32m      7\u001b[0m     j \u001b[38;5;241m=\u001b[39m i\n\u001b[0;32m      8\u001b[0m     \u001b[38;5;28;01mwhile\u001b[39;00m j \u001b[38;5;241m<\u001b[39m \u001b[38;5;28mlen\u001b[39m(S) \u001b[38;5;129;01mand\u001b[39;00m S[j]\u001b[38;5;241m==\u001b[39mS[i]:\n",
      "\u001b[1;31mNameError\u001b[0m: name 'i' is not defined"
     ]
    }
   ],
   "source": [
    "N= int(input())\n",
    "S = input()\n",
    "\n",
    "ret = 0\n",
    "i=0\n",
    "ans = 0\n",
    "while i < len(S):\n",
    "    j = i\n",
    "    while j < len(S) and S[j]==S[i]:\n",
    "        j+=1\n",
    "    n = j-i\n",
    "    ret += (n+1)*n//2\n",
    "    i=j\n",
    "ans = N*(N+1)//2-ret\n",
    "print(ans)"
   ]
  },
  {
   "cell_type": "code",
   "execution_count": 3,
   "metadata": {},
   "outputs": [
    {
     "name": "stdout",
     "output_type": "stream",
     "text": [
      "[2, 3, 1]\n"
     ]
    }
   ],
   "source": [
    "from itertools import groupby\n",
    "N= int(input())\n",
    "S = input()\n",
    "ret = 0\n",
    "rle = [len(list(g)) for c,g in groupby(S)]\n",
    "for i in rle:\n",
    "    ret += i*(i+1)//2\n",
    "print(N*(N+1)//2-ret)"
   ]
  },
  {
   "cell_type": "markdown",
   "metadata": {},
   "source": [
    "5-5グラフ"
   ]
  },
  {
   "cell_type": "markdown",
   "metadata": {},
   "source": [
    "例題15"
   ]
  },
  {
   "cell_type": "code",
   "execution_count": null,
   "metadata": {},
   "outputs": [],
   "source": [
    "N,M = map(int,input().split())\n",
    "\n",
    "G = [[] for i in range(N)]\n",
    "\n",
    "for i in range(M):\n",
    "    u,v = map(int,input().split())\n",
    "    G[u].append(v)\n",
    "    G[v].append(u)\n",
    "    "
   ]
  },
  {
   "cell_type": "code",
   "execution_count": 14,
   "metadata": {},
   "outputs": [
    {
     "name": "stdout",
     "output_type": "stream",
     "text": [
      "010\n"
     ]
    }
   ],
   "source": [
    "N = int(input())\n",
    "if N<16:\n",
    "    print(\"0\"+str.upper(hex(N)[2:]))\n",
    "else:\n",
    "    print(str.upper(hex(N)[2:]))"
   ]
  },
  {
   "cell_type": "code",
   "execution_count": null,
   "metadata": {},
   "outputs": [],
   "source": [
    "N,M,Q = map(int,input().split())\n",
    "G = [[] for i in range(N)]\n",
    "for i in range(M):\n",
    "    u,v = map(int,input().split())\n",
    "    u-=1\n",
    "    v-=1\n",
    "    \n",
    "    G[u].append(v)\n",
    "    G[v].append(u)\n",
    "    \n",
    "col = list(map(int,input().split()))\n",
    "\n",
    "for i in range(Q):\n",
    "    t,x,*y = (map(int,input().split()))\n",
    "    x-=1\n",
    "    print(col[x])\n",
    "    \n",
    "    if t==1:\n",
    "        for v in G[x]:\n",
    "            col[v] = col[x]\n",
    "        else:\n",
    "            col[x]=y[0]\n",
    "            "
   ]
  },
  {
   "cell_type": "code",
   "execution_count": 4,
   "metadata": {},
   "outputs": [],
   "source": [
    "t,x,*y = map(int,input().split())"
   ]
  },
  {
   "cell_type": "code",
   "execution_count": 5,
   "metadata": {},
   "outputs": [
    {
     "data": {
      "text/plain": [
       "[3, 4]"
      ]
     },
     "execution_count": 5,
     "metadata": {},
     "output_type": "execute_result"
    }
   ],
   "source": [
    "y"
   ]
  },
  {
   "cell_type": "markdown",
   "metadata": {},
   "source": [
    "abc 061B　○"
   ]
  },
  {
   "cell_type": "code",
   "execution_count": 2,
   "metadata": {},
   "outputs": [
    {
     "ename": "ValueError",
     "evalue": "not enough values to unpack (expected 2, got 0)",
     "output_type": "error",
     "traceback": [
      "\u001b[1;31m---------------------------------------------------------------------------\u001b[0m",
      "\u001b[1;31mValueError\u001b[0m                                Traceback (most recent call last)",
      "Cell \u001b[1;32mIn [2], line 1\u001b[0m\n\u001b[1;32m----> 1\u001b[0m N,M \u001b[38;5;241m=\u001b[39m \u001b[38;5;28mmap\u001b[39m(\u001b[38;5;28mint\u001b[39m,\u001b[38;5;28minput\u001b[39m()\u001b[38;5;241m.\u001b[39msplit())\n\u001b[0;32m      2\u001b[0m G \u001b[38;5;241m=\u001b[39m [[] \u001b[38;5;28;01mfor\u001b[39;00m i \u001b[38;5;129;01min\u001b[39;00m \u001b[38;5;28mrange\u001b[39m(N)]\n\u001b[0;32m      3\u001b[0m \u001b[38;5;28;01mfor\u001b[39;00m i \u001b[38;5;129;01min\u001b[39;00m \u001b[38;5;28mrange\u001b[39m(M):\n",
      "\u001b[1;31mValueError\u001b[0m: not enough values to unpack (expected 2, got 0)"
     ]
    }
   ],
   "source": [
    "N,M = map(int,input().split())\n",
    "G = [[] for i in range(N)]\n",
    "for i in range(M):\n",
    "    u,v = map(int,input().split())\n",
    "    u-=1\n",
    "    v-=1\n",
    "    G[u].append(v)\n",
    "    G[v].append(u)\n",
    "for i in range(N):\n",
    "    print(len(G[i]))"
   ]
  },
  {
   "cell_type": "markdown",
   "metadata": {},
   "source": [
    "abc 163C　○"
   ]
  },
  {
   "cell_type": "code",
   "execution_count": null,
   "metadata": {},
   "outputs": [],
   "source": [
    "N = int(input())\n",
    "G = [[] for i in range(N)]\n",
    "A = map(int,input().split())\n",
    "for i in A:\n",
    "    i-=1\n",
    "    G[i].append(i)\n",
    "for i in range(N):\n",
    "    print(len(G[i]))\n",
    "    "
   ]
  },
  {
   "cell_type": "markdown",
   "metadata": {},
   "source": [
    "abc166 C"
   ]
  },
  {
   "cell_type": "code",
   "execution_count": 7,
   "metadata": {},
   "outputs": [
    {
     "ename": "ValueError",
     "evalue": "not enough values to unpack (expected 2, got 0)",
     "output_type": "error",
     "traceback": [
      "\u001b[1;31m---------------------------------------------------------------------------\u001b[0m",
      "\u001b[1;31mValueError\u001b[0m                                Traceback (most recent call last)",
      "Cell \u001b[1;32mIn [7], line 1\u001b[0m\n\u001b[1;32m----> 1\u001b[0m N,M \u001b[38;5;241m=\u001b[39m \u001b[38;5;28mmap\u001b[39m(\u001b[38;5;28mint\u001b[39m,\u001b[38;5;28minput\u001b[39m()\u001b[38;5;241m.\u001b[39msplit())\n\u001b[0;32m      2\u001b[0m H \u001b[38;5;241m=\u001b[39m \u001b[38;5;28mlist\u001b[39m(\u001b[38;5;28mmap\u001b[39m(\u001b[38;5;28mint\u001b[39m,\u001b[38;5;28minput\u001b[39m()\u001b[38;5;241m.\u001b[39msplit()))\n\u001b[0;32m      3\u001b[0m G \u001b[38;5;241m=\u001b[39m [[] \u001b[38;5;28;01mfor\u001b[39;00m i \u001b[38;5;129;01min\u001b[39;00m \u001b[38;5;28mrange\u001b[39m(N)]\n",
      "\u001b[1;31mValueError\u001b[0m: not enough values to unpack (expected 2, got 0)"
     ]
    }
   ],
   "source": [
    "N,M = map(int,input().split())\n",
    "H = list(map(int,input().split()))\n",
    "G = [[] for i in range(N)]\n",
    "count = 0\n",
    "for i in range(M):\n",
    "    u,v = map(int,input().split())\n",
    "    u-=1\n",
    "    v-=1\n",
    "    G[u].append(v)\n",
    "    G[v].append(u)\n",
    "for i in range(N):\n",
    "    tmp = []\n",
    "    if len(G[i])==0:\n",
    "        count +=1\n",
    "    for j in G[i]:\n",
    "        tmp.append(H[j])\n",
    "    if len(tmp)== 0:\n",
    "        continue\n",
    "    if max(tmp) < H[i]:\n",
    "        count +=1\n",
    "print(count)"
   ]
  },
  {
   "cell_type": "markdown",
   "metadata": {},
   "source": [
    "典型９０　078　○"
   ]
  },
  {
   "cell_type": "code",
   "execution_count": 3,
   "metadata": {},
   "outputs": [
    {
     "name": "stdout",
     "output_type": "stream",
     "text": [
      "4\n"
     ]
    }
   ],
   "source": [
    "N,M = map(int,input().split())\n",
    "G = [[] for i in range(N)]\n",
    "for i in range(M):\n",
    "    u,v = map(int,input().split())\n",
    "    u-=1\n",
    "    v-=1\n",
    "    G[u].append(v)\n",
    "    G[v].append(u)\n",
    "ans = 0\n",
    "for i in range(N):\n",
    "    count = 0\n",
    "    for j in G[i]:\n",
    "        if i>j and len(G[i])!=0:\n",
    "            count+=1\n",
    "    if count==1:\n",
    "        ans +=1\n",
    "        \n",
    "print(ans)\n",
    "            "
   ]
  },
  {
   "cell_type": "markdown",
   "metadata": {},
   "source": [
    "○　第一回Past E"
   ]
  },
  {
   "cell_type": "code",
   "execution_count": 4,
   "metadata": {},
   "outputs": [
    {
     "data": {
      "text/plain": [
       "['N', 'N', 'N']"
      ]
     },
     "execution_count": 4,
     "metadata": {},
     "output_type": "execute_result"
    }
   ],
   "source": [
    "def Int():\n",
    "    return int(input())\n",
    "def Map():\n",
    "    return map(int,input().split())\n",
    "def List():\n",
    "    return list(map(int,input().split()))\n",
    "\n",
    "N,Q = List()\n",
    "G_ans = [[\"N\"]*N for i in range(0,N)]\n",
    "G_follow = []\n",
    "for _ in range(Q):\n",
    "    G_follow = []\n",
    "    S = List()\n",
    "    if S[0]==1:\n",
    "        u,v = S[1],S[2]\n",
    "        u-=1\n",
    "        v-=1\n",
    "        G_ans[u][v]=\"Y\"\n",
    "    elif S[0]==2:\n",
    "        for i in range(N):\n",
    "            if G_ans[i][S[1]-1]==\"Y\":\n",
    "                G_ans[S[1]-1][i]=\"Y\"\n",
    "    elif S[0]==3:\n",
    "        for i in range(N):\n",
    "            if G_ans[S[1]-1][i]==\"Y\":\n",
    "                G_follow.append(i)\n",
    "        for i in G_follow:\n",
    "            for j in range(N):\n",
    "                if G_ans[i][j]==\"Y\" and j != S[1]-1:\n",
    "                    G_ans[S[1]-1][j]=\"Y\"\n",
    "                    \n",
    "        G_follow = []\n",
    "for i in range(N):\n",
    "    ans = \"\".join(G_ans[i])\n",
    "    print(ans)\n",
    "            \n",
    "        "
   ]
  },
  {
   "cell_type": "code",
   "execution_count": 32,
   "metadata": {},
   "outputs": [
    {
     "data": {
      "text/plain": [
       "'NNN'"
      ]
     },
     "execution_count": 32,
     "metadata": {},
     "output_type": "execute_result"
    }
   ],
   "source": [
    "ans = \"\".join(G[1])\n",
    "ans"
   ]
  },
  {
   "cell_type": "code",
   "execution_count": 34,
   "metadata": {},
   "outputs": [
    {
     "name": "stdout",
     "output_type": "stream",
     "text": [
      "[[1], [2], [3], [0]]\n"
     ]
    }
   ],
   "source": [
    "def Int():\n",
    "    return int(input())\n",
    "def Map():\n",
    "    return map(int,input().split())\n",
    "def List():\n",
    "    return list(map(int,input().split()))\n",
    "\n",
    "N,M = List()\n",
    "G = [[]for _ in range(N)]\n",
    "for _ in range(M):\n",
    "    u,v = List()\n",
    "    u-=1\n",
    "    v-=1\n",
    "    G[u].append(v)\n",
    "\n",
    "print(G)\n",
    "    \n",
    "    "
   ]
  },
  {
   "cell_type": "markdown",
   "metadata": {},
   "source": [
    "abc 054 c skip"
   ]
  },
  {
   "cell_type": "markdown",
   "metadata": {},
   "source": [
    "abc 204 C　×　アルゴリズムDFS"
   ]
  },
  {
   "cell_type": "code",
   "execution_count": 4,
   "metadata": {},
   "outputs": [],
   "source": [
    "N,M = map(int,input().split())\n",
    "G = [[] for i in range(N)]\n",
    "for i in range(M):\n",
    "    u,v = map(int,input().split())\n",
    "    u-=1\n",
    "    v-=1\n",
    "    G[u].append(v)\n"
   ]
  },
  {
   "cell_type": "code",
   "execution_count": 43,
   "metadata": {},
   "outputs": [
    {
     "name": "stdout",
     "output_type": "stream",
     "text": [
      "1\n",
      "2\n",
      "[True, True, True]\n",
      "2\n",
      "[False, True, True]\n",
      "1\n",
      "[False, True, True]\n",
      "7\n"
     ]
    }
   ],
   "source": [
    "import sys\n",
    "sys.setrecursionlimit(10000)\n",
    "#再帰呼び出しの上限を増やす\n",
    "\n",
    "N,M=map(int,input().split())\n",
    "G=[[] for i in range(N)]\n",
    "# G[i] は都市iから道路で直接繋がっている都市のリスト\n",
    "for i in range(M):\n",
    "  A,B=map(int,input().split())\n",
    "  G[A-1].append(B-1)\n",
    "\n",
    "#再起でどんどん深くの頂点を見ていく\n",
    "#一度見た頂点はTrueで\n",
    "def dfs(v):\n",
    "    seen[v] = True\n",
    "\n",
    "    for next_v in G[v]:\n",
    "        if seen[next_v]:\n",
    "            continue\n",
    "        print(next_v)\n",
    "        dfs(next_v)\n",
    "ans=0\n",
    "# 都市iからスタートする場合\n",
    "for i in range(N):\n",
    "  seen=[False]*N\n",
    "  dfs(i)\n",
    "  print(seen)\n",
    "  ans+=sum(seen)\n",
    "print(ans)"
   ]
  },
  {
   "cell_type": "markdown",
   "metadata": {},
   "source": [
    "abc 075 skip"
   ]
  },
  {
   "cell_type": "markdown",
   "metadata": {},
   "source": [
    "典型９０ 026 skip"
   ]
  },
  {
   "cell_type": "markdown",
   "metadata": {},
   "source": [
    "5-6累積和"
   ]
  },
  {
   "cell_type": "code",
   "execution_count": null,
   "metadata": {},
   "outputs": [],
   "source": [
    "N,Q = map(int,input().split())\n",
    "S = input()\n",
    "\n",
    "cs = [0]*(N+1)\n",
    "for i in range(1,N):\n",
    "    cs[i+1] = cs[i]+ (S[i-1:i+1] == \"AC\")\n",
    "    \n",
    "for q in range(Q):\n",
    "    l,r = map(int,input().split())\n",
    "    l-=1\n",
    "    \n",
    "    print(cs[r]-cs[l+1])\n",
    "    "
   ]
  },
  {
   "cell_type": "markdown",
   "metadata": {},
   "source": [
    "×　90 問10"
   ]
  },
  {
   "cell_type": "code",
   "execution_count": 3,
   "metadata": {},
   "outputs": [
    {
     "ename": "IndexError",
     "evalue": "list assignment index out of range",
     "output_type": "error",
     "traceback": [
      "\u001b[1;31m---------------------------------------------------------------------------\u001b[0m",
      "\u001b[1;31mIndexError\u001b[0m                                Traceback (most recent call last)",
      "Cell \u001b[1;32mIn [3], line 13\u001b[0m\n\u001b[0;32m     11\u001b[0m S_2 \u001b[39m=\u001b[39m [\u001b[39m0\u001b[39m]\u001b[39m*\u001b[39m\u001b[39mlen\u001b[39m(class_2)\n\u001b[0;32m     12\u001b[0m \u001b[39mfor\u001b[39;00m i \u001b[39min\u001b[39;00m \u001b[39mrange\u001b[39m(\u001b[39mlen\u001b[39m(class_1)):\n\u001b[1;32m---> 13\u001b[0m     S_1[i\u001b[39m+\u001b[39;49m\u001b[39m1\u001b[39;49m]\u001b[39m=\u001b[39mS_1[i]\u001b[39m+\u001b[39mclass_1[i]\n\u001b[0;32m     14\u001b[0m \u001b[39mfor\u001b[39;00m i \u001b[39min\u001b[39;00m \u001b[39mrange\u001b[39m(\u001b[39mlen\u001b[39m(class_2)):\n\u001b[0;32m     15\u001b[0m     S_2[i\u001b[39m+\u001b[39m\u001b[39m1\u001b[39m]\u001b[39m=\u001b[39mS_2[i]\u001b[39m+\u001b[39mclass_2[i]\n",
      "\u001b[1;31mIndexError\u001b[0m: list assignment index out of range"
     ]
    }
   ],
   "source": [
    "N = int(input())\n",
    "class_1 = []\n",
    "class_2 = []\n",
    "for _ in range(N):\n",
    "    C,P = map(int,input().split())\n",
    "    if C==1:\n",
    "        class_1.append(P)\n",
    "    else:\n",
    "        class_2.append(P)\n",
    "S_1 = [0]*(len(class_1)+1)\n",
    "S_2 = [0]*(len(class_2)+1)\n",
    "for i in range(len(class_1)):\n",
    "    S_1[i+1]=S_1[i]+class_1[i]\n",
    "for i in range(len(class_2)):\n",
    "    S_2[i+1]=S_2[i]+class_2[i]\n",
    "\n",
    "Q = int(input())\n",
    "for l in range(Q):\n",
    "    L,R = map(int,input().split())\n",
    "    print(S_1[R]-S_1[L],S_2[R]-S_2[L])"
   ]
  },
  {
   "cell_type": "code",
   "execution_count": 4,
   "metadata": {},
   "outputs": [
    {
     "name": "stdout",
     "output_type": "stream",
     "text": [
      "1 2\n"
     ]
    }
   ],
   "source": [
    "N = int(input())\n",
    "S_1 = [0]*(N+1)\n",
    "S_2 = [0]*(N+1)\n",
    "\n",
    "for i in range(N):\n",
    "    C,P = map(int,input().split())\n",
    "    if C==1:\n",
    "        S_1[i+1]=S_1[i]+P\n",
    "        S_2[i+1]=S_2[i]\n",
    "    else:\n",
    "        S_2[i+1]=S_2[i]+P\n",
    "        S_1[i+1]=S_1[i]\n",
    "\n",
    "Q = int(input())\n",
    "#添え字を合わせるためにl-1しなければならない\n",
    "#１左にずらす　\n",
    "for l in range(Q):\n",
    "    L,R = map(int,input().split())\n",
    "    print(S_1[R]-S_1[L-1],S_2[R]-S_2[L-1])\n",
    "\n",
    "print(S_1)\n",
    "print(S_2)"
   ]
  },
  {
   "cell_type": "markdown",
   "metadata": {},
   "source": [
    "　○　全国統一プログラミング本戦A  abundant resources"
   ]
  },
  {
   "cell_type": "code",
   "execution_count": 11,
   "metadata": {},
   "outputs": [
    {
     "name": "stdout",
     "output_type": "stream",
     "text": [
      "[0, 4, 5, 8, 11]\n",
      "4\n",
      "6\n",
      "8\n",
      "11\n"
     ]
    }
   ],
   "source": [
    "N = int(input())\n",
    "A = list(map(int,input().split()))\n",
    "S = [0]*(N+1)\n",
    "for i in range(N):\n",
    "    S[i+1] = S[i]+A[i]\n",
    "\n",
    "for i in range(1,N+1):\n",
    "    ans = 0\n",
    "    for l in range(N-i+1):\n",
    "        ans = max(S[l+i]-S[l],ans)\n",
    "    print(ans)\n",
    "    "
   ]
  },
  {
   "cell_type": "markdown",
   "metadata": {},
   "source": [
    "　○　第六回PAST D"
   ]
  },
  {
   "cell_type": "code",
   "execution_count": 12,
   "metadata": {},
   "outputs": [
    {
     "name": "stdout",
     "output_type": "stream",
     "text": [
      "4\n",
      "1\n",
      "1\n",
      "-5\n"
     ]
    }
   ],
   "source": [
    "N,K = map(int,input().split())\n",
    "A = list(map(int,input().split()))\n",
    "S = [0]*(N+1)\n",
    "\n",
    "for i in range(N):\n",
    "    S[i+1]=S[i]+A[i]\n",
    "\n",
    "for l in range(N-K+1):\n",
    "    print(S[l+K]-S[l])"
   ]
  },
  {
   "cell_type": "markdown",
   "metadata": {},
   "source": [
    "skip 第9回オリンピック本戦A　旅人 "
   ]
  },
  {
   "cell_type": "code",
   "execution_count": null,
   "metadata": {},
   "outputs": [],
   "source": [
    "n,m = map(int,input().split())\n"
   ]
  },
  {
   "cell_type": "markdown",
   "metadata": {},
   "source": [
    "skip　ABC084D"
   ]
  },
  {
   "cell_type": "code",
   "execution_count": null,
   "metadata": {},
   "outputs": [],
   "source": []
  },
  {
   "cell_type": "markdown",
   "metadata": {},
   "source": [
    "　○　ABC 154 D　#誤差によるエラー"
   ]
  },
  {
   "cell_type": "code",
   "execution_count": null,
   "metadata": {},
   "outputs": [],
   "source": [
    "N,K = map(int,input().split())\n",
    "P = list(map(int,input().split()))\n",
    "S = [0]*(1000)\n",
    "S_1 = [0]*(N+1)\n",
    "sum_p = []\n",
    "for i in range(1,1000):\n",
    "    S[i] = S[i-1] + i\n",
    "for l in P:\n",
    "    sum_p.append(S[l]/l)\n",
    "\n",
    "for i in range(1,N+1):\n",
    "    S_1[i] = S_1[i-1]+sum_p[i-1]\n",
    "ans = 0\n",
    "for l in range(N-K+1):\n",
    "        ans = max(S_1[l+K]-S_1[l],ans)\n",
    "print(ans)\n"
   ]
  },
  {
   "cell_type": "code",
   "execution_count": 17,
   "metadata": {},
   "outputs": [
    {
     "name": "stdout",
     "output_type": "stream",
     "text": [
      "7.0\n"
     ]
    }
   ],
   "source": [
    "N,K = map(int,input().split())\n",
    "P = list(map(int,input().split()))\n",
    "P = [i+1 for i in P] \n",
    "S_1 = [0]*(N+1)\n",
    "for i in range(1,N+1):\n",
    "    S_1[i] = S_1[i-1]+P[i-1]\n",
    "ans = 0\n",
    "for l in range(N-K+1):\n",
    "        ans = max(S_1[l+K]-S_1[l],ans)\n",
    "print(ans/2)"
   ]
  },
  {
   "cell_type": "markdown",
   "metadata": {},
   "source": [
    "skip 惑星探査　本線A"
   ]
  },
  {
   "cell_type": "code",
   "execution_count": null,
   "metadata": {},
   "outputs": [],
   "source": []
  },
  {
   "cell_type": "markdown",
   "metadata": {},
   "source": [
    " skip \n",
    "AGC 023 A"
   ]
  },
  {
   "cell_type": "markdown",
   "metadata": {},
   "source": [
    "skip ABC125C"
   ]
  },
  {
   "cell_type": "markdown",
   "metadata": {},
   "source": [
    "5-7 周期性"
   ]
  },
  {
   "cell_type": "markdown",
   "metadata": {},
   "source": [
    "例題17"
   ]
  },
  {
   "cell_type": "code",
   "execution_count": null,
   "metadata": {},
   "outputs": [],
   "source": [
    "A,B,C,K = map(int,input().split())\n",
    "print(A-B if K%2 == 0 else B- A)  \n"
   ]
  },
  {
   "cell_type": "markdown",
   "metadata": {},
   "source": [
    "○　ABC 065 B"
   ]
  },
  {
   "cell_type": "code",
   "execution_count": 19,
   "metadata": {},
   "outputs": [
    {
     "name": "stdout",
     "output_type": "stream",
     "text": [
      "2\n"
     ]
    }
   ],
   "source": [
    "N = int(input())\n",
    "A = []\n",
    "for i in range(N):\n",
    "    A.append(int(input()))\n",
    "cur = 1\n",
    "count = 1\n",
    "ans = -1\n",
    "while count<N:\n",
    "    cur = A[cur-1]\n",
    "    if cur ==2:\n",
    "        ans = count\n",
    "        break\n",
    "    count+=1\n",
    "    \n",
    "print(ans)\n",
    "    "
   ]
  },
  {
   "cell_type": "markdown",
   "metadata": {},
   "source": [
    "○　ABC053　C"
   ]
  },
  {
   "cell_type": "code",
   "execution_count": 1,
   "metadata": {},
   "outputs": [
    {
     "name": "stdout",
     "output_type": "stream",
     "text": [
      "27217477801\n"
     ]
    }
   ],
   "source": [
    "x = int(input())\n",
    "count = int(x//11)*2\n",
    "x = int(x%11)\n",
    "\n",
    "while x>0:\n",
    "    x-=6\n",
    "    count+=1\n",
    "    if x<=0:\n",
    "        break\n",
    "    x-=5\n",
    "    count+=1\n",
    "    if x<=0:\n",
    "        break\n",
    "print(count)"
   ]
  },
  {
   "cell_type": "markdown",
   "metadata": {},
   "source": [
    "　○　ABC 165 D\n"
   ]
  },
  {
   "cell_type": "code",
   "execution_count": 7,
   "metadata": {},
   "outputs": [
    {
     "name": "stdout",
     "output_type": "stream",
     "text": [
      "9\n"
     ]
    }
   ],
   "source": [
    "A,B,N = map(int,input().split())\n",
    "ans = -float(\"inf\")\n",
    "for i in range(N+1):\n",
    "    ans = max(ans,int(A*i/B)-A*int(i/B))\n",
    "print(ans)"
   ]
  },
  {
   "cell_type": "code",
   "execution_count": 8,
   "metadata": {},
   "outputs": [
    {
     "name": "stdout",
     "output_type": "stream",
     "text": [
      "2\n"
     ]
    }
   ],
   "source": [
    "A,B,N = map(int,input().split())\n",
    "ans = -float(\"inf\")\n",
    "for i in range(N+1):\n",
    "    ans = max(ans,i/B)\n",
    "print(int(A*ans)-A*int(i/B))"
   ]
  },
  {
   "cell_type": "code",
   "execution_count": 11,
   "metadata": {},
   "outputs": [
    {
     "name": "stdout",
     "output_type": "stream",
     "text": [
      "66335\n"
     ]
    }
   ],
   "source": [
    "A,B,N = map(int,input().split())\n",
    "if N%B==0:\n",
    "    t = (N-1)%B\n",
    "else:\n",
    "    t = N%B\n",
    "print(int(A*t/B)-A*int(t/B))"
   ]
  },
  {
   "cell_type": "code",
   "execution_count": 12,
   "metadata": {},
   "outputs": [
    {
     "ename": "NameError",
     "evalue": "name 'floor' is not defined",
     "output_type": "error",
     "traceback": [
      "\u001b[1;31m---------------------------------------------------------------------------\u001b[0m",
      "\u001b[1;31mNameError\u001b[0m                                 Traceback (most recent call last)",
      "Cell \u001b[1;32mIn [12], line 7\u001b[0m\n\u001b[0;32m      5\u001b[0m \u001b[39melse\u001b[39;00m:\n\u001b[0;32m      6\u001b[0m     t \u001b[39m=\u001b[39m N\u001b[39m%\u001b[39mB\n\u001b[1;32m----> 7\u001b[0m \u001b[39mprint\u001b[39m(floor(A\u001b[39m*\u001b[39mt\u001b[39m/\u001b[39mB)\u001b[39m-\u001b[39mA\u001b[39m*\u001b[39mfloor(t\u001b[39m/\u001b[39mB))\n",
      "\u001b[1;31mNameError\u001b[0m: name 'floor' is not defined"
     ]
    }
   ],
   "source": [
    "import math\n",
    "A,B,N = map(int,input().split())\n",
    "x = N if N>B else B-1\n",
    "print(math.floor(A*x/B)-A*math.floor(x/B))"
   ]
  },
  {
   "cell_type": "code",
   "execution_count": null,
   "metadata": {},
   "outputs": [],
   "source": [
    "A,B,N = map(int,input().split())\n",
    "if N%B==0:"
   ]
  },
  {
   "cell_type": "markdown",
   "metadata": {},
   "source": [
    "×　ABC 167　D\n",
    "<br>　　\n",
    "ループする個数がnとは限らない　nより小さい場合も存在している"
   ]
  },
  {
   "cell_type": "code",
   "execution_count": 15,
   "metadata": {},
   "outputs": [
    {
     "ename": "ValueError",
     "evalue": "not enough values to unpack (expected 2, got 0)",
     "output_type": "error",
     "traceback": [
      "\u001b[1;31m---------------------------------------------------------------------------\u001b[0m",
      "\u001b[1;31mValueError\u001b[0m                                Traceback (most recent call last)",
      "Cell \u001b[1;32mIn [15], line 1\u001b[0m\n\u001b[1;32m----> 1\u001b[0m N,K \u001b[39m=\u001b[39m \u001b[39mmap\u001b[39m(\u001b[39mint\u001b[39m,\u001b[39minput\u001b[39m()\u001b[39m.\u001b[39msplit())\n\u001b[0;32m      2\u001b[0m A \u001b[39m=\u001b[39m \u001b[39mlist\u001b[39m(\u001b[39mmap\u001b[39m(\u001b[39mint\u001b[39m,\u001b[39minput\u001b[39m()\u001b[39m.\u001b[39msplit()))\n\u001b[0;32m      3\u001b[0m n \u001b[39m=\u001b[39m K\u001b[39m%\u001b[39mN\n",
      "\u001b[1;31mValueError\u001b[0m: not enough values to unpack (expected 2, got 0)"
     ]
    }
   ],
   "source": [
    "N,K = map(int,input().split())\n",
    "A = list(map(int,input().split()))\n",
    "n= K%N\n",
    "tp = A[0]\n",
    "for i in range(n):\n",
    "    tp = A[tp-1]\n",
    "print(tp)"
   ]
  },
  {
   "cell_type": "code",
   "execution_count": 22,
   "metadata": {},
   "outputs": [
    {
     "ename": "ValueError",
     "evalue": "10432 is not in list",
     "output_type": "error",
     "traceback": [
      "\u001b[1;31m---------------------------------------------------------------------------\u001b[0m",
      "\u001b[1;31mValueError\u001b[0m                                Traceback (most recent call last)",
      "Cell \u001b[1;32mIn [22], line 17\u001b[0m\n\u001b[0;32m     15\u001b[0m     cnt \u001b[39m+\u001b[39m\u001b[39m=\u001b[39m \u001b[39m1\u001b[39m\n\u001b[0;32m     16\u001b[0m     tp \u001b[39m=\u001b[39m A[tp\u001b[39m-\u001b[39m\u001b[39m1\u001b[39m]\n\u001b[1;32m---> 17\u001b[0m t \u001b[39m=\u001b[39m seen\u001b[39m.\u001b[39;49mindex(tp)\n\u001b[0;32m     18\u001b[0m roop_cnt \u001b[39m=\u001b[39m cnt \u001b[39m-\u001b[39m t\n\u001b[0;32m     19\u001b[0m \u001b[39mprint\u001b[39m(seen[(K\u001b[39m-\u001b[39mt)\u001b[39m%\u001b[39mroop_cnt\u001b[39m+\u001b[39mt])\n",
      "\u001b[1;31mValueError\u001b[0m: 10432 is not in list"
     ]
    },
    {
     "ename": "",
     "evalue": "",
     "output_type": "error",
     "traceback": [
      "\u001b[1;31m現在のセルまたは前のセルでコードを実行中に、カーネルがクラッシュしました。エラーの原因を特定するには、セル内のコードを確認してください。詳細については、<a href='https://aka.ms/vscodeJupyterKernelCrash'>こちら</a> をクリックしてください。さらなる詳細については、Jupyter [log] (command:jupyter.viewOutput) を参照してください。"
     ]
    }
   ],
   "source": [
    "N,K = map(int,input().split())\n",
    "A = list(map(int,input().split()))\n",
    "\n",
    "B = set()\n",
    "seen = []\n",
    "tp = 1\n",
    "roop_cnt = 0\n",
    "\n",
    "for i in range(1,K+1):\n",
    "    if not tp in B:\n",
    "        B.add(tp)\n",
    "        seen.append(tp)\n",
    "    else:\n",
    "        break\n",
    "    tp = A[tp-1]\n",
    "t = seen.index(tp)\n",
    "roop_cnt = len(seen) - t\n",
    "print(seen[(K-t)%roop_cnt+t])\n",
    "\n",
    "    "
   ]
  },
  {
   "cell_type": "code",
   "execution_count": null,
   "metadata": {},
   "outputs": [],
   "source": [
    "N,K = map(int,input().split())\n",
    "A = list(map(int,input().split()))\n",
    "\n",
    "num = 1\n",
    "seen = [1]\n",
    "flag = [True] * N\n",
    "flag[0] = False\n",
    "\n",
    "for i in range(K):\n",
    "    num = A[num-1]\n",
    "    if flag[num-1]:\n",
    "        seen.append(num)\n",
    "        flag[num-1] = False\n",
    "    else:\n",
    "        break\n",
    "    \n",
    "d = seen.index(num)\n",
    "ans = (K-d)%(len(seen)-d)+d\n",
    "\n",
    "print(seen[ans])"
   ]
  },
  {
   "cell_type": "markdown",
   "metadata": {},
   "source": [
    "skip ABC 174　C"
   ]
  },
  {
   "cell_type": "markdown",
   "metadata": {},
   "source": [
    "○　ARC 113 B"
   ]
  },
  {
   "cell_type": "code",
   "execution_count": null,
   "metadata": {},
   "outputs": [],
   "source": [
    "def "
   ]
  },
  {
   "cell_type": "code",
   "execution_count": 1,
   "metadata": {},
   "outputs": [
    {
     "name": "stdout",
     "output_type": "stream",
     "text": [
      "9\n"
     ]
    }
   ],
   "source": [
    "A,B,C = map(int,input().split())\n",
    "tmp = A\n",
    "flag = [True]*10\n",
    "seen = []\n",
    "for i in range(10):\n",
    "    rem= tmp%10\n",
    "    tmp = rem*A\n",
    "    if flag[rem-1]:\n",
    "        flag[rem-1]=False\n",
    "        seen.append(rem)\n",
    "    else:\n",
    "        break\n",
    "    #0乗を含むものを考慮するひつようがある\n",
    "if C%len(seen)==0:\n",
    "    print(seen[B%len(seen)-1])\n",
    "else:\n",
    "    print(seen[B**(C%len(seen))%len(seen)-1])"
   ]
  },
  {
   "cell_type": "code",
   "execution_count": 1,
   "metadata": {},
   "outputs": [],
   "source": [
    "A,B,C = map(int,input().split())\n",
    "T = B**C"
   ]
  },
  {
   "cell_type": "code",
   "execution_count": 4,
   "metadata": {},
   "outputs": [
    {
     "data": {
      "text/plain": [
       "4"
      ]
     },
     "execution_count": 4,
     "metadata": {},
     "output_type": "execute_result"
    }
   ],
   "source": [
    "a, b, c = map(int, input().split())\n",
    "bc = pow(b, c, 4)\n",
    "if bc == 0:\n",
    "  bc = 4\n",
    "print(pow(a, bc, 10))"
   ]
  },
  {
   "cell_type": "code",
   "execution_count": 1,
   "metadata": {},
   "outputs": [
    {
     "name": "stdout",
     "output_type": "stream",
     "text": [
      "2\n",
      "6283184\n",
      "4\n",
      "12566368\n",
      "8\n",
      "25132736\n",
      "6\n",
      "18849552\n",
      "2\n",
      "6283184\n",
      "4\n",
      "12566368\n",
      "8\n",
      "25132736\n",
      "6\n",
      "18849552\n",
      "2\n",
      "6283184\n",
      "4\n",
      "12566368\n"
     ]
    }
   ],
   "source": [
    "A,B,C = map(int,input().split())\n",
    "tmp = A\n",
    "for i in range(10):\n",
    "    rem= tmp%10\n",
    "    tmp = rem*A\n",
    "    print(rem)\n",
    "    print(tmp)"
   ]
  },
  {
   "cell_type": "code",
   "execution_count": 1,
   "metadata": {},
   "outputs": [
    {
     "data": {
      "text/plain": [
       "'3'"
      ]
     },
     "execution_count": 1,
     "metadata": {},
     "output_type": "execute_result"
    }
   ],
   "source": [
    "a = \"123\"\n",
    "a[-1]\n"
   ]
  },
  {
   "cell_type": "code",
   "execution_count": 3,
   "metadata": {},
   "outputs": [
    {
     "name": "stdout",
     "output_type": "stream",
     "text": [
      "60939697099862\n"
     ]
    }
   ],
   "source": [
    "print(6535897*9323846)"
   ]
  },
  {
   "cell_type": "markdown",
   "metadata": {},
   "source": [
    "×　競プロ　90　058\n",
    "<br>\n",
    "10^5で割っているので必ずどこかであまりが出てくる\n",
    "<br>\n",
    "それぞれを10で割り続けて、商が10以下になれば終了\n",
    "<br>\n",
    "ループ箇所のみとってくる"
   ]
  },
  {
   "cell_type": "code",
   "execution_count": 50,
   "metadata": {},
   "outputs": [
    {
     "name": "stdout",
     "output_type": "stream",
     "text": [
      "84563\n"
     ]
    }
   ],
   "source": [
    "def rem_sum(N):\n",
    "    tmp = N\n",
    "    sum = 0\n",
    "    while tmp>0:\n",
    "        sum += tmp%10\n",
    "        tmp //= 10\n",
    "    return sum\n",
    "\n",
    "N,K = map(int,input().split())\n",
    "flag = [False]*(10**5)\n",
    "seen = []\n",
    "x = N\n",
    "for i in range(K):\n",
    "    y = rem_sum(x)\n",
    "    z = (x+y)%(10**5)\n",
    "    if not flag[z]:\n",
    "        flag[z]=True\n",
    "        seen.append(z)\n",
    "    else:\n",
    "        break\n",
    "    x = z\n",
    "t = seen.index(z)\n",
    "if len(seen)>=K:\n",
    "    print(seen[(K-t)%(len(seen)-t)-t])\n",
    "else:\n",
    "    print(seen[(K-t)%(len(seen)-t)+t-1])\n"
   ]
  },
  {
   "cell_type": "code",
   "execution_count": 49,
   "metadata": {},
   "outputs": [
    {
     "data": {
      "text/plain": [
       "[10, 11, 13]"
      ]
     },
     "execution_count": 49,
     "metadata": {},
     "output_type": "execute_result"
    }
   ],
   "source": [
    "def rem_sum(N):\n",
    "    tmp = N\n",
    "    sum = 0\n",
    "    while tmp>0:\n",
    "        sum += tmp%10\n",
    "        tmp //= 10\n",
    "    return sum\n",
    "\n",
    "N,K = map(int,input().split())\n",
    "flag = [False]*(10**5)\n",
    "seen = []\n",
    "x = N\n",
    "for i in range(K):\n",
    "    y = rem_sum(x)\n",
    "    z = (x+y)%(10**5)\n",
    "    if not flag[z]:\n",
    "        flag[z]=True\n",
    "        seen.append(z)\n",
    "    else:\n",
    "        break\n",
    "    x = z\n",
    "t = seen.index(z)\n",
    "print(seen[(K-t)%(len(seen)-t)-t])\n"
   ]
  },
  {
   "cell_type": "code",
   "execution_count": 45,
   "metadata": {},
   "outputs": [
    {
     "name": "stdout",
     "output_type": "stream",
     "text": [
      "84563\n"
     ]
    }
   ],
   "source": [
    "def rem_sum(N):\n",
    "    tmp = N\n",
    "    sum = 0\n",
    "    while tmp>0:\n",
    "        sum += tmp%10\n",
    "        tmp //= 10\n",
    "    return sum\n",
    "\n",
    "N,K = map(int,input().split())\n",
    "flag = [False]*(10**5)\n",
    "seen = []\n",
    "x = N\n",
    "for i in range(K):\n",
    "    y = rem_sum(x)\n",
    "    z = (x+y)%(10**5)\n",
    "    if not flag[z]:\n",
    "        flag[z]=True\n",
    "        seen.append(z)\n",
    "    else:\n",
    "        break\n",
    "    x = z\n",
    "t = seen.index(z)\n",
    "seen = seen[t:]#ループの配列\n",
    "#iはループ配列にループに入るまでの繰り返し数\n",
    "print(seen[(K-i)%len(seen)-1])\n"
   ]
  },
  {
   "cell_type": "code",
   "execution_count": 46,
   "metadata": {},
   "outputs": [
    {
     "data": {
      "text/plain": [
       "[620,\n",
       " 628,\n",
       " 644,\n",
       " 658,\n",
       " 677,\n",
       " 697,\n",
       " 719,\n",
       " 736,\n",
       " 752,\n",
       " 766,\n",
       " 785,\n",
       " 805,\n",
       " 818,\n",
       " 835,\n",
       " 851,\n",
       " 865,\n",
       " 884,\n",
       " 904,\n",
       " 917,\n",
       " 934,\n",
       " 950,\n",
       " 964,\n",
       " 983,\n",
       " 1003,\n",
       " 1007,\n",
       " 1015,\n",
       " 1022,\n",
       " 1027,\n",
       " 1037,\n",
       " 1048,\n",
       " 1061,\n",
       " 1069,\n",
       " 1085,\n",
       " 1099,\n",
       " 1118,\n",
       " 1129,\n",
       " 1142,\n",
       " 1150,\n",
       " 1157,\n",
       " 1171,\n",
       " 1181,\n",
       " 1192,\n",
       " 1205,\n",
       " 1213,\n",
       " 1220,\n",
       " 1225,\n",
       " 1235,\n",
       " 1246,\n",
       " 1259,\n",
       " 1276,\n",
       " 1292,\n",
       " 1306,\n",
       " 1316,\n",
       " 1327,\n",
       " 1340,\n",
       " 1348,\n",
       " 1364,\n",
       " 1378,\n",
       " 1397,\n",
       " 1417,\n",
       " 1430,\n",
       " 1438,\n",
       " 1454,\n",
       " 1468,\n",
       " 1487,\n",
       " 1507,\n",
       " 1520,\n",
       " 1528,\n",
       " 1544,\n",
       " 1558,\n",
       " 1577,\n",
       " 1597,\n",
       " 1619,\n",
       " 1636,\n",
       " 1652,\n",
       " 1666,\n",
       " 1685,\n",
       " 1705,\n",
       " 1718,\n",
       " 1735,\n",
       " 1751,\n",
       " 1765,\n",
       " 1784,\n",
       " 1804,\n",
       " 1817,\n",
       " 1834,\n",
       " 1850,\n",
       " 1864,\n",
       " 1883,\n",
       " 1903,\n",
       " 1916,\n",
       " 1933,\n",
       " 1949,\n",
       " 1972,\n",
       " 1991,\n",
       " 2011,\n",
       " 2015,\n",
       " 2023,\n",
       " 2030,\n",
       " 2035,\n",
       " 2045,\n",
       " 2056,\n",
       " 2069,\n",
       " 2086,\n",
       " 2102,\n",
       " 2107,\n",
       " 2117,\n",
       " 2128,\n",
       " 2141,\n",
       " 2149,\n",
       " 2165,\n",
       " 2179,\n",
       " 2198,\n",
       " 2218,\n",
       " 2231,\n",
       " 2239,\n",
       " 2255,\n",
       " 2269,\n",
       " 2288,\n",
       " 2308,\n",
       " 2321,\n",
       " 2329,\n",
       " 2345,\n",
       " 2359,\n",
       " 2378,\n",
       " 2398,\n",
       " 2420,\n",
       " 2428,\n",
       " 2444,\n",
       " 2458,\n",
       " 2477,\n",
       " 2497,\n",
       " 2519,\n",
       " 2536,\n",
       " 2552,\n",
       " 2566,\n",
       " 2585,\n",
       " 2605,\n",
       " 2618,\n",
       " 2635,\n",
       " 2651,\n",
       " 2665,\n",
       " 2684,\n",
       " 2704,\n",
       " 2717,\n",
       " 2734,\n",
       " 2750,\n",
       " 2764,\n",
       " 2783,\n",
       " 2803,\n",
       " 2816,\n",
       " 2833,\n",
       " 2849,\n",
       " 2872,\n",
       " 2891,\n",
       " 2911,\n",
       " 2924,\n",
       " 2941,\n",
       " 2957,\n",
       " 2980,\n",
       " 2999,\n",
       " 3028,\n",
       " 3041,\n",
       " 3049,\n",
       " 3065,\n",
       " 3079,\n",
       " 3098,\n",
       " 3118,\n",
       " 3131,\n",
       " 3139,\n",
       " 3155,\n",
       " 3169,\n",
       " 3188,\n",
       " 3208,\n",
       " 3221,\n",
       " 3229,\n",
       " 3245,\n",
       " 3259,\n",
       " 3278,\n",
       " 3298,\n",
       " 3320,\n",
       " 3328,\n",
       " 3344,\n",
       " 3358,\n",
       " 3377,\n",
       " 3397,\n",
       " 3419,\n",
       " 3436,\n",
       " 3452,\n",
       " 3466,\n",
       " 3485,\n",
       " 3505,\n",
       " 3518,\n",
       " 3535,\n",
       " 3551,\n",
       " 3565,\n",
       " 3584,\n",
       " 3604,\n",
       " 3617,\n",
       " 3634,\n",
       " 3650,\n",
       " 3664,\n",
       " 3683,\n",
       " 3703,\n",
       " 3716,\n",
       " 3733,\n",
       " 3749,\n",
       " 3772,\n",
       " 3791,\n",
       " 3811,\n",
       " 3824,\n",
       " 3841,\n",
       " 3857,\n",
       " 3880,\n",
       " 3899,\n",
       " 3928,\n",
       " 3950,\n",
       " 3967,\n",
       " 3992,\n",
       " 4015,\n",
       " 4025,\n",
       " 4036,\n",
       " 4049,\n",
       " 4066,\n",
       " 4082,\n",
       " 4096,\n",
       " 4115,\n",
       " 4126,\n",
       " 4139,\n",
       " 4156,\n",
       " 4172,\n",
       " 4186,\n",
       " 4205,\n",
       " 4216,\n",
       " 4229,\n",
       " 4246,\n",
       " 4262,\n",
       " 4276,\n",
       " 4295,\n",
       " 4315,\n",
       " 4328,\n",
       " 4345,\n",
       " 4361,\n",
       " 4375,\n",
       " 4394,\n",
       " 4414,\n",
       " 4427,\n",
       " 4444,\n",
       " 4460,\n",
       " 4474,\n",
       " 4493,\n",
       " 4513,\n",
       " 4526,\n",
       " 4543,\n",
       " 4559,\n",
       " 4582,\n",
       " 4601,\n",
       " 4612,\n",
       " 4625,\n",
       " 4642,\n",
       " 4658,\n",
       " 4681,\n",
       " 4700,\n",
       " 4711,\n",
       " 4724,\n",
       " 4741,\n",
       " 4757,\n",
       " 4780,\n",
       " 4799,\n",
       " 4828,\n",
       " 4850,\n",
       " 4867,\n",
       " 4892,\n",
       " 4915,\n",
       " 4934,\n",
       " 4954,\n",
       " 4976,\n",
       " 5002,\n",
       " 5009,\n",
       " 5023,\n",
       " 5033,\n",
       " 5044,\n",
       " 5057,\n",
       " 5074,\n",
       " 5090,\n",
       " 5104,\n",
       " 5114,\n",
       " 5125,\n",
       " 5138,\n",
       " 5155,\n",
       " 5171,\n",
       " 5185,\n",
       " 5204,\n",
       " 5215,\n",
       " 5228,\n",
       " 5245,\n",
       " 5261,\n",
       " 5275,\n",
       " 5294,\n",
       " 5314,\n",
       " 5327,\n",
       " 5344,\n",
       " 5360,\n",
       " 5374,\n",
       " 5393,\n",
       " 5413,\n",
       " 5426,\n",
       " 5443,\n",
       " 5459,\n",
       " 5482,\n",
       " 5501,\n",
       " 5512,\n",
       " 5525,\n",
       " 5542,\n",
       " 5558,\n",
       " 5581,\n",
       " 5600,\n",
       " 5611,\n",
       " 5624,\n",
       " 5641,\n",
       " 5657,\n",
       " 5680,\n",
       " 5699,\n",
       " 5728,\n",
       " 5750,\n",
       " 5767,\n",
       " 5792,\n",
       " 5815,\n",
       " 5834,\n",
       " 5854,\n",
       " 5876,\n",
       " 5902,\n",
       " 5918,\n",
       " 5941,\n",
       " 5960,\n",
       " 5980,\n",
       " 6002,\n",
       " 6010,\n",
       " 6017,\n",
       " 6031,\n",
       " 6041,\n",
       " 6052,\n",
       " 6065,\n",
       " 6082,\n",
       " 6098,\n",
       " 6121,\n",
       " 6131,\n",
       " 6142,\n",
       " 6155,\n",
       " 6172,\n",
       " 6188,\n",
       " 6211,\n",
       " 6221,\n",
       " 6232,\n",
       " 6245,\n",
       " 6262,\n",
       " 6278,\n",
       " 6301,\n",
       " 6311,\n",
       " 6322,\n",
       " 6335,\n",
       " 6352,\n",
       " 6368,\n",
       " 6391,\n",
       " 6410,\n",
       " 6421,\n",
       " 6434,\n",
       " 6451,\n",
       " 6467,\n",
       " 6490,\n",
       " 6509,\n",
       " 6529,\n",
       " 6551,\n",
       " 6568,\n",
       " 6593,\n",
       " 6616,\n",
       " 6635,\n",
       " 6655,\n",
       " 6677,\n",
       " 6703,\n",
       " 6719,\n",
       " 6742,\n",
       " 6761,\n",
       " 6781,\n",
       " 6803,\n",
       " 6820,\n",
       " 6836,\n",
       " 6859,\n",
       " 6887,\n",
       " 6916,\n",
       " 6938,\n",
       " 6964,\n",
       " 6989,\n",
       " 7021,\n",
       " 7031,\n",
       " 7042,\n",
       " 7055,\n",
       " 7072,\n",
       " 7088,\n",
       " 7111,\n",
       " 7121,\n",
       " 7132,\n",
       " 7145,\n",
       " 7162,\n",
       " 7178,\n",
       " 7201,\n",
       " 7211,\n",
       " 7222,\n",
       " 7235,\n",
       " 7252,\n",
       " 7268,\n",
       " 7291,\n",
       " 7310,\n",
       " 7321,\n",
       " 7334,\n",
       " 7351,\n",
       " 7367,\n",
       " 7390,\n",
       " 7409,\n",
       " 7429,\n",
       " 7451,\n",
       " 7468,\n",
       " 7493,\n",
       " 7516,\n",
       " 7535,\n",
       " 7555,\n",
       " 7577,\n",
       " 7603,\n",
       " 7619,\n",
       " 7642,\n",
       " 7661,\n",
       " 7681,\n",
       " 7703,\n",
       " 7720,\n",
       " 7736,\n",
       " 7759,\n",
       " 7787,\n",
       " 7816,\n",
       " 7838,\n",
       " 7864,\n",
       " 7889,\n",
       " 7921,\n",
       " 7940,\n",
       " 7960,\n",
       " 7982,\n",
       " 8008,\n",
       " 8024,\n",
       " 8038,\n",
       " 8057,\n",
       " 8077,\n",
       " 8099,\n",
       " 8125,\n",
       " 8141,\n",
       " 8155,\n",
       " 8174,\n",
       " 8194,\n",
       " 8216,\n",
       " 8233,\n",
       " 8249,\n",
       " 8272,\n",
       " 8291,\n",
       " 8311,\n",
       " 8324,\n",
       " 8341,\n",
       " 8357,\n",
       " 8380,\n",
       " 8399,\n",
       " 8428,\n",
       " 8450,\n",
       " 8467,\n",
       " 8492,\n",
       " 8515,\n",
       " 8534,\n",
       " 8554,\n",
       " 8576,\n",
       " 8602,\n",
       " 8618,\n",
       " 8641,\n",
       " 8660,\n",
       " 8680,\n",
       " 8702,\n",
       " 8719,\n",
       " 8744,\n",
       " 8767,\n",
       " 8795,\n",
       " 8824,\n",
       " 8846,\n",
       " 8872,\n",
       " 8897,\n",
       " 8929,\n",
       " 8957,\n",
       " 8986,\n",
       " 9017,\n",
       " 9034,\n",
       " 9050,\n",
       " 9064,\n",
       " 9083,\n",
       " 9103,\n",
       " 9116,\n",
       " 9133,\n",
       " 9149,\n",
       " 9172,\n",
       " 9191,\n",
       " 9211,\n",
       " 9224,\n",
       " 9241,\n",
       " 9257,\n",
       " 9280,\n",
       " 9299,\n",
       " 9328,\n",
       " 9350,\n",
       " 9367,\n",
       " 9392,\n",
       " 9415,\n",
       " 9434,\n",
       " 9454,\n",
       " 9476,\n",
       " 9502,\n",
       " 9518,\n",
       " 9541,\n",
       " 9560,\n",
       " 9580,\n",
       " 9602,\n",
       " 9619,\n",
       " 9644,\n",
       " 9667,\n",
       " 9695,\n",
       " 9724,\n",
       " 9746,\n",
       " 9772,\n",
       " 9797,\n",
       " 9829,\n",
       " 9857,\n",
       " 9886,\n",
       " 9917,\n",
       " 9943,\n",
       " 9968,\n",
       " 10000,\n",
       " 10001,\n",
       " 10003,\n",
       " 10007,\n",
       " 10015,\n",
       " 10022,\n",
       " 10027,\n",
       " 10037,\n",
       " 10048,\n",
       " 10061,\n",
       " 10069,\n",
       " 10085,\n",
       " 10099,\n",
       " 10118,\n",
       " 10129,\n",
       " 10142,\n",
       " 10150,\n",
       " 10157,\n",
       " 10171,\n",
       " 10181,\n",
       " 10192,\n",
       " 10205,\n",
       " 10213,\n",
       " 10220,\n",
       " 10225,\n",
       " 10235,\n",
       " 10246,\n",
       " 10259,\n",
       " 10276,\n",
       " 10292,\n",
       " 10306,\n",
       " 10316,\n",
       " 10327,\n",
       " 10340,\n",
       " 10348,\n",
       " 10364,\n",
       " 10378,\n",
       " 10397,\n",
       " 10417,\n",
       " 10430,\n",
       " 10438,\n",
       " 10454,\n",
       " 10468,\n",
       " 10487,\n",
       " 10507,\n",
       " 10520,\n",
       " 10528,\n",
       " 10544,\n",
       " 10558,\n",
       " 10577,\n",
       " 10597,\n",
       " 10619,\n",
       " 10636,\n",
       " 10652,\n",
       " 10666,\n",
       " 10685,\n",
       " 10705,\n",
       " 10718,\n",
       " 10735,\n",
       " 10751,\n",
       " 10765,\n",
       " 10784,\n",
       " 10804,\n",
       " 10817,\n",
       " 10834,\n",
       " 10850,\n",
       " 10864,\n",
       " 10883,\n",
       " 10903,\n",
       " 10916,\n",
       " 10933,\n",
       " 10949,\n",
       " 10972,\n",
       " 10991,\n",
       " 11011,\n",
       " 11015,\n",
       " 11023,\n",
       " 11030,\n",
       " 11035,\n",
       " 11045,\n",
       " 11056,\n",
       " 11069,\n",
       " 11086,\n",
       " 11102,\n",
       " 11107,\n",
       " 11117,\n",
       " 11128,\n",
       " 11141,\n",
       " 11149,\n",
       " 11165,\n",
       " 11179,\n",
       " 11198,\n",
       " 11218,\n",
       " 11231,\n",
       " 11239,\n",
       " 11255,\n",
       " 11269,\n",
       " 11288,\n",
       " 11308,\n",
       " 11321,\n",
       " 11329,\n",
       " 11345,\n",
       " 11359,\n",
       " 11378,\n",
       " 11398,\n",
       " 11420,\n",
       " 11428,\n",
       " 11444,\n",
       " 11458,\n",
       " 11477,\n",
       " 11497,\n",
       " 11519,\n",
       " 11536,\n",
       " 11552,\n",
       " 11566,\n",
       " 11585,\n",
       " 11605,\n",
       " 11618,\n",
       " 11635,\n",
       " 11651,\n",
       " 11665,\n",
       " 11684,\n",
       " 11704,\n",
       " 11717,\n",
       " 11734,\n",
       " 11750,\n",
       " 11764,\n",
       " 11783,\n",
       " 11803,\n",
       " 11816,\n",
       " 11833,\n",
       " 11849,\n",
       " 11872,\n",
       " 11891,\n",
       " 11911,\n",
       " 11924,\n",
       " 11941,\n",
       " 11957,\n",
       " 11980,\n",
       " 11999,\n",
       " 12028,\n",
       " 12041,\n",
       " 12049,\n",
       " 12065,\n",
       " 12079,\n",
       " 12098,\n",
       " 12118,\n",
       " 12131,\n",
       " 12139,\n",
       " 12155,\n",
       " 12169,\n",
       " 12188,\n",
       " 12208,\n",
       " 12221,\n",
       " 12229,\n",
       " 12245,\n",
       " 12259,\n",
       " 12278,\n",
       " 12298,\n",
       " 12320,\n",
       " 12328,\n",
       " 12344,\n",
       " 12358,\n",
       " 12377,\n",
       " 12397,\n",
       " 12419,\n",
       " 12436,\n",
       " 12452,\n",
       " 12466,\n",
       " 12485,\n",
       " 12505,\n",
       " 12518,\n",
       " 12535,\n",
       " 12551,\n",
       " 12565,\n",
       " 12584,\n",
       " 12604,\n",
       " 12617,\n",
       " 12634,\n",
       " 12650,\n",
       " 12664,\n",
       " 12683,\n",
       " 12703,\n",
       " 12716,\n",
       " 12733,\n",
       " 12749,\n",
       " 12772,\n",
       " 12791,\n",
       " 12811,\n",
       " 12824,\n",
       " 12841,\n",
       " 12857,\n",
       " 12880,\n",
       " 12899,\n",
       " 12928,\n",
       " 12950,\n",
       " 12967,\n",
       " 12992,\n",
       " 13015,\n",
       " 13025,\n",
       " 13036,\n",
       " 13049,\n",
       " 13066,\n",
       " 13082,\n",
       " 13096,\n",
       " 13115,\n",
       " 13126,\n",
       " 13139,\n",
       " 13156,\n",
       " 13172,\n",
       " 13186,\n",
       " 13205,\n",
       " 13216,\n",
       " 13229,\n",
       " 13246,\n",
       " 13262,\n",
       " 13276,\n",
       " 13295,\n",
       " 13315,\n",
       " 13328,\n",
       " 13345,\n",
       " 13361,\n",
       " 13375,\n",
       " 13394,\n",
       " 13414,\n",
       " 13427,\n",
       " 13444,\n",
       " 13460,\n",
       " 13474,\n",
       " 13493,\n",
       " 13513,\n",
       " 13526,\n",
       " 13543,\n",
       " 13559,\n",
       " 13582,\n",
       " 13601,\n",
       " 13612,\n",
       " 13625,\n",
       " 13642,\n",
       " 13658,\n",
       " 13681,\n",
       " 13700,\n",
       " 13711,\n",
       " 13724,\n",
       " 13741,\n",
       " 13757,\n",
       " 13780,\n",
       " 13799,\n",
       " 13828,\n",
       " 13850,\n",
       " 13867,\n",
       " 13892,\n",
       " 13915,\n",
       " 13934,\n",
       " 13954,\n",
       " 13976,\n",
       " 14002,\n",
       " 14009,\n",
       " 14023,\n",
       " 14033,\n",
       " 14044,\n",
       " 14057,\n",
       " 14074,\n",
       " 14090,\n",
       " 14104,\n",
       " 14114,\n",
       " 14125,\n",
       " 14138,\n",
       " 14155,\n",
       " 14171,\n",
       " 14185,\n",
       " 14204,\n",
       " 14215,\n",
       " 14228,\n",
       " 14245,\n",
       " 14261,\n",
       " 14275,\n",
       " 14294,\n",
       " 14314,\n",
       " 14327,\n",
       " 14344,\n",
       " 14360,\n",
       " 14374,\n",
       " 14393,\n",
       " 14413,\n",
       " 14426,\n",
       " 14443,\n",
       " 14459,\n",
       " 14482,\n",
       " 14501,\n",
       " 14512,\n",
       " 14525,\n",
       " 14542,\n",
       " 14558,\n",
       " 14581,\n",
       " 14600,\n",
       " 14611,\n",
       " 14624,\n",
       " 14641,\n",
       " 14657,\n",
       " 14680,\n",
       " 14699,\n",
       " 14728,\n",
       " 14750,\n",
       " 14767,\n",
       " 14792,\n",
       " 14815,\n",
       " 14834,\n",
       " 14854,\n",
       " 14876,\n",
       " 14902,\n",
       " 14918,\n",
       " 14941,\n",
       " 14960,\n",
       " 14980,\n",
       " 15002,\n",
       " 15010,\n",
       " 15017,\n",
       " 15031,\n",
       " 15041,\n",
       " 15052,\n",
       " 15065,\n",
       " 15082,\n",
       " 15098,\n",
       " 15121,\n",
       " 15131,\n",
       " 15142,\n",
       " 15155,\n",
       " 15172,\n",
       " 15188,\n",
       " 15211,\n",
       " 15221,\n",
       " 15232,\n",
       " 15245,\n",
       " 15262,\n",
       " 15278,\n",
       " 15301,\n",
       " 15311,\n",
       " 15322,\n",
       " 15335,\n",
       " 15352,\n",
       " 15368,\n",
       " 15391,\n",
       " 15410,\n",
       " 15421,\n",
       " 15434,\n",
       " 15451,\n",
       " 15467,\n",
       " 15490,\n",
       " 15509,\n",
       " 15529,\n",
       " 15551,\n",
       " 15568,\n",
       " 15593,\n",
       " 15616,\n",
       " 15635,\n",
       " 15655,\n",
       " 15677,\n",
       " 15703,\n",
       " 15719,\n",
       " 15742,\n",
       " 15761,\n",
       " 15781,\n",
       " 15803,\n",
       " 15820,\n",
       " 15836,\n",
       " 15859,\n",
       " 15887,\n",
       " 15916,\n",
       " 15938,\n",
       " 15964,\n",
       " 15989,\n",
       " 16021,\n",
       " 16031,\n",
       " 16042,\n",
       " 16055,\n",
       " 16072,\n",
       " 16088,\n",
       " 16111,\n",
       " 16121,\n",
       " 16132,\n",
       " 16145,\n",
       " 16162,\n",
       " 16178,\n",
       " 16201,\n",
       " 16211,\n",
       " 16222,\n",
       " 16235,\n",
       " 16252,\n",
       " 16268,\n",
       " 16291,\n",
       " 16310,\n",
       " 16321,\n",
       " 16334,\n",
       " 16351,\n",
       " 16367,\n",
       " 16390,\n",
       " 16409,\n",
       " 16429,\n",
       " 16451,\n",
       " 16468,\n",
       " 16493,\n",
       " 16516,\n",
       " 16535,\n",
       " 16555,\n",
       " 16577,\n",
       " 16603,\n",
       " 16619,\n",
       " 16642,\n",
       " 16661,\n",
       " 16681,\n",
       " 16703,\n",
       " 16720,\n",
       " 16736,\n",
       " 16759,\n",
       " 16787,\n",
       " 16816,\n",
       " 16838,\n",
       " 16864,\n",
       " 16889,\n",
       " 16921,\n",
       " 16940,\n",
       " 16960,\n",
       " 16982,\n",
       " 17008,\n",
       " 17024,\n",
       " 17038,\n",
       " 17057,\n",
       " 17077,\n",
       " 17099,\n",
       " 17125,\n",
       " 17141,\n",
       " 17155,\n",
       " 17174,\n",
       " 17194,\n",
       " 17216,\n",
       " 17233,\n",
       " 17249,\n",
       " 17272,\n",
       " 17291,\n",
       " 17311,\n",
       " 17324,\n",
       " 17341,\n",
       " 17357,\n",
       " 17380,\n",
       " 17399,\n",
       " 17428,\n",
       " 17450,\n",
       " 17467,\n",
       " 17492,\n",
       " 17515,\n",
       " 17534,\n",
       " 17554,\n",
       " 17576,\n",
       " 17602,\n",
       " 17618,\n",
       " 17641,\n",
       " 17660,\n",
       " 17680,\n",
       " 17702,\n",
       " 17719,\n",
       " 17744,\n",
       " 17767,\n",
       " ...]"
      ]
     },
     "execution_count": 46,
     "metadata": {},
     "output_type": "execute_result"
    }
   ],
   "source": [
    "seen"
   ]
  },
  {
   "cell_type": "code",
   "execution_count": 19,
   "metadata": {},
   "outputs": [],
   "source": [
    "def rem_sum(N):\n",
    "    tmp = N\n",
    "    sum = 0\n",
    "    while tmp>0:\n",
    "        sum += tmp%10\n",
    "        tmp //= 10\n",
    "    return sum"
   ]
  },
  {
   "cell_type": "code",
   "execution_count": 20,
   "metadata": {},
   "outputs": [
    {
     "data": {
      "text/plain": [
       "45"
      ]
     },
     "execution_count": 20,
     "metadata": {},
     "output_type": "execute_result"
    }
   ],
   "source": [
    "rem_sum(99999)"
   ]
  },
  {
   "cell_type": "markdown",
   "metadata": {},
   "source": [
    "skip 第二回 PAST E"
   ]
  },
  {
   "cell_type": "markdown",
   "metadata": {},
   "source": [
    "skip ABC121　D"
   ]
  },
  {
   "cell_type": "markdown",
   "metadata": {},
   "source": [
    "skip ABC 175 D"
   ]
  },
  {
   "cell_type": "markdown",
   "metadata": {},
   "source": [
    "skip ABC 179 E"
   ]
  },
  {
   "cell_type": "markdown",
   "metadata": {},
   "source": [
    "5-8 パリティ"
   ]
  },
  {
   "cell_type": "markdown",
   "metadata": {},
   "source": [
    "例題"
   ]
  },
  {
   "cell_type": "code",
   "execution_count": 1,
   "metadata": {},
   "outputs": [
    {
     "ename": "ValueError",
     "evalue": "invalid literal for int() with base 10: 'a'",
     "output_type": "error",
     "traceback": [
      "\u001b[1;31m---------------------------------------------------------------------------\u001b[0m",
      "\u001b[1;31mValueError\u001b[0m                                Traceback (most recent call last)",
      "Cell \u001b[1;32mIn [1], line 16\u001b[0m\n\u001b[0;32m     13\u001b[0m         pt,px,py \u001b[39m=\u001b[39m t\u001b[39m.\u001b[39mx,y\n\u001b[0;32m     14\u001b[0m     \u001b[39mreturn\u001b[39;00m \u001b[39mTrue\u001b[39;00m\n\u001b[1;32m---> 16\u001b[0m \u001b[39mprint\u001b[39m(\u001b[39m\"\u001b[39m\u001b[39mYes\u001b[39m\u001b[39m\"\u001b[39m \u001b[39mif\u001b[39;00m solve() \u001b[39melse\u001b[39;00m \u001b[39m\"\u001b[39m\u001b[39mNo\u001b[39m\u001b[39m\"\u001b[39m)\n",
      "Cell \u001b[1;32mIn [1], line 2\u001b[0m, in \u001b[0;36msolve\u001b[1;34m()\u001b[0m\n\u001b[0;32m      1\u001b[0m \u001b[39mdef\u001b[39;00m \u001b[39msolve\u001b[39m():\n\u001b[1;32m----> 2\u001b[0m     N \u001b[39m=\u001b[39m \u001b[39mint\u001b[39;49m(\u001b[39minput\u001b[39;49m())\n\u001b[0;32m      4\u001b[0m     pt,px,py \u001b[39m=\u001b[39m \u001b[39m0\u001b[39m,\u001b[39m0\u001b[39m,\u001b[39m0\u001b[39m\n\u001b[0;32m      5\u001b[0m     \u001b[39mfor\u001b[39;00m i \u001b[39min\u001b[39;00m \u001b[39mrange\u001b[39m(N):\n",
      "\u001b[1;31mValueError\u001b[0m: invalid literal for int() with base 10: 'a'"
     ]
    }
   ],
   "source": [
    "def solve():\n",
    "    N = int(input())\n",
    "    \n",
    "    pt,px,py = 0,0,0\n",
    "    for i in range(N):\n",
    "        t,x,y = map(int,input().split())\n",
    "        T,X,Y = t-pt,abs(x-px),abs(y-py)\n",
    "        \n",
    "        if T < X + Y:\n",
    "            return False\n",
    "        if T % 2 != (X+Y) % 2:\n",
    "            return False\n",
    "        pt,px,py = t.x,y\n",
    "    return True\n",
    "\n",
    "print(\"Yes\" if solve() else \"No\")\n",
    "    "
   ]
  },
  {
   "cell_type": "markdown",
   "metadata": {},
   "source": [
    "○　abc 109A"
   ]
  },
  {
   "cell_type": "code",
   "execution_count": 4,
   "metadata": {},
   "outputs": [
    {
     "name": "stdout",
     "output_type": "stream",
     "text": [
      "No\n"
     ]
    }
   ],
   "source": [
    "A,B = map(int,input().split())\n",
    "def odd():\n",
    "    for c in range(1,4):\n",
    "        if A*B*c %2==1:\n",
    "            return True\n",
    "    return False\n",
    "\n",
    "print(\"Yes\" if odd() else \"No\")"
   ]
  },
  {
   "cell_type": "markdown",
   "metadata": {},
   "source": [
    "○　abc 100A"
   ]
  },
  {
   "cell_type": "code",
   "execution_count": 6,
   "metadata": {},
   "outputs": [
    {
     "name": "stdout",
     "output_type": "stream",
     "text": [
      "Yay!\n"
     ]
    }
   ],
   "source": [
    "A,B = map(int,input().split())\n",
    "if A >8 or B >8:\n",
    "    print(\":(\")\n",
    "else:\n",
    "    print(\"Yay!\")\n",
    "    "
   ]
  },
  {
   "cell_type": "markdown",
   "metadata": {},
   "source": [
    "○　AGC 002A"
   ]
  },
  {
   "cell_type": "code",
   "execution_count": 12,
   "metadata": {},
   "outputs": [
    {
     "name": "stdout",
     "output_type": "stream",
     "text": [
      "zero\n"
     ]
    }
   ],
   "source": [
    "a,b = map(int,input().split())\n",
    "if (a<=0 and b>=0)or a==0 or b==0:\n",
    "    print(\"Zero\")\n",
    "else:\n",
    "    if a<0 and b<0:\n",
    "        if (b-a+1)%2==1:\n",
    "            print(\"Negative\")\n",
    "        else:\n",
    "            print(\"Positive\")\n",
    "    else:\n",
    "        print(\"Positive\")\n",
    "    \n",
    "    "
   ]
  },
  {
   "cell_type": "markdown",
   "metadata": {},
   "source": [
    "○　典型90 024"
   ]
  },
  {
   "cell_type": "code",
   "execution_count": 1,
   "metadata": {},
   "outputs": [
    {
     "ename": "ValueError",
     "evalue": "not enough values to unpack (expected 2, got 0)",
     "output_type": "error",
     "traceback": [
      "\u001b[1;31m---------------------------------------------------------------------------\u001b[0m",
      "\u001b[1;31mValueError\u001b[0m                                Traceback (most recent call last)",
      "Cell \u001b[1;32mIn [1], line 1\u001b[0m\n\u001b[1;32m----> 1\u001b[0m N,K \u001b[39m=\u001b[39m \u001b[39mmap\u001b[39m(\u001b[39mint\u001b[39m,\u001b[39minput\u001b[39m()\u001b[39m.\u001b[39msplit())\n\u001b[0;32m      2\u001b[0m A \u001b[39m=\u001b[39m \u001b[39mlist\u001b[39m(\u001b[39mmap\u001b[39m(\u001b[39mint\u001b[39m,\u001b[39minput\u001b[39m()\u001b[39m.\u001b[39msplit()))\n\u001b[0;32m      3\u001b[0m B \u001b[39m=\u001b[39m \u001b[39mlist\u001b[39m(\u001b[39mmap\u001b[39m(\u001b[39mint\u001b[39m,\u001b[39minput\u001b[39m()\u001b[39m.\u001b[39msplit()))\n",
      "\u001b[1;31mValueError\u001b[0m: not enough values to unpack (expected 2, got 0)"
     ]
    }
   ],
   "source": [
    "N,K = map(int,input().split())\n",
    "A = list(map(int,input().split()))\n",
    "B = list(map(int,input().split()))\n",
    "diff = 0\n",
    "for i in range(N):\n",
    "    diff += abs(B[i]-A[i])\n",
    "if diff>K:\n",
    "    print(\"No\")\n",
    "else:\n",
    "    if (K-diff)%2==0:\n",
    "        print(\"Yes\")\n",
    "    else:\n",
    "        print(\"No\")"
   ]
  },
  {
   "cell_type": "markdown",
   "metadata": {},
   "source": [
    "×　abc 175C"
   ]
  },
  {
   "cell_type": "code",
   "execution_count": null,
   "metadata": {},
   "outputs": [],
   "source": [
    "X,K,D = map(int,input().split())\n",
    "min_count = 0\n",
    "tmp = X\n",
    "min_abs = 0\n",
    "for i in range(K):\n",
    "    if tmp>=0:\n",
    "        if tmp//D == 0:\n",
    "            min_abs = tmp%D\n",
    "            min_count = i\n",
    "            break\n",
    "        else:\n",
    "            tmp -=D\n",
    "    else:\n",
    "        if tmp//D == 0:\n",
    "            min_abs = tmp%D\n",
    "            min_count = i\n",
    "            break\n",
    "        else:\n",
    "            tmp +=D         \n",
    "if min_count==0:\n",
    "    print(X)\n",
    "else:\n",
    "    if (K-min_count)%2==0:\n",
    "        print(min_abs)\n",
    "    else:\n",
    "        print(X)\n",
    "     "
   ]
  },
  {
   "cell_type": "code",
   "execution_count": 4,
   "metadata": {},
   "outputs": [
    {
     "data": {
      "text/plain": [
       "0"
      ]
     },
     "execution_count": 4,
     "metadata": {},
     "output_type": "execute_result"
    }
   ],
   "source": [
    "X,K,D = map(int,input().split())\n",
    "min_count = 0\n",
    "tmp = abs(X)\n",
    "min_abs = K\n",
    "for i in range(K):\n",
    "    if tmp//D == 0:\n",
    "        min_abs = tmp%D\n",
    "        min_count = i\n",
    "        break\n",
    "    else:\n",
    "        tmp -=D\n",
    "if min_count==0:\n",
    "    print(tmp)\n",
    "else:\n",
    "    if (K-min_count)%2==0 or 2*min_count<=K:\n",
    "        print(min_abs)\n",
    "    else:\n",
    "        print(X)"
   ]
  },
  {
   "cell_type": "code",
   "execution_count": null,
   "metadata": {},
   "outputs": [],
   "source": [
    "x,k,d = map(int,input().split())\n",
    "\n",
    "cur = abs(x)\n",
    "rem = k\n",
    "\n",
    "cnt = min(cur // d,k)\n",
    "cur -= d*cnt\n",
    "rem -= cnt\n",
    "\n",
    "if rem > 0:\n",
    "    if rem % 2 ==1:\n",
    "        cur = cur - d\n",
    "        \n",
    "ans = abs(cur)\n",
    "print(ans)"
   ]
  },
  {
   "cell_type": "markdown",
   "metadata": {},
   "source": [
    "×　abc 093C"
   ]
  },
  {
   "cell_type": "markdown",
   "metadata": {},
   "source": [
    "２を足したほうが早く終わる"
   ]
  },
  {
   "cell_type": "code",
   "execution_count": null,
   "metadata": {},
   "outputs": [],
   "source": [
    "A,B,C = map(int,input().split())\n",
    "max_int = max(A,B,C)\n",
    "min_int = min(A,B,C)\n",
    "cnt = (max_int-min_int)//2\n"
   ]
  },
  {
   "cell_type": "code",
   "execution_count": null,
   "metadata": {},
   "outputs": [],
   "source": [
    "Integers = list(map(int,input().split()))\n",
    "count = 0\n",
    "if Integers[0]==Integers[1]==Integers[2]:\n",
    "    print(count)\n",
    "else:\n",
    "    "
   ]
  },
  {
   "cell_type": "code",
   "execution_count": null,
   "metadata": {},
   "outputs": [],
   "source": [
    "Integers = list(map(int,input().split()))\n",
    "count = 0\n",
    "Integers = sorted(Integers)\n",
    "A,B,C = Integers\n",
    "while C > B:\n",
    "    A +=1\n",
    "    B+=1\n",
    "    count +=1\n",
    "\n",
    "left = C-A\n",
    "count +=left //2\n",
    "\n",
    "left -=(left//2)*2\n",
    "\n",
    "if left ==1:\n",
    "    count+=2\n",
    "print(count)"
   ]
  },
  {
   "cell_type": "markdown",
   "metadata": {},
   "source": [
    "aGC 010A"
   ]
  },
  {
   "cell_type": "markdown",
   "metadata": {},
   "source": [
    "AGc 020A"
   ]
  },
  {
   "cell_type": "markdown",
   "metadata": {},
   "source": [
    "AGC 041A"
   ]
  },
  {
   "cell_type": "markdown",
   "metadata": {},
   "source": []
  }
 ],
 "metadata": {
  "kernelspec": {
   "display_name": "Python 3.10.6 64-bit (microsoft store)",
   "language": "python",
   "name": "python3"
  },
  "language_info": {
   "codemirror_mode": {
    "name": "ipython",
    "version": 3
   },
   "file_extension": ".py",
   "mimetype": "text/x-python",
   "name": "python",
   "nbconvert_exporter": "python",
   "pygments_lexer": "ipython3",
   "version": "3.10.8"
  },
  "orig_nbformat": 4,
  "vscode": {
   "interpreter": {
    "hash": "aae2ebd738fb503f79c3d109fe81c29ed11ca24bff9da6d819743b78998e72b9"
   }
  }
 },
 "nbformat": 4,
 "nbformat_minor": 2
}
