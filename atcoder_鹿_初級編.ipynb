{
 "cells": [
  {
   "cell_type": "code",
   "execution_count": 1,
   "metadata": {},
   "outputs": [],
   "source": [
    "A,B = input().split()"
   ]
  },
  {
   "cell_type": "code",
   "execution_count": 2,
   "metadata": {},
   "outputs": [
    {
     "name": "stdout",
     "output_type": "stream",
     "text": [
      "2\n"
     ]
    }
   ],
   "source": [
    "print(A)"
   ]
  },
  {
   "cell_type": "code",
   "execution_count": 3,
   "metadata": {},
   "outputs": [
    {
     "data": {
      "text/plain": [
       "2"
      ]
     },
     "execution_count": 3,
     "metadata": {},
     "output_type": "execute_result"
    }
   ],
   "source": [
    "int(A)"
   ]
  },
  {
   "cell_type": "code",
   "execution_count": 5,
   "metadata": {},
   "outputs": [
    {
     "name": "stdout",
     "output_type": "stream",
     "text": [
      "10\n"
     ]
    }
   ],
   "source": [
    "A,B = map(int,input().split())\n",
    "print(A*B)"
   ]
  },
  {
   "cell_type": "code",
   "execution_count": 8,
   "metadata": {},
   "outputs": [
    {
     "name": "stdout",
     "output_type": "stream",
     "text": [
      "Even\n"
     ]
    }
   ],
   "source": [
    "A,B = map(int,input().split())\n",
    "if (A*B)%2 ==0:\n",
    "    print(\"Even\")\n",
    "else:\n",
    "    print(\"Odd\")"
   ]
  },
  {
   "cell_type": "code",
   "execution_count": 9,
   "metadata": {},
   "outputs": [
    {
     "name": "stdout",
     "output_type": "stream",
     "text": [
      "Even\n"
     ]
    }
   ],
   "source": [
    "print(\"Even\" if A*B % 2 == 0 else \"Odd\")"
   ]
  },
  {
   "cell_type": "code",
   "execution_count": 10,
   "metadata": {},
   "outputs": [
    {
     "name": "stdout",
     "output_type": "stream",
     "text": [
      "1\n",
      "2\n",
      "Fizz\n",
      "4\n",
      "Buzz\n",
      "Fizz\n",
      "7\n",
      "8\n",
      "Fizz\n",
      "Buzz\n",
      "11\n",
      "Fizz\n",
      "13\n",
      "14\n",
      "Fizz Buzz\n",
      "16\n",
      "17\n",
      "Fizz\n",
      "19\n",
      "Buzz\n",
      "Fizz\n",
      "22\n",
      "23\n",
      "Fizz\n"
     ]
    }
   ],
   "source": [
    "N = int(input())\n",
    "for n in range(1,N + 1):\n",
    "    if n % 3 == 0 and n % 5 == 0:\n",
    "        print(\"Fizz Buzz\")\n",
    "    elif n % 3 == 0:\n",
    "        print(\"Fizz\")\n",
    "    elif n % 5 == 0:\n",
    "        print(\"Buzz\")\n",
    "    else:\n",
    "        print(n)"
   ]
  },
  {
   "cell_type": "code",
   "execution_count": 12,
   "metadata": {},
   "outputs": [
    {
     "name": "stdout",
     "output_type": "stream",
     "text": [
      "8\n"
     ]
    }
   ],
   "source": [
    "A,B = map(int,input().split())\n",
    "if A%B == 0:\n",
    "    print(A//B)\n",
    "else:\n",
    "    print(A//B + 1)"
   ]
  },
  {
   "cell_type": "markdown",
   "metadata": {},
   "source": [
    "ABC 137 A"
   ]
  },
  {
   "cell_type": "code",
   "execution_count": 13,
   "metadata": {},
   "outputs": [
    {
     "name": "stdout",
     "output_type": "stream",
     "text": [
      "10\n"
     ]
    }
   ],
   "source": [
    "A,B = map(int,input().split())\n",
    "print(max(A+B,A-B,A*B))\n"
   ]
  },
  {
   "cell_type": "markdown",
   "metadata": {},
   "source": [
    "ABC127"
   ]
  },
  {
   "cell_type": "code",
   "execution_count": 20,
   "metadata": {},
   "outputs": [
    {
     "name": "stdout",
     "output_type": "stream",
     "text": [
      "50\n"
     ]
    }
   ],
   "source": [
    "A,B = map(int,input().split())\n",
    "if A >= 13:\n",
    "    print(B)\n",
    "elif A<=5:\n",
    "    print(0)\n",
    "else:\n",
    "    print(B//2)"
   ]
  },
  {
   "cell_type": "markdown",
   "metadata": {},
   "source": [
    "ABC118"
   ]
  },
  {
   "cell_type": "code",
   "execution_count": 21,
   "metadata": {},
   "outputs": [
    {
     "name": "stdout",
     "output_type": "stream",
     "text": [
      "120\n"
     ]
    }
   ],
   "source": [
    "A,B = map(int,input().split())\n",
    "if B%A ==0:\n",
    "    print(A+B)\n",
    "else:\n",
    "    print(B-A)"
   ]
  },
  {
   "cell_type": "markdown",
   "metadata": {},
   "source": [
    "ABC088"
   ]
  },
  {
   "cell_type": "code",
   "execution_count": 25,
   "metadata": {},
   "outputs": [
    {
     "name": "stdout",
     "output_type": "stream",
     "text": [
      "Yes\n"
     ]
    }
   ],
   "source": [
    "N = int(input())\n",
    "A = int(input())\n",
    "if (N%500) > A:\n",
    "    print('No')\n",
    "else:\n",
    "    print('Yes')"
   ]
  },
  {
   "cell_type": "code",
   "execution_count": null,
   "metadata": {},
   "outputs": [],
   "source": [
    "N = int(input())\n",
    "A = int(input())\n",
    "if (N%500) > A:\n",
    "    print('No')\n",
    "else:\n",
    "    print('Yes')"
   ]
  },
  {
   "cell_type": "markdown",
   "metadata": {},
   "source": [
    "ABC087"
   ]
  },
  {
   "cell_type": "code",
   "execution_count": 26,
   "metadata": {},
   "outputs": [
    {
     "name": "stdout",
     "output_type": "stream",
     "text": [
      "84\n"
     ]
    }
   ],
   "source": [
    "X =int(input())\n",
    "A = int(input())\n",
    "B = int(input())\n",
    "print((X-A)%B)"
   ]
  },
  {
   "cell_type": "markdown",
   "metadata": {},
   "source": [
    "ABC064"
   ]
  },
  {
   "cell_type": "code",
   "execution_count": 31,
   "metadata": {},
   "outputs": [
    {
     "name": "stdout",
     "output_type": "stream",
     "text": [
      "YES\n"
     ]
    }
   ],
   "source": [
    "r,g,b = map(int,input().split())\n",
    "if (100*r+10*g+b)%4 ==0:\n",
    "    print(\"YES\")\n",
    "else:\n",
    "    print(\"NO\")"
   ]
  },
  {
   "cell_type": "markdown",
   "metadata": {},
   "source": [
    "ABC128"
   ]
  },
  {
   "cell_type": "code",
   "execution_count": 32,
   "metadata": {},
   "outputs": [
    {
     "name": "stdout",
     "output_type": "stream",
     "text": [
      "0\n"
     ]
    }
   ],
   "source": [
    "A,P = map(int,input().split())\n",
    "print((3*A+P)//2)"
   ]
  },
  {
   "cell_type": "markdown",
   "metadata": {},
   "source": [
    "ABC125"
   ]
  },
  {
   "cell_type": "code",
   "execution_count": 39,
   "metadata": {},
   "outputs": [
    {
     "name": "stdout",
     "output_type": "stream",
     "text": [
      "10\n"
     ]
    }
   ],
   "source": [
    "A,B,T = map(int,input().split())\n",
    "print(int(B*((T+0.5)//A)))"
   ]
  },
  {
   "cell_type": "markdown",
   "metadata": {},
   "source": [
    "ABC173"
   ]
  },
  {
   "cell_type": "code",
   "execution_count": 53,
   "metadata": {},
   "outputs": [],
   "source": [
    "N = int(input())\n",
    "if N%1000 ==0:\n",
    "    print(0)\n",
    "else:\n",
    "    print(1000-(N%1000))"
   ]
  },
  {
   "cell_type": "markdown",
   "metadata": {},
   "source": [
    "ABC157"
   ]
  },
  {
   "cell_type": "code",
   "execution_count": 52,
   "metadata": {},
   "outputs": [
    {
     "name": "stdout",
     "output_type": "stream",
     "text": [
      "2\n"
     ]
    }
   ],
   "source": [
    "N = int(input())\n",
    "if N%2 ==0:\n",
    "    print(N//2)\n",
    "else:\n",
    "    print(N//2 + 1)"
   ]
  },
  {
   "cell_type": "markdown",
   "metadata": {},
   "source": [
    "ABC176"
   ]
  },
  {
   "cell_type": "code",
   "execution_count": 3,
   "metadata": {},
   "outputs": [
    {
     "name": "stdout",
     "output_type": "stream",
     "text": [
      "1000000\n"
     ]
    }
   ],
   "source": [
    "N,X,T = map(int,input().split())\n",
    "if N%X==0:\n",
    "    print(N//X*T)\n",
    "else:\n",
    "    print((N//X+1)*T)"
   ]
  },
  {
   "cell_type": "markdown",
   "metadata": {},
   "source": [
    "NOt TOo bright"
   ]
  },
  {
   "cell_type": "code",
   "execution_count": 10,
   "metadata": {},
   "outputs": [
    {
     "name": "stdout",
     "output_type": "stream",
     "text": [
      "6\n"
     ]
    }
   ],
   "source": [
    "H,W = map(int,input().split())\n",
    "if W%2 ==0:\n",
    "    if H%2 ==0:\n",
    "        print(int(W*H/4))\n",
    "    else:\n",
    "        print(int((W/2)*(H//2+1)))\n",
    "else:\n",
    "    if H%2 ==0:\n",
    "        print(int((W//2+1)*(H/2)))\n",
    "    else:\n",
    "        print(int((W//2+1)*(H//2+1)))"
   ]
  },
  {
   "cell_type": "code",
   "execution_count": 11,
   "metadata": {},
   "outputs": [
    {
     "name": "stdout",
     "output_type": "stream",
     "text": [
      "2\n"
     ]
    }
   ],
   "source": [
    "H,W = map(int,input().split())\n",
    "led_h = H/2 if H % 2 == 0 else H //2 +1\n",
    "led_w = W/2 if W % 2 == 0 else W //2 +1\n",
    "\n",
    "print(H * W if H ==1 or W==1 else int(led_h*led_w))"
   ]
  },
  {
   "cell_type": "code",
   "execution_count": 12,
   "metadata": {},
   "outputs": [
    {
     "name": "stdout",
     "output_type": "stream",
     "text": [
      "1\n"
     ]
    }
   ],
   "source": [
    "from itertools import count\n",
    "\n",
    "\n",
    "H,A = map(int,input().split())\n",
    "counter = 0\n",
    "while H > 0:\n",
    "    H -= A\n",
    "    counter += 1\n",
    "print(counter)"
   ]
  },
  {
   "cell_type": "code",
   "execution_count": 13,
   "metadata": {},
   "outputs": [
    {
     "name": "stdout",
     "output_type": "stream",
     "text": [
      "Ok\n"
     ]
    }
   ],
   "source": [
    "K = int(input())\n",
    "A,B = map(int,input().split())\n",
    "flag = False\n",
    "for i in range(A,B+1):\n",
    "    if i%K ==0:\n",
    "        flag = True\n",
    "print(\"Ok\"if flag else \"NG\")"
   ]
  },
  {
   "cell_type": "code",
   "execution_count": null,
   "metadata": {},
   "outputs": [],
   "source": []
  },
  {
   "cell_type": "code",
   "execution_count": 15,
   "metadata": {},
   "outputs": [
    {
     "name": "stdout",
     "output_type": "stream",
     "text": [
      "45\n"
     ]
    }
   ],
   "source": [
    "N,A,B = map(int,input().split())\n",
    "def calc_sum_digits(n):\n",
    "    sum_digit = 0\n",
    "    while n > 0:\n",
    "        sum_digit += n % 10\n",
    "        n //= 10\n",
    "    return sum_digit\n",
    "result = 0\n",
    "for i in range(1,N+1):\n",
    "    if A <=calc_sum_digits(i) <= B:\n",
    "        result += i\n",
    "print(result)"
   ]
  },
  {
   "cell_type": "markdown",
   "metadata": {},
   "source": [
    "ABC 162B"
   ]
  },
  {
   "cell_type": "code",
   "execution_count": 17,
   "metadata": {},
   "outputs": [
    {
     "name": "stdout",
     "output_type": "stream",
     "text": [
      "60\n"
     ]
    }
   ],
   "source": [
    "N = int(input())\n",
    "result = 0\n",
    "for i in range(1,N+1):\n",
    "    if i %3 !=0 and i %5!=0:\n",
    "         result +=i\n",
    "print(result)"
   ]
  },
  {
   "cell_type": "markdown",
   "metadata": {},
   "source": [
    "ABC 206B"
   ]
  },
  {
   "cell_type": "code",
   "execution_count": 18,
   "metadata": {},
   "outputs": [
    {
     "name": "stdout",
     "output_type": "stream",
     "text": [
      "5\n"
     ]
    }
   ],
   "source": [
    "N = int(input())\n",
    "result = 0\n",
    "for i in range(1,N):\n",
    "    result += i\n",
    "    if result>=N:\n",
    "        break\n",
    "print(i)"
   ]
  },
  {
   "cell_type": "code",
   "execution_count": 19,
   "metadata": {},
   "outputs": [
    {
     "name": "stdout",
     "output_type": "stream",
     "text": [
      "5\n"
     ]
    }
   ],
   "source": [
    "N = int(input())\n",
    "day_cnt = 0\n",
    "sum_money = 0\n",
    "\n",
    "while sum_money < N:\n",
    "    day_cnt +=1\n",
    "    sum_money +=day_cnt\n",
    "    \n",
    "print(day_cnt)"
   ]
  },
  {
   "cell_type": "markdown",
   "metadata": {},
   "source": [
    "ABC165"
   ]
  },
  {
   "cell_type": "code",
   "execution_count": 25,
   "metadata": {},
   "outputs": [
    {
     "name": "stdout",
     "output_type": "stream",
     "text": [
      "1706\n"
     ]
    }
   ],
   "source": [
    "X = int(input())\n",
    "day_cnt = 0\n",
    "sum_money = 100\n",
    "while sum_money < X:\n",
    "    sum_money *= 1.01\n",
    "    sum_money = int(sum_money)\n",
    "    day_cnt +=1\n",
    "print(day_cnt)"
   ]
  },
  {
   "cell_type": "markdown",
   "metadata": {},
   "source": [
    "ABC 200"
   ]
  },
  {
   "cell_type": "code",
   "execution_count": 8,
   "metadata": {},
   "outputs": [
    {
     "name": "stdout",
     "output_type": "stream",
     "text": [
      "1\n"
     ]
    }
   ],
   "source": [
    "N,K = map(int,input().split())\n",
    "i = 0\n",
    "while i < K:\n",
    "    if N%200 ==0:\n",
    "        N = N//200\n",
    "    else:\n",
    "        N =int(str(N)+str(200))\n",
    "    i +=1\n",
    "print(N)"
   ]
  },
  {
   "cell_type": "code",
   "execution_count": 2,
   "metadata": {},
   "outputs": [
    {
     "data": {
      "text/plain": [
       "'10020'"
      ]
     },
     "execution_count": 2,
     "metadata": {},
     "output_type": "execute_result"
    }
   ],
   "source": [
    "str(100)+str(20)"
   ]
  },
  {
   "cell_type": "markdown",
   "metadata": {},
   "source": [
    "ABC164"
   ]
  },
  {
   "cell_type": "code",
   "execution_count": 22,
   "metadata": {},
   "outputs": [
    {
     "name": "stdout",
     "output_type": "stream",
     "text": [
      "No\n"
     ]
    }
   ],
   "source": [
    "A,B,C,D = map(int,input().split())\n",
    "while True:\n",
    "    C -=B\n",
    "    A-=D\n",
    "    if C<=0:\n",
    "        print(\"Yes\")\n",
    "        break\n",
    "    elif A<= 0:\n",
    "        print(\"No\")\n",
    "        break\n",
    "    "
   ]
  },
  {
   "cell_type": "markdown",
   "metadata": {},
   "source": [
    "ABC208"
   ]
  },
  {
   "cell_type": "code",
   "execution_count": 4,
   "metadata": {},
   "outputs": [
    {
     "name": "stdout",
     "output_type": "stream",
     "text": [
      "3\n"
     ]
    }
   ],
   "source": [
    "from math import factorial\n",
    "P =int(input())\n",
    "money = [factorial(i) for i in range(10,0,-1)]\n",
    "ans = 0\n",
    "for m in money:\n",
    "    while m <= P:\n",
    "        P -= m\n",
    "        ans +=1\n",
    "print(ans)"
   ]
  },
  {
   "cell_type": "code",
   "execution_count": 5,
   "metadata": {},
   "outputs": [
    {
     "data": {
      "text/plain": [
       "[3628800, 362880, 40320, 5040, 720, 120, 24, 6, 2, 1]"
      ]
     },
     "execution_count": 5,
     "metadata": {},
     "output_type": "execute_result"
    }
   ],
   "source": [
    "money"
   ]
  },
  {
   "cell_type": "code",
   "execution_count": null,
   "metadata": {},
   "outputs": [],
   "source": []
  },
  {
   "cell_type": "markdown",
   "metadata": {},
   "source": [
    "ABC093"
   ]
  },
  {
   "cell_type": "code",
   "execution_count": 9,
   "metadata": {},
   "outputs": [
    {
     "name": "stdout",
     "output_type": "stream",
     "text": [
      "3\n",
      "4\n",
      "7\n",
      "8\n"
     ]
    }
   ],
   "source": [
    "A,B,K = map(int,input().split())\n",
    "for i in range(A,B+1):\n",
    "    if (i-A+1) <=K:\n",
    "        print(i)\n",
    "    elif(B-i+1)<=K:\n",
    "        print(i)\n",
    "#なぜだめだったのか？？？？"
   ]
  },
  {
   "cell_type": "code",
   "execution_count": null,
   "metadata": {},
   "outputs": [],
   "source": [
    "A, B, K = map(int, input().split())\n",
    "if B-A+1 >= 2*K: # A以上B以下の整数の数が2K以上\n",
    "    res_list = [i for i in range(A, A+K)] + [i for i in range(B-K+1, B+1)]\n",
    "else: # A以上B以下の整数の数が2K未満\n",
    "    res_list = [i for i in range(A, B+1)]\n",
    "for i in res_list:\n",
    "    print(i)"
   ]
  },
  {
   "cell_type": "code",
   "execution_count": null,
   "metadata": {},
   "outputs": [],
   "source": [
    "A, B, K = map(int, input().split())\n",
    " \n",
    "for i in range(A, min(B, A + K - 1) + 1):\n",
    "  print(i)\n",
    "for i in range(max(B - K + 1, A + K), B + 1):\n",
    "  print(i)"
   ]
  },
  {
   "cell_type": "markdown",
   "metadata": {},
   "source": [
    "ABC158\n"
   ]
  },
  {
   "cell_type": "code",
   "execution_count": 10,
   "metadata": {},
   "outputs": [
    {
     "name": "stdout",
     "output_type": "stream",
     "text": [
      "25\n"
     ]
    }
   ],
   "source": [
    "A,B = map(int,input().split())\n",
    "ans = -1\n",
    "for i in range(10000):\n",
    "    tax_a = i*8//100\n",
    "    tax_b = i*10 //100\n",
    "    \n",
    "    if tax_a == A and tax_b == B:\n",
    "        ans = i\n",
    "        break\n",
    "    \n",
    "print(ans)"
   ]
  },
  {
   "cell_type": "markdown",
   "metadata": {},
   "source": [
    "ABC 068"
   ]
  },
  {
   "cell_type": "code",
   "execution_count": 16,
   "metadata": {},
   "outputs": [
    {
     "name": "stdout",
     "output_type": "stream",
     "text": [
      "64\n"
     ]
    }
   ],
   "source": [
    "N = int(input())\n",
    "n = 0\n",
    "max_i = 1\n",
    "for i in range(1,N+1):\n",
    "    tmp = i\n",
    "    count = 0\n",
    "    while tmp%2 ==0:\n",
    "        count+=1\n",
    "        tmp = tmp//2\n",
    "    if count > n:\n",
    "        n = count\n",
    "        max_i = i\n",
    "print(max_i)\n"
   ]
  },
  {
   "cell_type": "markdown",
   "metadata": {},
   "source": [
    "ABC90"
   ]
  },
  {
   "cell_type": "code",
   "execution_count": 18,
   "metadata": {},
   "outputs": [
    {
     "ename": "IndexError",
     "evalue": "string index out of range",
     "output_type": "error",
     "traceback": [
      "\u001b[1;31m---------------------------------------------------------------------------\u001b[0m",
      "\u001b[1;31mIndexError\u001b[0m                                Traceback (most recent call last)",
      "\u001b[1;32m<ipython-input-18-d6fbea655232>\u001b[0m in \u001b[0;36m<module>\u001b[1;34m\u001b[0m\n\u001b[0;32m      3\u001b[0m \u001b[1;32mfor\u001b[0m \u001b[0mi\u001b[0m \u001b[1;32min\u001b[0m \u001b[0mrange\u001b[0m\u001b[1;33m(\u001b[0m\u001b[0mA\u001b[0m\u001b[1;33m,\u001b[0m\u001b[0mB\u001b[0m\u001b[1;33m+\u001b[0m\u001b[1;36m1\u001b[0m\u001b[1;33m)\u001b[0m\u001b[1;33m:\u001b[0m\u001b[1;33m\u001b[0m\u001b[1;33m\u001b[0m\u001b[0m\n\u001b[0;32m      4\u001b[0m     \u001b[0mstr_\u001b[0m \u001b[1;33m=\u001b[0m \u001b[0mstr\u001b[0m\u001b[1;33m(\u001b[0m\u001b[0mi\u001b[0m\u001b[1;33m)\u001b[0m\u001b[1;33m\u001b[0m\u001b[1;33m\u001b[0m\u001b[0m\n\u001b[1;32m----> 5\u001b[1;33m     \u001b[1;32mif\u001b[0m \u001b[0mstr_\u001b[0m\u001b[1;33m[\u001b[0m\u001b[1;36m0\u001b[0m\u001b[1;33m]\u001b[0m \u001b[1;33m==\u001b[0m \u001b[0mstr_\u001b[0m\u001b[1;33m[\u001b[0m\u001b[1;36m4\u001b[0m\u001b[1;33m]\u001b[0m \u001b[1;32mand\u001b[0m \u001b[0mstr_\u001b[0m\u001b[1;33m[\u001b[0m\u001b[1;36m1\u001b[0m\u001b[1;33m]\u001b[0m \u001b[1;33m==\u001b[0m \u001b[0mstr\u001b[0m\u001b[1;33m[\u001b[0m\u001b[1;36m3\u001b[0m\u001b[1;33m]\u001b[0m\u001b[1;33m:\u001b[0m\u001b[1;33m\u001b[0m\u001b[1;33m\u001b[0m\u001b[0m\n\u001b[0m\u001b[0;32m      6\u001b[0m         \u001b[0mcount\u001b[0m \u001b[1;33m+=\u001b[0m\u001b[1;36m1\u001b[0m\u001b[1;33m\u001b[0m\u001b[1;33m\u001b[0m\u001b[0m\n\u001b[0;32m      7\u001b[0m \u001b[0mprint\u001b[0m\u001b[1;33m(\u001b[0m\u001b[0mcount\u001b[0m\u001b[1;33m)\u001b[0m\u001b[1;33m\u001b[0m\u001b[1;33m\u001b[0m\u001b[0m\n",
      "\u001b[1;31mIndexError\u001b[0m: string index out of range"
     ]
    }
   ],
   "source": [
    "A,B = map(int,input().split())\n",
    "count = 0\n",
    "for i in range(A,B+1):\n",
    "    str_ = str(i)\n",
    "    if str_[0] == str_[4] and str_[1] == str[3]:\n",
    "        count +=1\n",
    "print(count)\n",
    "    \n",
    "    "
   ]
  },
  {
   "cell_type": "markdown",
   "metadata": {},
   "source": [
    "ABC220"
   ]
  },
  {
   "cell_type": "code",
   "execution_count": null,
   "metadata": {},
   "outputs": [],
   "source": [
    "K = int(input())\n",
    "A,B = map(int,input().split())\n",
    "ans = int(A,K) * int(B,K)\n",
    "print(ans)"
   ]
  },
  {
   "cell_type": "code",
   "execution_count": null,
   "metadata": {},
   "outputs": [],
   "source": [
    "def convert(x,k):\n",
    "    ret = 0\n",
    "    i = 0\n",
    "    while x > 0:\n",
    "        ret += (x % 10) * (k ** i)\n",
    "        x //= 10\n",
    "        i += 1\n",
    "    return ret"
   ]
  },
  {
   "cell_type": "markdown",
   "metadata": {},
   "source": [
    "067"
   ]
  },
  {
   "cell_type": "code",
   "execution_count": null,
   "metadata": {},
   "outputs": [],
   "source": [
    "N,K = map(int,input().split())\n",
    "def convert(x,k):\n",
    "    ret = 0\n",
    "    i = 0\n",
    "    while x > 0:\n",
    "        ret += (x % 10) * (k ** i)\n",
    "        x //= 10\n",
    "        i += 1\n",
    "    return ret\n",
    "count = 0\n",
    "while count =< K:\n",
    "    count =+1\n",
    "    temp = convert(N,8)\n",
    "    \n",
    "    "
   ]
  },
  {
   "cell_type": "code",
   "execution_count": 19,
   "metadata": {},
   "outputs": [],
   "source": [
    "def base10to(n, b):\n",
    "    if n // b:\n",
    "        return base10to(n // b, b) + str(n % b)\n",
    "    return str(n % b)\n",
    "n, k = map(int,input().split())\n",
    "\n",
    "\n",
    "for i in range(k):\n",
    "    base_10 = int(num,8)\n",
    "    base_9 = str(base10to(base_10,9))\n",
    "    num = \" \"\n",
    "    for j in range(len(base_9)):\n",
    "        if base_9[j] == \"8\":\n",
    "            num += \"5\"\n",
    "        else:\n",
    "            num += base_9[j]\n",
    "            \n",
    "print(num)\n",
    "    "
   ]
  },
  {
   "cell_type": "code",
   "execution_count": null,
   "metadata": {},
   "outputs": [],
   "source": [
    "def base10to(n, b):\n",
    "    if n // b:\n",
    "        return base10to(n // b, b) + str(n % b)\n",
    "    return str(n % b)\n",
    "\n",
    "\n",
    "n, k = map(int,input().split())\n",
    "\n",
    "num = str(n)\n",
    "\n",
    "for i in range(k):\n",
    "    base_10 = int(num, 8)\n",
    "    base_9 = str(base10to(base_10, 9))\n",
    "    num = \"\"\n",
    "    for j in range(len(base_9)):\n",
    "        if base_9[j] == \"8\":\n",
    "            num += \"5\"\n",
    "        else:\n",
    "            num += base_9[j]\n",
    "\n",
    "print(num)\n",
    "#base9にnumを保存"
   ]
  },
  {
   "cell_type": "code",
   "execution_count": 23,
   "metadata": {},
   "outputs": [
    {
     "data": {
      "text/plain": [
       "'2'"
      ]
     },
     "execution_count": 23,
     "metadata": {},
     "output_type": "execute_result"
    }
   ],
   "source": [
    "base10to(2,3)"
   ]
  },
  {
   "cell_type": "markdown",
   "metadata": {},
   "source": [
    "100 // 3 33 1\n",
    "33 //3 11   0\n",
    "11 //3 3    2\n",
    "3//3 1      0\n",
    "            1\n"
   ]
  },
  {
   "cell_type": "markdown",
   "metadata": {},
   "source": [
    "3-4 配列とソート"
   ]
  },
  {
   "cell_type": "code",
   "execution_count": 2,
   "metadata": {},
   "outputs": [
    {
     "ename": "ValueError",
     "evalue": "invalid literal for int() with base 10: ''",
     "output_type": "error",
     "traceback": [
      "\u001b[1;31m---------------------------------------------------------------------------\u001b[0m",
      "\u001b[1;31mValueError\u001b[0m                                Traceback (most recent call last)",
      "\u001b[1;32m<ipython-input-2-ab9ce70cd9de>\u001b[0m in \u001b[0;36m<module>\u001b[1;34m\u001b[0m\n\u001b[1;32m----> 1\u001b[1;33m \u001b[0mN\u001b[0m \u001b[1;33m=\u001b[0m \u001b[0mint\u001b[0m\u001b[1;33m(\u001b[0m\u001b[0minput\u001b[0m\u001b[1;33m(\u001b[0m\u001b[1;33m)\u001b[0m\u001b[1;33m)\u001b[0m\u001b[1;33m\u001b[0m\u001b[1;33m\u001b[0m\u001b[0m\n\u001b[0m\u001b[0;32m      2\u001b[0m \u001b[0mA\u001b[0m  \u001b[1;33m=\u001b[0m\u001b[0mlist\u001b[0m\u001b[1;33m(\u001b[0m\u001b[0mmap\u001b[0m\u001b[1;33m(\u001b[0m\u001b[0mint\u001b[0m\u001b[1;33m,\u001b[0m\u001b[0minput\u001b[0m\u001b[1;33m(\u001b[0m\u001b[1;33m)\u001b[0m\u001b[1;33m.\u001b[0m\u001b[0msplit\u001b[0m\u001b[1;33m(\u001b[0m\u001b[1;33m)\u001b[0m\u001b[1;33m)\u001b[0m\u001b[1;33m)\u001b[0m\u001b[1;33m\u001b[0m\u001b[1;33m\u001b[0m\u001b[0m\n",
      "\u001b[1;31mValueError\u001b[0m: invalid literal for int() with base 10: ''"
     ]
    }
   ],
   "source": [
    "N = int(input())\n",
    "A  =list(map(int,input().split()))\n",
    "\n",
    "counter = 0\n",
    "while True:\n",
    "    can_do = Truefor i in range(N):\n",
    "        if A[i]%2 ==1:\n",
    "            can_do = False\n",
    "        if not can_do:\n",
    "            break\n",
    "        for i in range(N):\n",
    "            A[i]//=2\n",
    "            \n",
    "        counter +=1\n",
    "print(counter)"
   ]
  },
  {
   "cell_type": "code",
   "execution_count": null,
   "metadata": {},
   "outputs": [],
   "source": [
    "can_do  =True\n",
    "for i in range(N):\n",
    "    if A[i] %2 ==1:\n",
    "        can_do = False\n",
    "        "
   ]
  },
  {
   "cell_type": "code",
   "execution_count": null,
   "metadata": {},
   "outputs": [],
   "source": [
    "while all(a%2 ==0 for a in A):\n",
    "    A =[a //2 for a in A]\n",
    "    \n",
    "    counter += 1"
   ]
  },
  {
   "cell_type": "code",
   "execution_count": null,
   "metadata": {},
   "outputs": [],
   "source": [
    "def how_many_times(num):\n",
    "    counter = 0\n",
    "    while num %2 ==0:\n",
    "        num //= 2\n",
    "        counter +=1\n",
    "    return counter\n",
    "\n",
    "INF = 2**30\n",
    "\n",
    "N = int(input())\n",
    "A =list(map(int,input().split()))\n",
    "\n",
    "result = INF\n",
    "\n",
    "for a in A:\n",
    "    counter = how_many_times(a)\n",
    "    \n",
    "    result = min(result,counter)\n",
    "    \n",
    "print(result)\n",
    "\n",
    "#result = min(map(how_many_times,A))\n",
    "\n"
   ]
  },
  {
   "cell_type": "code",
   "execution_count": null,
   "metadata": {},
   "outputs": [],
   "source": [
    "N = int(input())\n",
    "A = list(map(int,input().split()))\n",
    "A.sort(reverse=True)\n",
    "result= 0\n",
    "for i in range(N+1):\n",
    "    if i %2 == 0:\n",
    "        result += A[i]\n",
    "    else:\n",
    "        result -= A[i]\n",
    "print(result)"
   ]
  },
  {
   "cell_type": "markdown",
   "metadata": {},
   "source": [
    "ABC 174 B ○"
   ]
  },
  {
   "cell_type": "code",
   "execution_count": 5,
   "metadata": {},
   "outputs": [
    {
     "name": "stdout",
     "output_type": "stream",
     "text": [
      "3\n"
     ]
    }
   ],
   "source": [
    "import math\n",
    "\n",
    "\n",
    "N,D  = map(int,input().split())\n",
    "count = 0\n",
    "for i in range(1,N+1):\n",
    "    X,Y = map(int,input().split())\n",
    "    if math.sqrt(X**2+Y**2)<=D:\n",
    "        count += 1\n",
    "    i +=1\n",
    "print(count)\n",
    "    "
   ]
  },
  {
   "cell_type": "markdown",
   "metadata": {},
   "source": [
    "ABC130○"
   ]
  },
  {
   "cell_type": "code",
   "execution_count": 13,
   "metadata": {},
   "outputs": [
    {
     "name": "stdout",
     "output_type": "stream",
     "text": [
      "2\n"
     ]
    }
   ],
   "source": [
    "N,X = map(int,input().split())\n",
    "L = list(map(int,input().split()))\n",
    "D = 0\n",
    "count = 1\n",
    "for i in range(1,N+1):\n",
    "    D  +=L[i-1]\n",
    "    if D <=X:\n",
    "        count +=1\n",
    "print(count)"
   ]
  },
  {
   "cell_type": "markdown",
   "metadata": {},
   "source": [
    "ABC095 ○"
   ]
  },
  {
   "cell_type": "code",
   "execution_count": 18,
   "metadata": {},
   "outputs": [
    {
     "name": "stdout",
     "output_type": "stream",
     "text": [
      "26\n"
     ]
    }
   ],
   "source": [
    "N,X = map(int,input().split())\n",
    "A =[]\n",
    "for i in range(N):\n",
    "    m = int(input())\n",
    "    A.append(m)\n",
    "    X -= m\n",
    "m_min = min(A)\n",
    "n = X//m_min\n",
    "print(n+N)\n",
    "    "
   ]
  },
  {
   "cell_type": "code",
   "execution_count": null,
   "metadata": {},
   "outputs": [],
   "source": [
    "N,X = map(int,input().split())\n",
    "m = [int((input)) for _ in range(N)]\n",
    "\n",
    "t = sum(m)\n",
    "min_m = min(m)\n",
    "\n",
    "ans = N + (X-t)//min(m)\n",
    "\n",
    "print(ans)"
   ]
  },
  {
   "cell_type": "markdown",
   "metadata": {},
   "source": [
    "ABC124B ×\n",
    "i,jをfor文を用いてまわすことが出なかった\n",
    "flagを仮として判定を出すことも出なかった"
   ]
  },
  {
   "cell_type": "code",
   "execution_count": 42,
   "metadata": {},
   "outputs": [
    {
     "name": "stdout",
     "output_type": "stream",
     "text": [
      "3\n"
     ]
    }
   ],
   "source": [
    "N = int(input())\n",
    "H = list(map(int,input().split()))\n",
    "count = 1\n",
    "for i in range(1,N):\n",
    "    flag = True\n",
    "    for j in range(i):\n",
    "        if H[j]>H[i]:\n",
    "            flag =  False\n",
    "    if flag:\n",
    "        count += 1\n",
    "            \n",
    "print(count)"
   ]
  },
  {
   "cell_type": "code",
   "execution_count": 27,
   "metadata": {},
   "outputs": [
    {
     "name": "stdout",
     "output_type": "stream",
     "text": [
      "[[8849, 'Everest'], [8611, 'K2'], [8586, 'Kangchenjunga']]\n"
     ]
    }
   ],
   "source": [
    "print(mountains)"
   ]
  },
  {
   "cell_type": "markdown",
   "metadata": {},
   "source": [
    "ABC201 B　△"
   ]
  },
  {
   "cell_type": "code",
   "execution_count": null,
   "metadata": {},
   "outputs": [],
   "source": [
    "N = int(input())\n",
    "mountains = []\n",
    "for i in range(N):\n",
    "    S,T = map(str,input().split())\n",
    "    T = int(T)\n",
    "    mountains.append([T,S])\n",
    "mountains.sort(reverse=True)\n",
    "\n",
    "print(mountains[1][1])"
   ]
  },
  {
   "cell_type": "markdown",
   "metadata": {},
   "source": [
    "ABC113 B　×\n",
    "平均気温の式を適応\n",
    "差が一番小さい→絶対値が一番小さい？\n",
    "\n",
    "list(map)でlist化\n",
    "答えを上書きしていくことで解決"
   ]
  },
  {
   "cell_type": "code",
   "execution_count": 55,
   "metadata": {},
   "outputs": [
    {
     "name": "stdout",
     "output_type": "stream",
     "text": [
      "3\n"
     ]
    }
   ],
   "source": [
    "N = int(input())\n",
    "T,A = map(int,input().split())\n",
    "H = list(map(int,input().split()))\n",
    "\n",
    "H_temp = list(map(lambda x: T-x*0.006,H))\n",
    "neartest = 1000\n",
    "ans = 0\n",
    "for i in range(N):\n",
    "    if neartest>abs(H_temp[i]-A):\n",
    "        neartest = abs(H_temp[i]-A)\n",
    "        ans = i+1\n",
    "print(ans)\n",
    "    "
   ]
  },
  {
   "cell_type": "code",
   "execution_count": 54,
   "metadata": {},
   "outputs": [
    {
     "data": {
      "text/plain": [
       "[6.0, 0.0]"
      ]
     },
     "execution_count": 54,
     "metadata": {},
     "output_type": "execute_result"
    }
   ],
   "source": [
    "H_temp"
   ]
  },
  {
   "cell_type": "markdown",
   "metadata": {},
   "source": [
    "ABC205 B ○"
   ]
  },
  {
   "cell_type": "code",
   "execution_count": 67,
   "metadata": {},
   "outputs": [
    {
     "name": "stdout",
     "output_type": "stream",
     "text": [
      "Yes\n"
     ]
    }
   ],
   "source": [
    "N = int(input())\n",
    "A = list(map(int,input().split()))\n",
    "ans = []\n",
    "flag = True\n",
    "A.sort()\n",
    "for i in range(N):\n",
    "    if i+1 != A[i]:\n",
    "        flag = False\n",
    "        \n",
    "print(\"Yes\"if flag else \"No\")\n"
   ]
  },
  {
   "cell_type": "markdown",
   "metadata": {},
   "source": [
    "ABC 067 B ○"
   ]
  },
  {
   "cell_type": "code",
   "execution_count": 69,
   "metadata": {},
   "outputs": [
    {
     "name": "stdout",
     "output_type": "stream",
     "text": [
      "386\n"
     ]
    }
   ],
   "source": [
    "N,K = map(int,input().split())\n",
    "L = list(map(int,input().split()))\n",
    "length = 0\n",
    "L.sort(reverse=True)\n",
    "for i in range(K):\n",
    "    length += L[i]\n",
    "    \n",
    "print(length)"
   ]
  },
  {
   "cell_type": "markdown",
   "metadata": {},
   "source": [
    "ABC 132C\n",
    "中央値を二で割った時にどう場合分けを行うか"
   ]
  },
  {
   "cell_type": "code",
   "execution_count": 83,
   "metadata": {},
   "outputs": [
    {
     "name": "stdout",
     "output_type": "stream",
     "text": [
      "42685\n"
     ]
    }
   ],
   "source": [
    "N = int(input())\n",
    "D = list(map(int,input().split()))\n",
    "D_sort = D.sort()\n",
    "print(D[N//2]-D[N//2-1])\n",
    "\n",
    "\n",
    "    \n"
   ]
  },
  {
   "cell_type": "markdown",
   "metadata": {},
   "source": [
    "ABC115 C　×　問題文を理解するのが難しい\n",
    "K本の選び方はどう表現するのか\n",
    "\n",
    "選んだkのうち最小の木を考える\n",
    "それよりも高い木の中で低いほうからk-1本えらべばよい\n",
    "ソートしてi番目とi-k-1番目の木の差を一つずつしらべていく\n",
    "\n",
    "sortした後にi番目を選ぶとi番目からk-1番目の木が一番大きいのでi番目をn-k+1回のグループごとの回数でループさせる"
   ]
  },
  {
   "cell_type": "code",
   "execution_count": 2,
   "metadata": {},
   "outputs": [
    {
     "ename": "ValueError",
     "evalue": "not enough values to unpack (expected 2, got 0)",
     "output_type": "error",
     "traceback": [
      "\u001b[1;31m---------------------------------------------------------------------------\u001b[0m",
      "\u001b[1;31mValueError\u001b[0m                                Traceback (most recent call last)",
      "\u001b[1;32m<ipython-input-2-2d6978788aaf>\u001b[0m in \u001b[0;36m<module>\u001b[1;34m\u001b[0m\n\u001b[1;32m----> 1\u001b[1;33m \u001b[0mN\u001b[0m\u001b[1;33m,\u001b[0m\u001b[0mK\u001b[0m \u001b[1;33m=\u001b[0m \u001b[0mmap\u001b[0m\u001b[1;33m(\u001b[0m\u001b[0mint\u001b[0m\u001b[1;33m,\u001b[0m\u001b[0minput\u001b[0m\u001b[1;33m(\u001b[0m\u001b[1;33m)\u001b[0m\u001b[1;33m.\u001b[0m\u001b[0msplit\u001b[0m\u001b[1;33m(\u001b[0m\u001b[1;33m)\u001b[0m\u001b[1;33m)\u001b[0m\u001b[1;33m\u001b[0m\u001b[1;33m\u001b[0m\u001b[0m\n\u001b[0m\u001b[0;32m      2\u001b[0m \u001b[0mH\u001b[0m \u001b[1;33m=\u001b[0m \u001b[1;33m[\u001b[0m\u001b[0mint\u001b[0m\u001b[1;33m(\u001b[0m\u001b[0minput\u001b[0m\u001b[1;33m(\u001b[0m\u001b[1;33m)\u001b[0m\u001b[1;33m)\u001b[0m \u001b[1;32mfor\u001b[0m \u001b[0m_\u001b[0m \u001b[1;32min\u001b[0m \u001b[0mrange\u001b[0m\u001b[1;33m(\u001b[0m\u001b[0mN\u001b[0m\u001b[1;33m)\u001b[0m\u001b[1;33m]\u001b[0m\u001b[1;33m\u001b[0m\u001b[1;33m\u001b[0m\u001b[0m\n\u001b[0;32m      3\u001b[0m \u001b[0mans\u001b[0m \u001b[1;33m=\u001b[0m \u001b[1;36m10\u001b[0m\u001b[1;33m**\u001b[0m\u001b[1;36m6\u001b[0m\u001b[1;33m\u001b[0m\u001b[1;33m\u001b[0m\u001b[0m\n\u001b[0;32m      4\u001b[0m \u001b[0mH\u001b[0m\u001b[1;33m.\u001b[0m\u001b[0msort\u001b[0m\u001b[1;33m(\u001b[0m\u001b[1;33m)\u001b[0m\u001b[1;33m\u001b[0m\u001b[1;33m\u001b[0m\u001b[0m\n\u001b[0;32m      5\u001b[0m \u001b[1;32mfor\u001b[0m \u001b[0mi\u001b[0m \u001b[1;32min\u001b[0m \u001b[0mrange\u001b[0m\u001b[1;33m(\u001b[0m\u001b[0mN\u001b[0m\u001b[1;33m-\u001b[0m\u001b[0mK\u001b[0m\u001b[1;33m+\u001b[0m\u001b[1;36m1\u001b[0m\u001b[1;33m)\u001b[0m\u001b[1;33m:\u001b[0m\u001b[1;33m\u001b[0m\u001b[1;33m\u001b[0m\u001b[0m\n",
      "\u001b[1;31mValueError\u001b[0m: not enough values to unpack (expected 2, got 0)"
     ]
    }
   ],
   "source": [
    "N,K = map(int,input().split())\n",
    "H = [int(input()) for _ in range(N)]\n",
    "ans = float(\"inf\")\n",
    "H.sort()\n",
    "for i in range(N-K+1):\n",
    "    ans = min(ans,H[i+K-1]-H[i])\n",
    "print(ans)"
   ]
  },
  {
   "cell_type": "markdown",
   "metadata": {},
   "source": [
    "ABC121 C ×\\\n",
    "一番安いドリンクを多く買いたい→値段が最小を考える\n",
    "ドリンクの個数でループを回して、本数が全てかえるならそれの合計を足して、本数が買えないなら残りの本数を値段をかけて合計を出す"
   ]
  },
  {
   "cell_type": "code",
   "execution_count": 5,
   "metadata": {},
   "outputs": [
    {
     "name": "stdout",
     "output_type": "stream",
     "text": [
      "44\n"
     ]
    }
   ],
   "source": [
    "N,M = map(int,input().split())\n",
    "drink_list = []\n",
    "for i in range(N):\n",
    "    A,B = map(int,input().split())\n",
    "    drink_list.append([A,B])\n",
    "drink_list.sort()\n",
    "result = 0\n",
    "for i in range(M):\n",
    "    if M > drink_list[i][1]:\n",
    "        M -= drink_list[i][1]\n",
    "        result += drink_list[i][0] * drink_list[i][1]\n",
    "    else:\n",
    "        result += M * A[i][0]\n",
    "        break\n",
    "print(result)\n",
    "    "
   ]
  },
  {
   "cell_type": "code",
   "execution_count": 6,
   "metadata": {},
   "outputs": [
    {
     "data": {
      "text/plain": [
       "[[2, 4], [4, 9]]"
      ]
     },
     "execution_count": 6,
     "metadata": {},
     "output_type": "execute_result"
    }
   ],
   "source": [
    "drink_list"
   ]
  },
  {
   "cell_type": "markdown",
   "metadata": {},
   "source": [
    "AB113 C×\\\n",
    "市ごとにソートする→問題点として順番は保持しておかなければならない\n",
    "市の番号ごとのリストをつくり、それぞれに格納していく\n",
    "listが空の場合はcontinueでスキップ処理"
   ]
  },
  {
   "cell_type": "code",
   "execution_count": 12,
   "metadata": {},
   "outputs": [
    {
     "name": "stdout",
     "output_type": "stream",
     "text": [
      "[[1, 12], [1, 32], [2, 63]]\n"
     ]
    }
   ],
   "source": [
    "n,m = map(int,input().split())\n",
    "#p,y = [map(int,input().split()) for i in range(m)] エラー\n",
    "py = [[] for _ in range(n+1)]\n",
    "for i in range(m):\n",
    "    p,y = map(int,input().split())\n",
    "    py[p].append((y,i))\n",
    "buf = [None] * m\n",
    "for p,l in enumerate(py):\n",
    "    if not l:\n",
    "        continue\n",
    "    l.sort()\n",
    "    for j, \n",
    "print(py)"
   ]
  },
  {
   "cell_type": "code",
   "execution_count": null,
   "metadata": {},
   "outputs": [],
   "source": []
  },
  {
   "cell_type": "code",
   "execution_count": 40,
   "metadata": {},
   "outputs": [
    {
     "name": "stdout",
     "output_type": "stream",
     "text": [
      "000001000001\n",
      "000001000002\n",
      "000002000001\n"
     ]
    }
   ],
   "source": [
    "n, m = map(int, input().split())\n",
    "cnt = [[] for _ in range(n + 1)]\n",
    "for i in range(m):\n",
    "    p, y = map(int, input().split())\n",
    "    cnt[p].append((y, i))\n",
    "#市ごとのグループでlistに格納\n",
    "buf = [None] * m\n",
    "for p, l in enumerate(cnt):\n",
    "    if not l:\n",
    "        continue\n",
    "    #空のリストならsortをスキップ\n",
    "    l.sort()\n",
    "    for j, (y, i) in enumerate(l):\n",
    "        buf[i] = '{:06d}{:06d}'.format(p, j + 1)\n",
    "    #pには市の番号、jにはsortした順番,iは元の順番が入っている\n",
    "    #j,(y,i)は市のグループごとにソートした順番に0から割り振り\n",
    "    #cnt内の1つのタプルを取り出しているので[(12,2),(32,0)]\n",
    "    #実際に考えているのは市のグループで考えている\n",
    "print('\\n'.join(buf))"
   ]
  },
  {
   "cell_type": "markdown",
   "metadata": {},
   "source": [
    "076 Cake Cut　解説を読んでも分からなかった"
   ]
  },
  {
   "cell_type": "markdown",
   "metadata": {},
   "source": []
  },
  {
   "cell_type": "markdown",
   "metadata": {},
   "source": [
    "3-5 文字列"
   ]
  },
  {
   "cell_type": "code",
   "execution_count": 1,
   "metadata": {},
   "outputs": [
    {
     "name": "stdout",
     "output_type": "stream",
     "text": [
      "7\n",
      "AtCoderContest\n",
      "Cod\n",
      "tCoder\n",
      "AtCod\n"
     ]
    }
   ],
   "source": [
    "S = \"AtCoder\" \n",
    "print(len(S))\n",
    "T = \"Contest\"\n",
    "print(S+T)\n",
    "print(S[2:5])\n",
    "print(S[1:])\n",
    "print(S[:-2])"
   ]
  },
  {
   "cell_type": "code",
   "execution_count": 6,
   "metadata": {},
   "outputs": [
    {
     "name": "stdout",
     "output_type": "stream",
     "text": [
      "AC\n"
     ]
    }
   ],
   "source": [
    "s = input()\n",
    "flag = True\n",
    "if s[0] !=\"A\":\n",
    "    flag = False\n",
    "if s[2:-1].count(\"C\") != 1:\n",
    "    flag = False\n",
    "if sum(map(str.isupper,s)) != 2:\n",
    "    flag=False\n",
    "print(\"AC\" if flag==True else \"WA\")\n",
    "    "
   ]
  },
  {
   "cell_type": "markdown",
   "metadata": {},
   "source": [
    "ABC 215A"
   ]
  },
  {
   "cell_type": "code",
   "execution_count": 2,
   "metadata": {},
   "outputs": [
    {
     "name": "stdout",
     "output_type": "stream",
     "text": [
      "AC\n"
     ]
    }
   ],
   "source": [
    "S = input()\n",
    "if S ==\"Hello,World!\":\n",
    "    print(\"AC\")\n",
    "else:\n",
    "    print(\"WA\")"
   ]
  },
  {
   "cell_type": "markdown",
   "metadata": {},
   "source": [
    "\n",
    "ABC 084B　×　ハイフンが1つしか入っていないと考える"
   ]
  },
  {
   "cell_type": "code",
   "execution_count": 16,
   "metadata": {},
   "outputs": [
    {
     "name": "stdout",
     "output_type": "stream",
     "text": [
      "Yes\n"
     ]
    }
   ],
   "source": [
    "\n",
    "A,B = map(int,input().split())\n",
    "S = input()\n",
    "flag = True\n",
    "if S[A] != \"-\":\n",
    "    flag = False\n",
    "if S[0:A].isdecimal() ==False:\n",
    "    flag = False\n",
    "if S[A+1:A+B+1].isdecimal() == False:\n",
    "    flag = False\n",
    "print(\"Yes\"if flag ==True else \"No\")\n",
    "    "
   ]
  },
  {
   "cell_type": "code",
   "execution_count": 18,
   "metadata": {},
   "outputs": [
    {
     "data": {
      "text/plain": [
       "'2'"
      ]
     },
     "execution_count": 18,
     "metadata": {},
     "output_type": "execute_result"
    }
   ],
   "source": [
    "s = \"269-6650\"\n",
    "s[0:3].isdecimal()\n",
    "s[4:8].isdecimal()\n",
    "s[3]\n",
    "s[-0]"
   ]
  },
  {
   "cell_type": "code",
   "execution_count": null,
   "metadata": {},
   "outputs": [],
   "source": [
    "A,B = map(int,input().split())\n",
    "S = input()\n",
    "if S[A] != \"-\":\n",
    "    print(\"No\")\n",
    "    exit()\n",
    "if S.count(\"-\")!=1:\n",
    "    print(\"No\")\n",
    "    exit()\n",
    "print(\"Yes\")"
   ]
  },
  {
   "cell_type": "markdown",
   "metadata": {},
   "source": [
    "ABC 146B　知識不足で出来なかった　× ord(\"A) = 65 chr(65) = A　文字には特有の整数の番号が振られている"
   ]
  },
  {
   "cell_type": "code",
   "execution_count": 17,
   "metadata": {},
   "outputs": [],
   "source": [
    "def rot_n(s,n):\n",
    "    answer = \"\" \n",
    "    for letter in s:\n",
    "        answer =+chr(ord(\"A\") + (ord(letter)-ord(\"A\")+n)% 26)\n",
    "        \n",
    "    return answer\n"
   ]
  },
  {
   "cell_type": "code",
   "execution_count": null,
   "metadata": {},
   "outputs": [],
   "source": [
    "A,B = map(int,input().split())\n",
    "S = input()\n",
    "ans = []\n",
    "for i in S:\n",
    "    if ord(i)+N <90:\n",
    "        ans.appen(chr(ord(i)+N))\n",
    "    else:\n",
    "        ans.append(chr(ord(i)+N-26))\n",
    "print(\"\".join(ans))"
   ]
  },
  {
   "cell_type": "markdown",
   "metadata": {},
   "source": [
    "ABC147B △　場合分けはしなくてもよい　回数だけを数えることで解決"
   ]
  },
  {
   "cell_type": "code",
   "execution_count": 41,
   "metadata": {},
   "outputs": [
    {
     "name": "stdout",
     "output_type": "stream",
     "text": [
      "accd\n"
     ]
    }
   ],
   "source": [
    "S =input()\n",
    "length = len(S)\n",
    "for i in range(length//2):\n",
    "    if S[i] != S[-1-i]:\n",
    "        #S[-1-i] = S[i]\n",
    "         T = S.replace(S[i],S[-i-1])\n",
    "print(T)\n",
    "#文字列は不変なので書き換えることが出来ない\n",
    "#replaceは全て新しい文字列を戻り値としてかえす\n",
    "#もとの文字列の内容が書き換えられるわけではない"
   ]
  },
  {
   "cell_type": "code",
   "execution_count": 40,
   "metadata": {},
   "outputs": [
    {
     "name": "stdout",
     "output_type": "stream",
     "text": [
      "redooder\n"
     ]
    }
   ],
   "source": [
    "S =input()\n",
    "length = len(S)\n",
    "count = 0\n",
    "for i in range(length//2):\n",
    "    if S[i] != S[-i-1]:\n",
    "        count += 1\n",
    "print(count)"
   ]
  },
  {
   "cell_type": "markdown",
   "metadata": {},
   "source": [
    "ABC218B　○"
   ]
  },
  {
   "cell_type": "code",
   "execution_count": 51,
   "metadata": {},
   "outputs": [
    {
     "name": "stdout",
     "output_type": "stream",
     "text": [
      "abcdefghijklmnopqrstuvwxyz\n"
     ]
    }
   ],
   "source": [
    "P =list(map(int,input().split()))\n",
    "ans = []\n",
    "for i in P:\n",
    "    ans.append(chr(i+96))\n",
    "print(\"\".join(ans))\n",
    "    "
   ]
  },
  {
   "cell_type": "code",
   "execution_count": 43,
   "metadata": {},
   "outputs": [
    {
     "data": {
      "text/plain": [
       "26"
      ]
     },
     "execution_count": 43,
     "metadata": {},
     "output_type": "execute_result"
    }
   ],
   "source": []
  },
  {
   "cell_type": "markdown",
   "metadata": {},
   "source": [
    "ABC 058B ×"
   ]
  },
  {
   "cell_type": "code",
   "execution_count": 53,
   "metadata": {},
   "outputs": [
    {
     "name": "stdout",
     "output_type": "stream",
     "text": [
      "aattccooddeerrbreeggiunlnaerrccoonntteesstt\n"
     ]
    }
   ],
   "source": [
    "O = input()\n",
    "E = input()\n",
    "ans = []\n",
    "for i in range(len(O)+len(E)):\n",
    "    if i%2 == 0:\n",
    "        ans.append(O[i//2])\n",
    "    else:\n",
    "        ans.append(E[i//2])\n",
    "print(\"\".join(ans))"
   ]
  },
  {
   "cell_type": "markdown",
   "metadata": {},
   "source": [
    "ABC 066B　△　方針はあっている　自信をもって！！"
   ]
  },
  {
   "cell_type": "code",
   "execution_count": 1,
   "metadata": {},
   "outputs": [],
   "source": [
    "S = input()\n",
    "for i in range(0,len(S),2):\n",
    "    if i==0:\n",
    "        continue\n",
    "    S = S[:-2]\n",
    "    h = len(S)//2\n",
    "    if S[:h] ==S[h:]:\n",
    "        print(h*2)\n",
    "        exit()\n",
    "    "
   ]
  },
  {
   "cell_type": "markdown",
   "metadata": {},
   "source": [
    "ABC 221B　○ \n",
    "文字列は変えることができない→答えのリストを作り比較することでできるのでは？？？\\\n",
    "文字列はリストに格納することで配列として上書きが可能になる"
   ]
  },
  {
   "cell_type": "code",
   "execution_count": 11,
   "metadata": {},
   "outputs": [
    {
     "name": "stdout",
     "output_type": "stream",
     "text": [
      "No\n"
     ]
    }
   ],
   "source": [
    "S =input()\n",
    "T = input()\n",
    "ans = []\n",
    "count =0\n",
    "for i in range(len(S)):\n",
    "    if S[i] != T[i]:\n",
    "        if i==len(S)-1:\n",
    "            ans.append(S[i-1])\n",
    "        else:\n",
    "            ans.append(S[i+1])\n",
    "        count +=1\n",
    "    else:\n",
    "        ans.append((S[i]))\n",
    "if count<= 1 and (\"\".join(ans)) == T:\n",
    "    print(\"Yes\")\n",
    "else:\n",
    "    print(\"No\")\n",
    "        \n",
    "        "
   ]
  },
  {
   "cell_type": "code",
   "execution_count": 15,
   "metadata": {},
   "outputs": [
    {
     "name": "stdout",
     "output_type": "stream",
     "text": [
      "Yes\n"
     ]
    }
   ],
   "source": [
    "S =list(input())\n",
    "T = list(input())\n",
    "\n",
    "result = False\n",
    "if S==T:\n",
    "    print(\"Yes\")\n",
    "    exit()\n",
    "for i in range(len(S)-1):\n",
    "    S[i],S[i+1] = S[i+1],S[i]\n",
    "    if S ==T:\n",
    "        result = True\n",
    "        break\n",
    "    #元に戻す処理をしている　入れ替えて比較した後基に戻す\n",
    "    S[i],S[i+1] = S[i+1],S[i]\n",
    "print(\"Yes\" if result else \"No\")"
   ]
  },
  {
   "cell_type": "code",
   "execution_count": 23,
   "metadata": {},
   "outputs": [
    {
     "ename": "TypeError",
     "evalue": "can only concatenate str (not \"list\") to str",
     "output_type": "error",
     "traceback": [
      "\u001b[1;31m---------------------------------------------------------------------------\u001b[0m",
      "\u001b[1;31mTypeError\u001b[0m                                 Traceback (most recent call last)",
      "\u001b[1;32m<ipython-input-23-95d6f35dd11d>\u001b[0m in \u001b[0;36m<module>\u001b[1;34m\u001b[0m\n\u001b[0;32m      1\u001b[0m \u001b[0ms\u001b[0m \u001b[1;33m=\u001b[0m\u001b[0mlist\u001b[0m\u001b[1;33m(\u001b[0m\u001b[1;34m\"abc\"\u001b[0m\u001b[1;33m)\u001b[0m\u001b[1;33m\u001b[0m\u001b[1;33m\u001b[0m\u001b[0m\n\u001b[1;32m----> 2\u001b[1;33m \u001b[0ms\u001b[0m\u001b[1;33m[\u001b[0m\u001b[1;36m2\u001b[0m\u001b[1;33m]\u001b[0m \u001b[1;33m+\u001b[0m \u001b[1;34m\"\"\u001b[0m \u001b[1;33m+\u001b[0m \u001b[0ms\u001b[0m\u001b[1;33m[\u001b[0m\u001b[1;36m0\u001b[0m\u001b[1;33m:\u001b[0m\u001b[1;36m1\u001b[0m\u001b[1;33m]\u001b[0m\u001b[1;33m\u001b[0m\u001b[1;33m\u001b[0m\u001b[0m\n\u001b[0m",
      "\u001b[1;31mTypeError\u001b[0m: can only concatenate str (not \"list\") to str"
     ]
    }
   ],
   "source": [
    "s =list(\"abc\")\n",
    "s[2] + \"\" + s[0:1]\n"
   ]
  },
  {
   "cell_type": "code",
   "execution_count": 26,
   "metadata": {},
   "outputs": [
    {
     "data": {
      "text/plain": [
       "['a']"
      ]
     },
     "execution_count": 26,
     "metadata": {},
     "output_type": "execute_result"
    }
   ],
   "source": [
    "s[0:1]"
   ]
  },
  {
   "cell_type": "code",
   "execution_count": 40,
   "metadata": {},
   "outputs": [],
   "source": [
    "s =\"abc\"\n",
    "for i in range(len(s)):\n",
    "    s = s[-1]+s[:-1]"
   ]
  },
  {
   "cell_type": "markdown",
   "metadata": {},
   "source": [
    "ABC103B×　文字列はそれぞれの要素ごとを上書きすることは出来ないが　全体を上書きすることは可能"
   ]
  },
  {
   "cell_type": "code",
   "execution_count": 16,
   "metadata": {},
   "outputs": [
    {
     "ename": "TypeError",
     "evalue": "can only concatenate str (not \"list\") to str",
     "output_type": "error",
     "traceback": [
      "\u001b[1;31m---------------------------------------------------------------------------\u001b[0m",
      "\u001b[1;31mTypeError\u001b[0m                                 Traceback (most recent call last)",
      "\u001b[1;32m<ipython-input-16-b5fd861ebe66>\u001b[0m in \u001b[0;36m<module>\u001b[1;34m\u001b[0m\n\u001b[0;32m      4\u001b[0m \u001b[0mflag\u001b[0m \u001b[1;33m=\u001b[0m \u001b[1;32mFalse\u001b[0m\u001b[1;33m\u001b[0m\u001b[1;33m\u001b[0m\u001b[0m\n\u001b[0;32m      5\u001b[0m \u001b[1;32mfor\u001b[0m \u001b[0mi\u001b[0m \u001b[1;32min\u001b[0m \u001b[0mrange\u001b[0m\u001b[1;33m(\u001b[0m\u001b[0mN\u001b[0m\u001b[1;33m-\u001b[0m\u001b[1;36m1\u001b[0m\u001b[1;33m)\u001b[0m\u001b[1;33m:\u001b[0m\u001b[1;33m\u001b[0m\u001b[1;33m\u001b[0m\u001b[0m\n\u001b[1;32m----> 6\u001b[1;33m     \u001b[0mS\u001b[0m \u001b[1;33m=\u001b[0m \u001b[0mS\u001b[0m\u001b[1;33m[\u001b[0m\u001b[0mN\u001b[0m\u001b[1;33m-\u001b[0m\u001b[1;36m1\u001b[0m\u001b[1;33m]\u001b[0m\u001b[1;33m+\u001b[0m\u001b[0mS\u001b[0m\u001b[1;33m[\u001b[0m\u001b[1;36m0\u001b[0m\u001b[1;33m:\u001b[0m\u001b[0mN\u001b[0m\u001b[1;33m-\u001b[0m\u001b[1;36m1\u001b[0m\u001b[1;33m]\u001b[0m\u001b[1;33m\u001b[0m\u001b[1;33m\u001b[0m\u001b[0m\n\u001b[0m\u001b[0;32m      7\u001b[0m     \u001b[1;32mif\u001b[0m \u001b[0mS\u001b[0m \u001b[1;33m==\u001b[0m\u001b[0mT\u001b[0m\u001b[1;33m:\u001b[0m\u001b[1;33m\u001b[0m\u001b[1;33m\u001b[0m\u001b[0m\n\u001b[0;32m      8\u001b[0m         \u001b[0mflag\u001b[0m \u001b[1;33m=\u001b[0m \u001b[1;32mTrue\u001b[0m\u001b[1;33m\u001b[0m\u001b[1;33m\u001b[0m\u001b[0m\n",
      "\u001b[1;31mTypeError\u001b[0m: can only concatenate str (not \"list\") to str"
     ]
    }
   ],
   "source": [
    "S = list(input())\n",
    "T = list(input())\n",
    "N = len(S)\n",
    "flag = False\n",
    "for i in range(N-1):\n",
    "    S = S[N-1]+S[0:N-1]\n",
    "    if S ==T:\n",
    "        flag = True\n",
    "        break\n",
    "print(\"Yes\" if flag else \"No\")"
   ]
  },
  {
   "cell_type": "code",
   "execution_count": 41,
   "metadata": {},
   "outputs": [
    {
     "name": "stdout",
     "output_type": "stream",
     "text": [
      "No\n"
     ]
    }
   ],
   "source": [
    "S = input()\n",
    "T =input()\n",
    "for i in range(len(S)):\n",
    "    S = S[-1]+S[:-1]\n",
    "    if S==T:\n",
    "        print(\"Yes\")\n",
    "        exit()\n",
    "print(\"No\")"
   ]
  },
  {
   "cell_type": "markdown",
   "metadata": {},
   "source": [
    "ABC 152B　○"
   ]
  },
  {
   "cell_type": "code",
   "execution_count": 46,
   "metadata": {},
   "outputs": [
    {
     "name": "stdout",
     "output_type": "stream",
     "text": [
      "3333\n"
     ]
    }
   ],
   "source": [
    "a,b = map(int,input().split())\n",
    "a_str = str(a)*b\n",
    "b_str = str(b)*a\n",
    "if int(a_str)>=int(b_str):\n",
    "    print(a_str)\n",
    "else:\n",
    "    print(b_str)"
   ]
  },
  {
   "cell_type": "code",
   "execution_count": 45,
   "metadata": {},
   "outputs": [
    {
     "data": {
      "text/plain": [
       "'aaa'"
      ]
     },
     "execution_count": 45,
     "metadata": {},
     "output_type": "execute_result"
    }
   ],
   "source": [
    "\"a\"*3"
   ]
  },
  {
   "cell_type": "markdown",
   "metadata": {},
   "source": [
    "ABC 082B　○"
   ]
  },
  {
   "cell_type": "code",
   "execution_count": 72,
   "metadata": {},
   "outputs": [
    {
     "name": "stdout",
     "output_type": "stream",
     "text": [
      "No\n"
     ]
    }
   ],
   "source": [
    "s = input()\n",
    "t = input()\n",
    "s_ = sorted(s)\n",
    "t_ = sorted(t,reverse=True)\n",
    "s = \"\".join(s_)\n",
    "t = \"\".join(t_)\n",
    "if s<t:\n",
    "    print(\"Yes\")\n",
    "else:\n",
    "    print(\"No\")"
   ]
  },
  {
   "cell_type": "code",
   "execution_count": null,
   "metadata": {},
   "outputs": [],
   "source": [
    "s = input()\n",
    "t = input()\n",
    "s = sorted(s)\n",
    "t = sorted(t,reverse=True)\n",
    "print(\"Yes\"if s< t else \"No\")"
   ]
  },
  {
   "cell_type": "markdown",
   "metadata": {},
   "source": [
    "past!-2倍 ○"
   ]
  },
  {
   "cell_type": "code",
   "execution_count": 77,
   "metadata": {},
   "outputs": [
    {
     "name": "stdout",
     "output_type": "stream",
     "text": [
      "error\n"
     ]
    }
   ],
   "source": [
    "s= input()\n",
    "print(int(s)*2 if s.isdecimal() else \"error\")"
   ]
  },
  {
   "cell_type": "markdown",
   "metadata": {},
   "source": [
    "3-6 二重for文"
   ]
  },
  {
   "cell_type": "code",
   "execution_count": 80,
   "metadata": {},
   "outputs": [
    {
     "name": "stdout",
     "output_type": "stream",
     "text": [
      "1 2 3 4 5 6 7 8 9 \n",
      "2 4 6 8 10 12 14 16 18 \n",
      "3 6 9 12 15 18 21 24 27 \n",
      "4 8 12 16 20 24 28 32 36 \n",
      "5 10 15 20 25 30 35 40 45 \n",
      "6 12 18 24 30 36 42 48 54 \n",
      "7 14 21 28 35 42 49 56 63 \n",
      "8 16 24 32 40 48 56 64 72 \n",
      "9 18 27 36 45 54 63 72 81 \n"
     ]
    }
   ],
   "source": [
    "for i in range(1,10):\n",
    "    for j in range(1,10):\n",
    "        print( i*j,end=(\" \"))\n",
    "    print()"
   ]
  },
  {
   "cell_type": "code",
   "execution_count": 83,
   "metadata": {},
   "outputs": [
    {
     "name": "stdout",
     "output_type": "stream",
     "text": [
      "2\n"
     ]
    }
   ],
   "source": [
    "A =int(input())\n",
    "B = int(input())\n",
    "C = int(input())\n",
    "X = int(input())\n",
    "count = 0\n",
    "for i in range(A+1):\n",
    "    for j in range(B+1):\n",
    "        for k in range(C+1):\n",
    "            if X == (500*i+100*j+50*k):\n",
    "                count +=1\n",
    "print(count)"
   ]
  },
  {
   "cell_type": "code",
   "execution_count": null,
   "metadata": {},
   "outputs": [],
   "source": [
    "DX = [1,0,-1,0,1,-1,-1,1]\n",
    "DY = [0,1,0,-1,1,1,-1,-1]\n",
    "\n",
    "H,W = map(int,input().split())\n",
    "S = [input() for i in range(H)]\n",
    "#Sのなかの6つの文字列を受け取って、それぞれにたいして二次元配列を作っている\n",
    "result = [[0 if v==\".\" else \"#\" for v in row]for row in S]\n",
    "for i in range(H):\n",
    "    for j in range(W):\n",
    "        \n",
    "        if S[i]S[j] != \".\":\n",
    "            continue\n",
    "        for dx,dy in zip(DX,DY):\n",
    "            #8方位のx,y座標\n",
    "            #zipでそれぞれのリストから要素を同時に取り出している\n",
    "            ni,nj = i+dx,j+dy:\n",
    "            #一番端にいる場合を考慮しなければならない\n",
    "            if ni <0 or ni >= H or nj <0 or nj >= W:\n",
    "                continue\n",
    "            \n",
    "            if s[ni][nj] == \"#\":\n",
    "                result[i][j] += 1\n",
    "                \n",
    "for row in result:\n",
    "    print(*row,sep=\"\")"
   ]
  },
  {
   "cell_type": "code",
   "execution_count": 6,
   "metadata": {},
   "outputs": [],
   "source": [
    "S =[input() for i in range(3)]\n",
    "result = [[0 if v==\".\" else \"#\" for v in row]for row in S]\n"
   ]
  },
  {
   "cell_type": "code",
   "execution_count": 7,
   "metadata": {},
   "outputs": [
    {
     "data": {
      "text/plain": [
       "[[0, 0, 0, 0, 0, 0], [0, 0, '#', 0, '#', 0], [0, 0, 0, 0, 0, 0]]"
      ]
     },
     "execution_count": 7,
     "metadata": {},
     "output_type": "execute_result"
    }
   ],
   "source": [
    "result"
   ]
  },
  {
   "cell_type": "code",
   "execution_count": null,
   "metadata": {},
   "outputs": [],
   "source": []
  },
  {
   "cell_type": "code",
   "execution_count": null,
   "metadata": {},
   "outputs": [
    {
     "name": "stdout",
     "output_type": "stream",
     "text": [
      "a b c\n",
      "abc\n"
     ]
    }
   ],
   "source": [
    "row =\"abc\"\n",
    "print(*row)\n",
    "print(*row,sep=\"\")"
   ]
  },
  {
   "cell_type": "markdown",
   "metadata": {},
   "source": [
    "ABC 144B　○"
   ]
  },
  {
   "cell_type": "code",
   "execution_count": 2,
   "metadata": {},
   "outputs": [
    {
     "name": "stdout",
     "output_type": "stream",
     "text": [
      "Yes\n"
     ]
    }
   ],
   "source": [
    "N = int(input())\n",
    "flag = False\n",
    "for i in range(1,10):\n",
    "    for j in range(1,10):\n",
    "        if N== i*j:\n",
    "            flag = True\n",
    "            break\n",
    "    if flag:\n",
    "        break\n",
    "print(\"Yes\"if flag else \"No\")"
   ]
  },
  {
   "cell_type": "markdown",
   "metadata": {},
   "source": [
    "ABC 105B　○"
   ]
  },
  {
   "cell_type": "code",
   "execution_count": 1,
   "metadata": {},
   "outputs": [
    {
     "name": "stdout",
     "output_type": "stream",
     "text": [
      "Yes\n"
     ]
    }
   ],
   "source": [
    "N = int(input())\n",
    "flag = False\n",
    "for i in range(26):\n",
    "    for j in range(17):\n",
    "        if N ==(4*i + 7*j):\n",
    "            flag = True\n",
    "            break\n",
    "    if flag:\n",
    "        break\n",
    "print(\"Yes\" if flag else \"No\")"
   ]
  },
  {
   "cell_type": "markdown",
   "metadata": {},
   "source": [
    "ABC 133B　△"
   ]
  },
  {
   "cell_type": "code",
   "execution_count": 2,
   "metadata": {},
   "outputs": [],
   "source": [
    "N,D = map(int,input().split())\n",
    "for i in range(N):\n",
    "    X = list(map(int,input().split()))\n",
    "#これではリストに上書きされていくだけ"
   ]
  },
  {
   "cell_type": "code",
   "execution_count": 4,
   "metadata": {},
   "outputs": [
    {
     "name": "stdout",
     "output_type": "stream",
     "text": [
      "1\n"
     ]
    }
   ],
   "source": [
    "import math\n",
    "N,D = map(int,input().split())\n",
    "#リスト内包表記を使う\n",
    "count = 0\n",
    "a = [list(map(int,input().split())) for i in range(N)]\n",
    "for i in range(N):\n",
    "    for j in range(i):\n",
    "        #d = sum[(a[i][d]-a[j][d]**2 for d in range(D))]** 0.5\n",
    "        #リスト内包表記でリストに格納して合計を求めると上書きが可能になる\n",
    "        dis = 0\n",
    "        for l in range(D):\n",
    "            dis += (a[i][l]-a[j][l])**2\n",
    "        dis_int = math.sqrt(dis)\n",
    "        if dis_int.is_integer():\n",
    "            count +=1\n",
    "print(count)\n",
    "        "
   ]
  },
  {
   "cell_type": "markdown",
   "metadata": {},
   "source": [
    "\n",
    "ABC 175B　○　最初にソートして、ソートした後に順番に3つ選ぶ。ソートしているので大小比較は一番小さい長さがｋ番目になる"
   ]
  },
  {
   "cell_type": "code",
   "execution_count": 6,
   "metadata": {},
   "outputs": [
    {
     "name": "stdout",
     "output_type": "stream",
     "text": [
      "8\n"
     ]
    }
   ],
   "source": [
    "N = int(input())\n",
    "L = list(map(int,input().split()))\n",
    "count=0\n",
    "for k in range(N):\n",
    "    for j in range(k):\n",
    "        for i in range(j):\n",
    "            if L[k]!= L[j]and L[k]!= L[i] and L[j]!=L[i] and L[k]+L[j] > L[i] and L[j] + L[i] > L[k]\\\n",
    "            and L[i] + L[k]>L[j]:\n",
    "                count += 1\n",
    "print(count)"
   ]
  },
  {
   "cell_type": "code",
   "execution_count": null,
   "metadata": {},
   "outputs": [],
   "source": [
    "n = int(input())\n",
    "l = list(map(int,input().split()))\n",
    "\n",
    "ans = 0\n",
    "for i in range(n):\n",
    "    for j in range(i+1,n):\n",
    "        for k in range(j+1,n):\n",
    "            if l[i] != l[j] !=[l[k]]:\n",
    "                if l[i] + l[j]:\n",
    "                    ans +=1\n",
    "print(ans)\n",
    "        "
   ]
  },
  {
   "cell_type": "markdown",
   "metadata": {},
   "source": [
    "ABC 214B　○　最大でSなのでループはSでまわす"
   ]
  },
  {
   "cell_type": "code",
   "execution_count": 13,
   "metadata": {},
   "outputs": [
    {
     "name": "stdout",
     "output_type": "stream",
     "text": [
      "10\n"
     ]
    }
   ],
   "source": [
    "S,T = map(int,input().split())\n",
    "count = 0\n",
    "for i in range(101):\n",
    "    for j in range(101):\n",
    "        for l in range(101):\n",
    "            if i + j + l <= S and i*j*l <= T:\n",
    "                count +=1\n",
    "print(count)"
   ]
  },
  {
   "cell_type": "code",
   "execution_count": null,
   "metadata": {},
   "outputs": [],
   "source": [
    "S,T = map(int,input().split())\n",
    "count = 0\n",
    "for i in range(S):\n",
    "    for j in range(S):\n",
    "        for l in range(S):\n",
    "            if i + j + l <= S and i*j*l <= T:\n",
    "                count +=1\n",
    "print(count)"
   ]
  },
  {
   "cell_type": "markdown",
   "metadata": {},
   "source": [
    "ABC 177B　×　sのiからi+t番目を取り出す\n",
    "取り出した0番目から答えとなる0番目の文字との比較を繰り返す\n",
    "i番目を0番目つまり部分文字列の先頭として扱うことで解決している"
   ]
  },
  {
   "cell_type": "code",
   "execution_count": null,
   "metadata": {},
   "outputs": [],
   "source": [
    "s = input()\n",
    "t = input()\n",
    "for i in range(len(s-t+1)):\n",
    "    for j in len()"
   ]
  },
  {
   "cell_type": "code",
   "execution_count": null,
   "metadata": {},
   "outputs": [],
   "source": [
    "S = input()\n",
    "T = input()\n",
    "ans  10000000\n",
    "for i in range(len(S)-len(T)+1):\n",
    "    score = 0\n",
    "    U = S[i:i+len(T)]\n",
    "    for j in range(len(T)):\n",
    "        if U[j]!= T[j]:\n",
    "            score += 1\n",
    "    ans = min(ans,score)\n",
    "print(ans)"
   ]
  },
  {
   "cell_type": "markdown",
   "metadata": {},
   "source": [
    "ABC 157B　ビンゴの判定をどうするのか　×\n",
    "ビンゴの判定は8通り作ってもいいが工夫をすることで少し減らすことができる\n",
    "A = range(3)に注意しておく"
   ]
  },
  {
   "cell_type": "code",
   "execution_count": null,
   "metadata": {},
   "outputs": [],
   "source": [
    "A = [list(map(int,input().split())) for _ in range(3)]\n",
    "N =int(input())\n",
    "B = [int(input()) for i in range(N)]\n",
    "flag = False\n",
    "for i in range(3):\n",
    "    for j in range(3):\n",
    "        for l in range(N):\n",
    "            if A[i][j] == B[l]:\n",
    "                A[i][j] =0\n",
    "                break\n",
    "#ビンゴの判定\n",
    "if A[0][0]==A[1][1]==A[2][2]==0:\n",
    "    flag = True\n",
    "if A[0][2]==A[1][1]==A[2][0]==0:\n",
    "    flag = True\n",
    "for j in range(3):\n",
    "    count = 0\n",
    "    for i in range(3):\n",
    "        if A[i] == [0,0,0]:\n",
    "            flag = True\n",
    "        count += A[i][j]\n",
    "    if count ==0:\n",
    "        flag = True\n",
    "print(\"Yes\"if flag else \"No\")\n"
   ]
  },
  {
   "cell_type": "code",
   "execution_count": 14,
   "metadata": {},
   "outputs": [
    {
     "name": "stdout",
     "output_type": "stream",
     "text": [
      "[1, 2, 3]\n"
     ]
    }
   ],
   "source": [
    "N =int(input())\n",
    "B = [int(input()) for i in range(N)]\n",
    "print(B)"
   ]
  },
  {
   "cell_type": "code",
   "execution_count": 18,
   "metadata": {},
   "outputs": [
    {
     "data": {
      "text/plain": [
       "[1, 2, 3]"
      ]
     },
     "execution_count": 18,
     "metadata": {},
     "output_type": "execute_result"
    }
   ],
   "source": [
    "A = [list(map(int,input().split())) for _ in range(3)]\n",
    "A[0]"
   ]
  },
  {
   "cell_type": "markdown",
   "metadata": {},
   "source": [
    "ABC 049B　△　入力が連続saaaのような形で空白がはいっていない"
   ]
  },
  {
   "cell_type": "code",
   "execution_count": 34,
   "metadata": {},
   "outputs": [
    {
     "name": "stdout",
     "output_type": "stream",
     "text": [
      "* * * * \n",
      "* * * * \n"
     ]
    }
   ],
   "source": [
    "H,W = map(int,input().split())\n",
    "C = [list(input().split()) for _ in range(H)]\n",
    "\n",
    "for i in range(H):\n",
    "    for l in range(2):\n",
    "        for k in range(W):\n",
    "            print(C[i][k],end=\" \",sep =\"\")\n",
    "        print()\n",
    "        "
   ]
  },
  {
   "cell_type": "code",
   "execution_count": 39,
   "metadata": {},
   "outputs": [
    {
     "name": "stdout",
     "output_type": "stream",
     "text": [
      "*.\n",
      "*.\n",
      "*.\n",
      "*.\n"
     ]
    }
   ],
   "source": [
    "H,W = map(int,input().split())\n",
    "for i in range(H):\n",
    "    s = input()\n",
    "    print(s)\n",
    "    print(s)"
   ]
  },
  {
   "cell_type": "code",
   "execution_count": null,
   "metadata": {},
   "outputs": [],
   "source": [
    "H,W = map(int,input().split())\n",
    "C= [input() for _ in range(H)]\n",
    "for i in range(H):\n",
    "    print((C[i]))\n",
    "    print((C[i]))"
   ]
  },
  {
   "cell_type": "code",
   "execution_count": 43,
   "metadata": {},
   "outputs": [
    {
     "data": {
      "text/plain": [
       "[['1', '2', '3'], ['3', '4', '3', '5'], ['3', '4', '4']]"
      ]
     },
     "execution_count": 43,
     "metadata": {},
     "output_type": "execute_result"
    }
   ],
   "source": [
    "C = [list(input()) for _ in range(3)]\n",
    "C"
   ]
  },
  {
   "cell_type": "code",
   "execution_count": 45,
   "metadata": {},
   "outputs": [],
   "source": [
    "C= [input() for _ in range(3)]"
   ]
  },
  {
   "cell_type": "code",
   "execution_count": 46,
   "metadata": {},
   "outputs": [
    {
     "name": "stdout",
     "output_type": "stream",
     "text": [
      "['123', '334', '222']\n"
     ]
    }
   ],
   "source": [
    "print(C)"
   ]
  },
  {
   "cell_type": "markdown",
   "metadata": {},
   "source": [
    "ABC197B　○"
   ]
  },
  {
   "cell_type": "code",
   "execution_count": 71,
   "metadata": {},
   "outputs": [
    {
     "name": "stdout",
     "output_type": "stream",
     "text": [
      "4\n"
     ]
    }
   ],
   "source": [
    "H,W,X,Y = map(int,input().split())\n",
    "S = [list(input()) for _ in range(H)]\n",
    "count = 0\n",
    "for i in range(Y-1,-1,-1):\n",
    "    if S[X-1][i] == \".\":\n",
    "        count +=1\n",
    "    else:\n",
    "        break\n",
    "for j in range(Y,len(S[X-1])):\n",
    "    if S[X-1][j] == \".\":\n",
    "        count +=1\n",
    "    else:\n",
    "        break\n",
    "for i in range(X-2,-1,-1):\n",
    "    if S[i][Y-1] == \".\":\n",
    "        count += 1\n",
    "    else:\n",
    "        break\n",
    "for j in range(X,H):\n",
    "    if S[j][Y-1] == \".\":\n",
    "        count +=1\n",
    "    else:\n",
    "        break\n",
    "print(count)\n",
    "    "
   ]
  },
  {
   "cell_type": "code",
   "execution_count": 65,
   "metadata": {},
   "outputs": [
    {
     "name": "stdout",
     "output_type": "stream",
     "text": [
      "4\n",
      "3\n",
      "2\n",
      "1\n",
      "0\n"
     ]
    }
   ],
   "source": [
    "for i in range(4,-1,-1):\n",
    "    print(i)"
   ]
  },
  {
   "cell_type": "code",
   "execution_count": 62,
   "metadata": {},
   "outputs": [
    {
     "name": "stdout",
     "output_type": "stream",
     "text": [
      "[]\n"
     ]
    }
   ],
   "source": [
    "print(S[:,0])"
   ]
  },
  {
   "cell_type": "markdown",
   "metadata": {},
   "source": [
    "ABC 107B　×　個人的に無茶むずい"
   ]
  },
  {
   "cell_type": "code",
   "execution_count": null,
   "metadata": {},
   "outputs": [],
   "source": [
    "H,W = map(int,input().split())\n",
    "A = [list(input()) for _ in range(H)]\n"
   ]
  },
  {
   "cell_type": "code",
   "execution_count": 91,
   "metadata": {},
   "outputs": [
    {
     "name": "stdout",
     "output_type": "stream",
     "text": [
      "..#\n",
      "#..\n",
      ".#.\n",
      ".#.\n",
      "#.#\n"
     ]
    }
   ],
   "source": [
    "import numpy as np\n",
    " \n",
    "H, W = map(int, input().split())\n",
    "A = np.array([[1 if a=='#' else 0 for a in input()] for _ in range(H)])\n",
    "flag_H = A.sum(axis=0)!=0\n",
    "flag_W = A.sum(axis=1)!=0\n",
    "#Trueのところ\n",
    "for row in A[:, flag_H][flag_W, :]:\n",
    "    print(''.join(['#' if a==1 else '.' for a in row]))"
   ]
  },
  {
   "cell_type": "code",
   "execution_count": 93,
   "metadata": {},
   "outputs": [
    {
     "data": {
      "text/plain": [
       "array([[0, 0, 0],\n",
       "       [0, 0, 1],\n",
       "       [1, 0, 0],\n",
       "       [0, 1, 0],\n",
       "       [0, 1, 0],\n",
       "       [0, 0, 0],\n",
       "       [1, 0, 1]])"
      ]
     },
     "execution_count": 93,
     "metadata": {},
     "output_type": "execute_result"
    }
   ],
   "source": [
    "A[:, flag_H]"
   ]
  },
  {
   "cell_type": "code",
   "execution_count": null,
   "metadata": {},
   "outputs": [],
   "source": [
    "H,W = map(int(input().split()))\n",
    "l = []\n",
    "for i in range(H):\n",
    "    x = input()\n",
    "    if x!= \".\"*W:\n",
    "        l.append(x)\n",
    "rm = []\n",
    "for i in range(W):\n",
    "    #フラグ\n",
    "    f = True\n",
    "    for j in range(len(l)):\n",
    "        if l[j][i] ==\"#\":\n",
    "            f = False\n",
    "            "
   ]
  },
  {
   "cell_type": "code",
   "execution_count": 102,
   "metadata": {},
   "outputs": [
    {
     "name": "stdout",
     "output_type": "stream",
     "text": [
      "..#\n",
      "#..\n",
      ".#.\n",
      ".#.\n",
      "#.#\n"
     ]
    }
   ],
   "source": [
    "H,W=map(int,input().split())\n",
    "\n",
    "l=[]\n",
    "for i in range(H):\n",
    "  x=input()\n",
    "  # 白いマスのみからなる場合は追加しない\n",
    "  if x!='.'*W:\n",
    "    l.append(x)\n",
    "\n",
    "rm=[]\n",
    "for i in range(W):\n",
    "  # フラグ\n",
    "  f=True\n",
    "  for j in range(len(l)):\n",
    "    if l[j][i]=='#':\n",
    "      f=False\n",
    "\n",
    "  # 取り除く列の添字を保存しておく\n",
    "  if f:\n",
    "    rm.append(i)\n",
    "\n",
    "a=[]\n",
    "for x in l:\n",
    "  for i in rm[::-1]:\n",
    "    x=x[:i]+x[i+1:]\n",
    "  a.append(''.join(x))\n",
    "\n",
    "# 出力\n",
    "for i in range(len(a)):\n",
    "  print(''.join(a[i]))"
   ]
  },
  {
   "cell_type": "code",
   "execution_count": 106,
   "metadata": {},
   "outputs": [
    {
     "data": {
      "text/plain": [
       "'#.#'"
      ]
     },
     "execution_count": 106,
     "metadata": {},
     "output_type": "execute_result"
    }
   ],
   "source": [
    "x[:5]"
   ]
  },
  {
   "cell_type": "code",
   "execution_count": 104,
   "metadata": {},
   "outputs": [
    {
     "data": {
      "text/plain": [
       "['..#', '#..', '.#.', '.#.', '#.#']"
      ]
     },
     "execution_count": 104,
     "metadata": {},
     "output_type": "execute_result"
    }
   ],
   "source": [
    "a"
   ]
  },
  {
   "cell_type": "code",
   "execution_count": 90,
   "metadata": {},
   "outputs": [
    {
     "ename": "SyntaxError",
     "evalue": "invalid syntax (<ipython-input-90-57a80490136e>, line 1)",
     "output_type": "error",
     "traceback": [
      "\u001b[1;36m  File \u001b[1;32m\"<ipython-input-90-57a80490136e>\"\u001b[1;36m, line \u001b[1;32m1\u001b[0m\n\u001b[1;33m    l.[0][1]\u001b[0m\n\u001b[1;37m      ^\u001b[0m\n\u001b[1;31mSyntaxError\u001b[0m\u001b[1;31m:\u001b[0m invalid syntax\n"
     ]
    }
   ],
   "source": []
  },
  {
   "cell_type": "markdown",
   "metadata": {},
   "source": [
    "第4回　PAST C　隣接アカウント　×"
   ]
  },
  {
   "cell_type": "code",
   "execution_count": 107,
   "metadata": {},
   "outputs": [
    {
     "ename": "IndexError",
     "evalue": "list index out of range",
     "output_type": "error",
     "traceback": [
      "\u001b[1;31m---------------------------------------------------------------------------\u001b[0m",
      "\u001b[1;31mIndexError\u001b[0m                                Traceback (most recent call last)",
      "\u001b[1;32m<ipython-input-107-91995273f831>\u001b[0m in \u001b[0;36m<module>\u001b[1;34m\u001b[0m\n\u001b[0;32m      6\u001b[0m         \u001b[1;32mif\u001b[0m \u001b[0mS\u001b[0m\u001b[1;33m[\u001b[0m\u001b[0mi\u001b[0m\u001b[1;33m]\u001b[0m\u001b[1;33m[\u001b[0m\u001b[0mj\u001b[0m\u001b[1;33m-\u001b[0m\u001b[1;36m1\u001b[0m\u001b[1;33m]\u001b[0m \u001b[1;33m==\u001b[0m\u001b[1;34m\"#\"\u001b[0m\u001b[1;33m:\u001b[0m\u001b[1;33m\u001b[0m\u001b[1;33m\u001b[0m\u001b[0m\n\u001b[0;32m      7\u001b[0m             \u001b[0mcount\u001b[0m\u001b[1;33m+=\u001b[0m\u001b[1;36m1\u001b[0m\u001b[1;33m\u001b[0m\u001b[1;33m\u001b[0m\u001b[0m\n\u001b[1;32m----> 8\u001b[1;33m         \u001b[1;32mif\u001b[0m \u001b[0mS\u001b[0m\u001b[1;33m[\u001b[0m\u001b[0mi\u001b[0m\u001b[1;33m]\u001b[0m\u001b[1;33m[\u001b[0m\u001b[0mj\u001b[0m\u001b[1;33m+\u001b[0m\u001b[1;36m1\u001b[0m\u001b[1;33m]\u001b[0m \u001b[1;33m==\u001b[0m \u001b[1;34m\"#\"\u001b[0m\u001b[1;33m:\u001b[0m\u001b[1;33m\u001b[0m\u001b[1;33m\u001b[0m\u001b[0m\n\u001b[0m\u001b[0;32m      9\u001b[0m             \u001b[0mcount\u001b[0m \u001b[1;33m+=\u001b[0m\u001b[1;36m1\u001b[0m\u001b[1;33m\u001b[0m\u001b[1;33m\u001b[0m\u001b[0m\n\u001b[0;32m     10\u001b[0m         \u001b[1;32mif\u001b[0m \u001b[0mS\u001b[0m\u001b[1;33m[\u001b[0m\u001b[0mi\u001b[0m\u001b[1;33m-\u001b[0m\u001b[1;36m1\u001b[0m\u001b[1;33m]\u001b[0m\u001b[1;33m[\u001b[0m\u001b[0mj\u001b[0m\u001b[1;33m]\u001b[0m \u001b[1;33m==\u001b[0m \u001b[1;34m\"#\"\u001b[0m\u001b[1;33m:\u001b[0m\u001b[1;33m\u001b[0m\u001b[1;33m\u001b[0m\u001b[0m\n",
      "\u001b[1;31mIndexError\u001b[0m: list index out of range"
     ]
    }
   ],
   "source": [
    "N,M = map(int,input().split())\n",
    "S = [list(input()) for _ in range(N)]\n",
    "for i in range(N):\n",
    "    for j in range(M):\n",
    "        count = 0\n",
    "        if S[i][j-1] ==\"#\":\n",
    "            count+=1\n",
    "        if S[i][j+1] == \"#\":\n",
    "            count +=1\n",
    "        if S[i-1][j] == \"#\":\n",
    "            count +=1\n",
    "        if S[i+1][j] == \"#\":\n",
    "            count +=1\n",
    "print(count)"
   ]
  },
  {
   "cell_type": "code",
   "execution_count": 125,
   "metadata": {},
   "outputs": [
    {
     "name": "stdout",
     "output_type": "stream",
     "text": [
      "1333\n",
      "2433\n",
      "1211\n"
     ]
    }
   ],
   "source": [
    "N,M = map(int,input().split())\n",
    "S = [list(input()) for _ in range(N)]\n",
    "DX = [-1,-1,-1,0,0,0,1,1,1]\n",
    "DY = [-1,0,1,-1,0,1,-1,0,1]\n",
    "for i in range(N):\n",
    "    ans = \"\"\n",
    "    for j in range(M):\n",
    "        count =0\n",
    "        for dx,dy in zip(DX,DY):\n",
    "            ni,nj = i+dx,j + dy\n",
    "            if ni <0 or ni >=N or nj <0 or nj >=M:\n",
    "                continue\n",
    "            if S[ni][nj] == \"#\":\n",
    "                count +=1\n",
    "        ans+=str(count)\n",
    "    print(ans)"
   ]
  },
  {
   "cell_type": "code",
   "execution_count": 119,
   "metadata": {},
   "outputs": [
    {
     "name": "stdout",
     "output_type": "stream",
     "text": [
      "['123', '345', '111']\n"
     ]
    }
   ],
   "source": [
    "S = [input() for _ in range(3)]\n",
    "print(S)"
   ]
  },
  {
   "cell_type": "code",
   "execution_count": 121,
   "metadata": {},
   "outputs": [
    {
     "ename": "TypeError",
     "evalue": "'str' object does not support item assignment",
     "output_type": "error",
     "traceback": [
      "\u001b[1;31m---------------------------------------------------------------------------\u001b[0m",
      "\u001b[1;31mTypeError\u001b[0m                                 Traceback (most recent call last)",
      "\u001b[1;32m<ipython-input-121-9a27870cdeaa>\u001b[0m in \u001b[0;36m<module>\u001b[1;34m\u001b[0m\n\u001b[1;32m----> 1\u001b[1;33m \u001b[0mS\u001b[0m\u001b[1;33m[\u001b[0m\u001b[1;36m0\u001b[0m\u001b[1;33m]\u001b[0m\u001b[1;33m[\u001b[0m\u001b[1;36m1\u001b[0m\u001b[1;33m]\u001b[0m \u001b[1;33m=\u001b[0m \u001b[1;36m3\u001b[0m\u001b[1;33m\u001b[0m\u001b[1;33m\u001b[0m\u001b[0m\n\u001b[0m",
      "\u001b[1;31mTypeError\u001b[0m: 'str' object does not support item assignment"
     ]
    }
   ],
   "source": [
    "S[0][1] = 3"
   ]
  },
  {
   "cell_type": "markdown",
   "metadata": {},
   "source": [
    "第二回PAST C　　山崩し　○　結構時間がかかった"
   ]
  },
  {
   "cell_type": "code",
   "execution_count": 129,
   "metadata": {},
   "outputs": [
    {
     "ename": "IndexError",
     "evalue": "list index out of range",
     "output_type": "error",
     "traceback": [
      "\u001b[1;31m---------------------------------------------------------------------------\u001b[0m",
      "\u001b[1;31mIndexError\u001b[0m                                Traceback (most recent call last)",
      "\u001b[1;32m<ipython-input-129-74da2e13644e>\u001b[0m in \u001b[0;36m<module>\u001b[1;34m\u001b[0m\n\u001b[0;32m     14\u001b[0m                 \u001b[0mS\u001b[0m\u001b[1;33m[\u001b[0m\u001b[0mi\u001b[0m\u001b[1;33m]\u001b[0m\u001b[1;33m[\u001b[0m\u001b[0mj\u001b[0m\u001b[1;33m]\u001b[0m \u001b[1;33m=\u001b[0m \u001b[1;34m\"X\"\u001b[0m\u001b[1;33m\u001b[0m\u001b[1;33m\u001b[0m\u001b[0m\n\u001b[0;32m     15\u001b[0m                 \u001b[1;32mbreak\u001b[0m\u001b[1;33m\u001b[0m\u001b[1;33m\u001b[0m\u001b[0m\n\u001b[1;32m---> 16\u001b[1;33m         \u001b[0mans\u001b[0m\u001b[1;33m+=\u001b[0m\u001b[0mS\u001b[0m\u001b[1;33m[\u001b[0m\u001b[0mi\u001b[0m\u001b[1;33m]\u001b[0m\u001b[1;33m[\u001b[0m\u001b[0mj\u001b[0m\u001b[1;33m]\u001b[0m\u001b[1;33m\u001b[0m\u001b[1;33m\u001b[0m\u001b[0m\n\u001b[0m\u001b[0;32m     17\u001b[0m     \u001b[0mprint\u001b[0m\u001b[1;33m(\u001b[0m\u001b[0mans\u001b[0m\u001b[1;33m)\u001b[0m\u001b[1;33m\u001b[0m\u001b[1;33m\u001b[0m\u001b[0m\n",
      "\u001b[1;31mIndexError\u001b[0m: list index out of range"
     ]
    }
   ],
   "source": [
    "N = int(input())\n",
    "S = [list(input()) for _ in range(N)]\n",
    "DX = [1,1,1]\n",
    "DY = [-1,0,1]\n",
    "\n",
    "for i in range(N-1,-1,-1):\n",
    "    for j in range(2*N-1):\n",
    "        for dx,dy in zip(DX,DY):\n",
    "            ni,nj = i+dx,j+dy\n",
    "            if ni <0 or ni>=N or nj <0 or nj >=(2*N-1):\n",
    "                continue\n",
    "            if S[ni][nj] == \"X\" and S[i][j] ==\"#\":\n",
    "                S[i][j] = \"X\"\n",
    "                break\n",
    "for a in S:\n",
    "    print(*a,sep=\"\")\n"
   ]
  },
  {
   "cell_type": "code",
   "execution_count": 131,
   "metadata": {},
   "outputs": [
    {
     "name": "stdout",
     "output_type": "stream",
     "text": [
      "0\n"
     ]
    }
   ],
   "source": [
    "for i in range(0,-1,-1):\n",
    "    print(i)"
   ]
  },
  {
   "cell_type": "code",
   "execution_count": null,
   "metadata": {},
   "outputs": [],
   "source": []
  }
 ],
 "metadata": {
  "kernelspec": {
   "display_name": "Python 3.10.8 64-bit (microsoft store)",
   "language": "python",
   "name": "python3"
  },
  "language_info": {
   "codemirror_mode": {
    "name": "ipython",
    "version": 3
   },
   "file_extension": ".py",
   "mimetype": "text/x-python",
   "name": "python",
   "nbconvert_exporter": "python",
   "pygments_lexer": "ipython3",
   "version": "3.10.9 (tags/v3.10.9:1dd9be6, Dec  6 2022, 20:01:21) [MSC v.1934 64 bit (AMD64)]"
  },
  "orig_nbformat": 4,
  "vscode": {
   "interpreter": {
    "hash": "aae2ebd738fb503f79c3d109fe81c29ed11ca24bff9da6d819743b78998e72b9"
   }
  }
 },
 "nbformat": 4,
 "nbformat_minor": 2
}
